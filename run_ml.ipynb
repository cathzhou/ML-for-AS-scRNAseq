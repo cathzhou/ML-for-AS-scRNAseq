{
 "cells": [
  {
   "cell_type": "code",
   "execution_count": 1,
   "metadata": {},
   "outputs": [
    {
     "data": {
      "text/html": [
       "\n",
       "    <div class=\"bk-root\">\n",
       "        <a href=\"https://bokeh.org\" target=\"_blank\" class=\"bk-logo bk-logo-small bk-logo-notebook\"></a>\n",
       "        <span id=\"1002\">Loading BokehJS ...</span>\n",
       "    </div>"
      ]
     },
     "metadata": {},
     "output_type": "display_data"
    },
    {
     "data": {
      "application/javascript": "\n(function(root) {\n  function now() {\n    return new Date();\n  }\n\n  const force = true;\n\n  if (typeof root._bokeh_onload_callbacks === \"undefined\" || force === true) {\n    root._bokeh_onload_callbacks = [];\n    root._bokeh_is_loading = undefined;\n  }\n\n  const JS_MIME_TYPE = 'application/javascript';\n  const HTML_MIME_TYPE = 'text/html';\n  const EXEC_MIME_TYPE = 'application/vnd.bokehjs_exec.v0+json';\n  const CLASS_NAME = 'output_bokeh rendered_html';\n\n  /**\n   * Render data to the DOM node\n   */\n  function render(props, node) {\n    const script = document.createElement(\"script\");\n    node.appendChild(script);\n  }\n\n  /**\n   * Handle when an output is cleared or removed\n   */\n  function handleClearOutput(event, handle) {\n    const cell = handle.cell;\n\n    const id = cell.output_area._bokeh_element_id;\n    const server_id = cell.output_area._bokeh_server_id;\n    // Clean up Bokeh references\n    if (id != null && id in Bokeh.index) {\n      Bokeh.index[id].model.document.clear();\n      delete Bokeh.index[id];\n    }\n\n    if (server_id !== undefined) {\n      // Clean up Bokeh references\n      const cmd_clean = \"from bokeh.io.state import curstate; print(curstate().uuid_to_server['\" + server_id + \"'].get_sessions()[0].document.roots[0]._id)\";\n      cell.notebook.kernel.execute(cmd_clean, {\n        iopub: {\n          output: function(msg) {\n            const id = msg.content.text.trim();\n            if (id in Bokeh.index) {\n              Bokeh.index[id].model.document.clear();\n              delete Bokeh.index[id];\n            }\n          }\n        }\n      });\n      // Destroy server and session\n      const cmd_destroy = \"import bokeh.io.notebook as ion; ion.destroy_server('\" + server_id + \"')\";\n      cell.notebook.kernel.execute(cmd_destroy);\n    }\n  }\n\n  /**\n   * Handle when a new output is added\n   */\n  function handleAddOutput(event, handle) {\n    const output_area = handle.output_area;\n    const output = handle.output;\n\n    // limit handleAddOutput to display_data with EXEC_MIME_TYPE content only\n    if ((output.output_type != \"display_data\") || (!Object.prototype.hasOwnProperty.call(output.data, EXEC_MIME_TYPE))) {\n      return\n    }\n\n    const toinsert = output_area.element.find(\".\" + CLASS_NAME.split(' ')[0]);\n\n    if (output.metadata[EXEC_MIME_TYPE][\"id\"] !== undefined) {\n      toinsert[toinsert.length - 1].firstChild.textContent = output.data[JS_MIME_TYPE];\n      // store reference to embed id on output_area\n      output_area._bokeh_element_id = output.metadata[EXEC_MIME_TYPE][\"id\"];\n    }\n    if (output.metadata[EXEC_MIME_TYPE][\"server_id\"] !== undefined) {\n      const bk_div = document.createElement(\"div\");\n      bk_div.innerHTML = output.data[HTML_MIME_TYPE];\n      const script_attrs = bk_div.children[0].attributes;\n      for (let i = 0; i < script_attrs.length; i++) {\n        toinsert[toinsert.length - 1].firstChild.setAttribute(script_attrs[i].name, script_attrs[i].value);\n        toinsert[toinsert.length - 1].firstChild.textContent = bk_div.children[0].textContent\n      }\n      // store reference to server id on output_area\n      output_area._bokeh_server_id = output.metadata[EXEC_MIME_TYPE][\"server_id\"];\n    }\n  }\n\n  function register_renderer(events, OutputArea) {\n\n    function append_mime(data, metadata, element) {\n      // create a DOM node to render to\n      const toinsert = this.create_output_subarea(\n        metadata,\n        CLASS_NAME,\n        EXEC_MIME_TYPE\n      );\n      this.keyboard_manager.register_events(toinsert);\n      // Render to node\n      const props = {data: data, metadata: metadata[EXEC_MIME_TYPE]};\n      render(props, toinsert[toinsert.length - 1]);\n      element.append(toinsert);\n      return toinsert\n    }\n\n    /* Handle when an output is cleared or removed */\n    events.on('clear_output.CodeCell', handleClearOutput);\n    events.on('delete.Cell', handleClearOutput);\n\n    /* Handle when a new output is added */\n    events.on('output_added.OutputArea', handleAddOutput);\n\n    /**\n     * Register the mime type and append_mime function with output_area\n     */\n    OutputArea.prototype.register_mime_type(EXEC_MIME_TYPE, append_mime, {\n      /* Is output safe? */\n      safe: true,\n      /* Index of renderer in `output_area.display_order` */\n      index: 0\n    });\n  }\n\n  // register the mime type if in Jupyter Notebook environment and previously unregistered\n  if (root.Jupyter !== undefined) {\n    const events = require('base/js/events');\n    const OutputArea = require('notebook/js/outputarea').OutputArea;\n\n    if (OutputArea.prototype.mime_types().indexOf(EXEC_MIME_TYPE) == -1) {\n      register_renderer(events, OutputArea);\n    }\n  }\n\n  \n  if (typeof (root._bokeh_timeout) === \"undefined\" || force === true) {\n    root._bokeh_timeout = Date.now() + 5000;\n    root._bokeh_failed_load = false;\n  }\n\n  const NB_LOAD_WARNING = {'data': {'text/html':\n     \"<div style='background-color: #fdd'>\\n\"+\n     \"<p>\\n\"+\n     \"BokehJS does not appear to have successfully loaded. If loading BokehJS from CDN, this \\n\"+\n     \"may be due to a slow or bad network connection. Possible fixes:\\n\"+\n     \"</p>\\n\"+\n     \"<ul>\\n\"+\n     \"<li>re-rerun `output_notebook()` to attempt to load from CDN again, or</li>\\n\"+\n     \"<li>use INLINE resources instead, as so:</li>\\n\"+\n     \"</ul>\\n\"+\n     \"<code>\\n\"+\n     \"from bokeh.resources import INLINE\\n\"+\n     \"output_notebook(resources=INLINE)\\n\"+\n     \"</code>\\n\"+\n     \"</div>\"}};\n\n  function display_loaded() {\n    const el = document.getElementById(\"1002\");\n    if (el != null) {\n      el.textContent = \"BokehJS is loading...\";\n    }\n    if (root.Bokeh !== undefined) {\n      if (el != null) {\n        el.textContent = \"BokehJS \" + root.Bokeh.version + \" successfully loaded.\";\n      }\n    } else if (Date.now() < root._bokeh_timeout) {\n      setTimeout(display_loaded, 100)\n    }\n  }\n\n\n  function run_callbacks() {\n    try {\n      root._bokeh_onload_callbacks.forEach(function(callback) {\n        if (callback != null)\n          callback();\n      });\n    } finally {\n      delete root._bokeh_onload_callbacks\n    }\n    console.debug(\"Bokeh: all callbacks have finished\");\n  }\n\n  function load_libs(css_urls, js_urls, callback) {\n    if (css_urls == null) css_urls = [];\n    if (js_urls == null) js_urls = [];\n\n    root._bokeh_onload_callbacks.push(callback);\n    if (root._bokeh_is_loading > 0) {\n      console.debug(\"Bokeh: BokehJS is being loaded, scheduling callback at\", now());\n      return null;\n    }\n    if (js_urls == null || js_urls.length === 0) {\n      run_callbacks();\n      return null;\n    }\n    console.debug(\"Bokeh: BokehJS not loaded, scheduling load and callback at\", now());\n    root._bokeh_is_loading = css_urls.length + js_urls.length;\n\n    function on_load() {\n      root._bokeh_is_loading--;\n      if (root._bokeh_is_loading === 0) {\n        console.debug(\"Bokeh: all BokehJS libraries/stylesheets loaded\");\n        run_callbacks()\n      }\n    }\n\n    function on_error(url) {\n      console.error(\"failed to load \" + url);\n    }\n\n    for (let i = 0; i < css_urls.length; i++) {\n      const url = css_urls[i];\n      const element = document.createElement(\"link\");\n      element.onload = on_load;\n      element.onerror = on_error.bind(null, url);\n      element.rel = \"stylesheet\";\n      element.type = \"text/css\";\n      element.href = url;\n      console.debug(\"Bokeh: injecting link tag for BokehJS stylesheet: \", url);\n      document.body.appendChild(element);\n    }\n\n    for (let i = 0; i < js_urls.length; i++) {\n      const url = js_urls[i];\n      const element = document.createElement('script');\n      element.onload = on_load;\n      element.onerror = on_error.bind(null, url);\n      element.async = false;\n      element.src = url;\n      console.debug(\"Bokeh: injecting script tag for BokehJS library: \", url);\n      document.head.appendChild(element);\n    }\n  };\n\n  function inject_raw_css(css) {\n    const element = document.createElement(\"style\");\n    element.appendChild(document.createTextNode(css));\n    document.body.appendChild(element);\n  }\n\n  \n  const js_urls = [\"https://cdn.bokeh.org/bokeh/release/bokeh-2.4.2.min.js\", \"https://cdn.bokeh.org/bokeh/release/bokeh-gl-2.4.2.min.js\", \"https://cdn.bokeh.org/bokeh/release/bokeh-widgets-2.4.2.min.js\", \"https://cdn.bokeh.org/bokeh/release/bokeh-tables-2.4.2.min.js\", \"https://cdn.bokeh.org/bokeh/release/bokeh-mathjax-2.4.2.min.js\"];\n  const css_urls = [];\n  \n\n  const inline_js = [\n    function(Bokeh) {\n      Bokeh.set_log_level(\"info\");\n    },\n    function(Bokeh) {\n    \n    \n    }\n  ];\n\n  function run_inline_js() {\n    \n    if (root.Bokeh !== undefined || force === true) {\n      \n    for (let i = 0; i < inline_js.length; i++) {\n      inline_js[i].call(root, root.Bokeh);\n    }\n    if (force === true) {\n        display_loaded();\n      }} else if (Date.now() < root._bokeh_timeout) {\n      setTimeout(run_inline_js, 100);\n    } else if (!root._bokeh_failed_load) {\n      console.log(\"Bokeh: BokehJS failed to load within specified timeout.\");\n      root._bokeh_failed_load = true;\n    } else if (force !== true) {\n      const cell = $(document.getElementById(\"1002\")).parents('.cell').data().cell;\n      cell.output_area.append_execute_result(NB_LOAD_WARNING)\n    }\n\n  }\n\n  if (root._bokeh_is_loading === 0) {\n    console.debug(\"Bokeh: BokehJS loaded, going straight to plotting\");\n    run_inline_js();\n  } else {\n    load_libs(css_urls, js_urls, function() {\n      console.debug(\"Bokeh: BokehJS plotting callback run at\", now());\n      run_inline_js();\n    });\n  }\n}(window));",
      "application/vnd.bokehjs_load.v0+json": ""
     },
     "metadata": {},
     "output_type": "display_data"
    }
   ],
   "source": [
    "from __future__ import division\n",
    "import pandas as pd\n",
    "import numpy as np\n",
    "import matplotlib.pyplot as plt\n",
    "import seaborn as sns\n",
    "from sklearn.preprocessing import OneHotEncoder\n",
    "from sklearn.metrics import accuracy_score, recall_score, confusion_matrix, roc_curve, auc\n",
    "from sklearn.ensemble import RandomForestClassifier\n",
    "from bokeh.plotting import figure, show\n",
    "from bokeh.io import output_notebook\n",
    "output_notebook()\n",
    "%matplotlib inline\n",
    "\n",
    "from keras.models import Sequential\n",
    "from keras.layers.core import Dense, Dropout\n",
    "from keras.regularizers import l1, l2\n",
    "from keras.models import model_from_json"
   ]
  },
  {
   "cell_type": "code",
   "execution_count": 55,
   "metadata": {},
   "outputs": [],
   "source": [
    "file = \"/Users/catherinez/Research/ISMB/teich_psi_values_filtered_var_t_input.csv\"\n",
    "out_path = \"/Users/catherinez/Research/ISMB/out\"\n",
    "expression = np.loadtxt(file, dtype=float, delimiter=\",\", skiprows=1)"
   ]
  },
  {
   "cell_type": "code",
   "execution_count": 291,
   "metadata": {},
   "outputs": [
    {
     "data": {
      "text/plain": [
       "(10097,)"
      ]
     },
     "execution_count": 291,
     "metadata": {},
     "output_type": "execute_result"
    }
   ],
   "source": [
    "feature_names = np.loadtxt((open(file,'rt').readlines()[:1]), delimiter=\",\", dtype=str)\n",
    "feature_names = feature_names[:-1]\n",
    "len(feature_names)\n",
    "feature_names.shape"
   ]
  },
  {
   "cell_type": "code",
   "execution_count": 97,
   "metadata": {},
   "outputs": [],
   "source": [
    "label_vec = np.array(expression[:,-1], dtype=int)\n",
    "expression = np.array(expression[:,:-1])"
   ]
  },
  {
   "cell_type": "code",
   "execution_count": 98,
   "metadata": {},
   "outputs": [
    {
     "data": {
      "text/html": [
       "<div>\n",
       "<style scoped>\n",
       "    .dataframe tbody tr th:only-of-type {\n",
       "        vertical-align: middle;\n",
       "    }\n",
       "\n",
       "    .dataframe tbody tr th {\n",
       "        vertical-align: top;\n",
       "    }\n",
       "\n",
       "    .dataframe thead th {\n",
       "        text-align: right;\n",
       "    }\n",
       "</style>\n",
       "<table border=\"1\" class=\"dataframe\">\n",
       "  <thead>\n",
       "    <tr style=\"text-align: right;\">\n",
       "      <th></th>\n",
       "      <th>0</th>\n",
       "      <th>1</th>\n",
       "      <th>2</th>\n",
       "      <th>3</th>\n",
       "      <th>4</th>\n",
       "      <th>5</th>\n",
       "      <th>6</th>\n",
       "      <th>7</th>\n",
       "      <th>8</th>\n",
       "      <th>9</th>\n",
       "      <th>...</th>\n",
       "      <th>10087</th>\n",
       "      <th>10088</th>\n",
       "      <th>10089</th>\n",
       "      <th>10090</th>\n",
       "      <th>10091</th>\n",
       "      <th>10092</th>\n",
       "      <th>10093</th>\n",
       "      <th>10094</th>\n",
       "      <th>10095</th>\n",
       "      <th>10096</th>\n",
       "    </tr>\n",
       "  </thead>\n",
       "  <tbody>\n",
       "    <tr>\n",
       "      <th>0</th>\n",
       "      <td>0.0</td>\n",
       "      <td>0.0</td>\n",
       "      <td>0.0</td>\n",
       "      <td>0.0</td>\n",
       "      <td>0.0</td>\n",
       "      <td>0.500000</td>\n",
       "      <td>0.000000</td>\n",
       "      <td>0.0</td>\n",
       "      <td>0.0</td>\n",
       "      <td>0.0</td>\n",
       "      <td>...</td>\n",
       "      <td>0.0</td>\n",
       "      <td>0.0</td>\n",
       "      <td>0.0</td>\n",
       "      <td>0.0</td>\n",
       "      <td>0.000000</td>\n",
       "      <td>0.0</td>\n",
       "      <td>0.0</td>\n",
       "      <td>0.0</td>\n",
       "      <td>0.0</td>\n",
       "      <td>0.0</td>\n",
       "    </tr>\n",
       "    <tr>\n",
       "      <th>1</th>\n",
       "      <td>0.0</td>\n",
       "      <td>0.0</td>\n",
       "      <td>0.0</td>\n",
       "      <td>0.0</td>\n",
       "      <td>0.0</td>\n",
       "      <td>0.000000</td>\n",
       "      <td>0.700000</td>\n",
       "      <td>0.5</td>\n",
       "      <td>1.0</td>\n",
       "      <td>0.0</td>\n",
       "      <td>...</td>\n",
       "      <td>0.0</td>\n",
       "      <td>0.0</td>\n",
       "      <td>0.0</td>\n",
       "      <td>0.0</td>\n",
       "      <td>0.000000</td>\n",
       "      <td>1.0</td>\n",
       "      <td>0.0</td>\n",
       "      <td>0.0</td>\n",
       "      <td>0.0</td>\n",
       "      <td>0.0</td>\n",
       "    </tr>\n",
       "    <tr>\n",
       "      <th>2</th>\n",
       "      <td>0.0</td>\n",
       "      <td>0.0</td>\n",
       "      <td>0.0</td>\n",
       "      <td>0.0</td>\n",
       "      <td>0.0</td>\n",
       "      <td>0.000000</td>\n",
       "      <td>0.000000</td>\n",
       "      <td>0.0</td>\n",
       "      <td>0.0</td>\n",
       "      <td>0.0</td>\n",
       "      <td>...</td>\n",
       "      <td>0.0</td>\n",
       "      <td>0.0</td>\n",
       "      <td>0.0</td>\n",
       "      <td>0.0</td>\n",
       "      <td>0.000000</td>\n",
       "      <td>0.0</td>\n",
       "      <td>0.0</td>\n",
       "      <td>0.0</td>\n",
       "      <td>0.0</td>\n",
       "      <td>0.0</td>\n",
       "    </tr>\n",
       "    <tr>\n",
       "      <th>3</th>\n",
       "      <td>0.0</td>\n",
       "      <td>0.0</td>\n",
       "      <td>0.0</td>\n",
       "      <td>0.0</td>\n",
       "      <td>0.0</td>\n",
       "      <td>0.000000</td>\n",
       "      <td>0.833333</td>\n",
       "      <td>0.0</td>\n",
       "      <td>0.0</td>\n",
       "      <td>0.0</td>\n",
       "      <td>...</td>\n",
       "      <td>0.0</td>\n",
       "      <td>0.0</td>\n",
       "      <td>0.0</td>\n",
       "      <td>0.0</td>\n",
       "      <td>0.000000</td>\n",
       "      <td>0.0</td>\n",
       "      <td>1.0</td>\n",
       "      <td>0.0</td>\n",
       "      <td>0.0</td>\n",
       "      <td>0.0</td>\n",
       "    </tr>\n",
       "    <tr>\n",
       "      <th>4</th>\n",
       "      <td>0.0</td>\n",
       "      <td>0.0</td>\n",
       "      <td>0.0</td>\n",
       "      <td>0.0</td>\n",
       "      <td>0.0</td>\n",
       "      <td>0.000000</td>\n",
       "      <td>0.000000</td>\n",
       "      <td>0.0</td>\n",
       "      <td>0.0</td>\n",
       "      <td>0.0</td>\n",
       "      <td>...</td>\n",
       "      <td>0.0</td>\n",
       "      <td>0.0</td>\n",
       "      <td>0.0</td>\n",
       "      <td>0.0</td>\n",
       "      <td>0.000000</td>\n",
       "      <td>0.0</td>\n",
       "      <td>0.0</td>\n",
       "      <td>0.0</td>\n",
       "      <td>0.0</td>\n",
       "      <td>0.0</td>\n",
       "    </tr>\n",
       "    <tr>\n",
       "      <th>...</th>\n",
       "      <td>...</td>\n",
       "      <td>...</td>\n",
       "      <td>...</td>\n",
       "      <td>...</td>\n",
       "      <td>...</td>\n",
       "      <td>...</td>\n",
       "      <td>...</td>\n",
       "      <td>...</td>\n",
       "      <td>...</td>\n",
       "      <td>...</td>\n",
       "      <td>...</td>\n",
       "      <td>...</td>\n",
       "      <td>...</td>\n",
       "      <td>...</td>\n",
       "      <td>...</td>\n",
       "      <td>...</td>\n",
       "      <td>...</td>\n",
       "      <td>...</td>\n",
       "      <td>...</td>\n",
       "      <td>...</td>\n",
       "      <td>...</td>\n",
       "    </tr>\n",
       "    <tr>\n",
       "      <th>1100</th>\n",
       "      <td>0.0</td>\n",
       "      <td>0.0</td>\n",
       "      <td>0.0</td>\n",
       "      <td>0.0</td>\n",
       "      <td>0.0</td>\n",
       "      <td>0.000000</td>\n",
       "      <td>0.733333</td>\n",
       "      <td>0.0</td>\n",
       "      <td>0.0</td>\n",
       "      <td>0.0</td>\n",
       "      <td>...</td>\n",
       "      <td>0.0</td>\n",
       "      <td>0.0</td>\n",
       "      <td>0.0</td>\n",
       "      <td>0.0</td>\n",
       "      <td>0.000000</td>\n",
       "      <td>0.0</td>\n",
       "      <td>0.0</td>\n",
       "      <td>0.0</td>\n",
       "      <td>0.0</td>\n",
       "      <td>0.0</td>\n",
       "    </tr>\n",
       "    <tr>\n",
       "      <th>1101</th>\n",
       "      <td>0.0</td>\n",
       "      <td>0.0</td>\n",
       "      <td>0.0</td>\n",
       "      <td>0.0</td>\n",
       "      <td>0.0</td>\n",
       "      <td>0.238095</td>\n",
       "      <td>0.760000</td>\n",
       "      <td>0.0</td>\n",
       "      <td>0.0</td>\n",
       "      <td>0.0</td>\n",
       "      <td>...</td>\n",
       "      <td>0.0</td>\n",
       "      <td>0.0</td>\n",
       "      <td>0.0</td>\n",
       "      <td>0.0</td>\n",
       "      <td>0.250000</td>\n",
       "      <td>0.0</td>\n",
       "      <td>0.0</td>\n",
       "      <td>0.0</td>\n",
       "      <td>0.0</td>\n",
       "      <td>0.0</td>\n",
       "    </tr>\n",
       "    <tr>\n",
       "      <th>1102</th>\n",
       "      <td>0.0</td>\n",
       "      <td>0.0</td>\n",
       "      <td>0.0</td>\n",
       "      <td>0.0</td>\n",
       "      <td>0.0</td>\n",
       "      <td>0.000000</td>\n",
       "      <td>0.000000</td>\n",
       "      <td>0.0</td>\n",
       "      <td>0.0</td>\n",
       "      <td>0.0</td>\n",
       "      <td>...</td>\n",
       "      <td>0.0</td>\n",
       "      <td>0.0</td>\n",
       "      <td>0.0</td>\n",
       "      <td>0.0</td>\n",
       "      <td>1.000000</td>\n",
       "      <td>0.0</td>\n",
       "      <td>0.0</td>\n",
       "      <td>0.0</td>\n",
       "      <td>0.0</td>\n",
       "      <td>0.0</td>\n",
       "    </tr>\n",
       "    <tr>\n",
       "      <th>1103</th>\n",
       "      <td>0.0</td>\n",
       "      <td>0.0</td>\n",
       "      <td>0.0</td>\n",
       "      <td>0.0</td>\n",
       "      <td>0.0</td>\n",
       "      <td>0.000000</td>\n",
       "      <td>0.000000</td>\n",
       "      <td>0.0</td>\n",
       "      <td>0.0</td>\n",
       "      <td>0.0</td>\n",
       "      <td>...</td>\n",
       "      <td>0.0</td>\n",
       "      <td>0.0</td>\n",
       "      <td>0.0</td>\n",
       "      <td>0.0</td>\n",
       "      <td>0.000000</td>\n",
       "      <td>0.0</td>\n",
       "      <td>0.0</td>\n",
       "      <td>0.0</td>\n",
       "      <td>0.0</td>\n",
       "      <td>0.0</td>\n",
       "    </tr>\n",
       "    <tr>\n",
       "      <th>1104</th>\n",
       "      <td>0.0</td>\n",
       "      <td>0.0</td>\n",
       "      <td>0.0</td>\n",
       "      <td>0.0</td>\n",
       "      <td>0.0</td>\n",
       "      <td>0.333333</td>\n",
       "      <td>0.692308</td>\n",
       "      <td>0.0</td>\n",
       "      <td>1.0</td>\n",
       "      <td>0.0</td>\n",
       "      <td>...</td>\n",
       "      <td>0.0</td>\n",
       "      <td>0.0</td>\n",
       "      <td>0.0</td>\n",
       "      <td>0.0</td>\n",
       "      <td>0.166667</td>\n",
       "      <td>1.0</td>\n",
       "      <td>0.0</td>\n",
       "      <td>0.0</td>\n",
       "      <td>0.0</td>\n",
       "      <td>0.0</td>\n",
       "    </tr>\n",
       "  </tbody>\n",
       "</table>\n",
       "<p>1105 rows × 10097 columns</p>\n",
       "</div>"
      ],
      "text/plain": [
       "      0      1      2      3      4         5         6      7      8      \\\n",
       "0       0.0    0.0    0.0    0.0    0.0  0.500000  0.000000    0.0    0.0   \n",
       "1       0.0    0.0    0.0    0.0    0.0  0.000000  0.700000    0.5    1.0   \n",
       "2       0.0    0.0    0.0    0.0    0.0  0.000000  0.000000    0.0    0.0   \n",
       "3       0.0    0.0    0.0    0.0    0.0  0.000000  0.833333    0.0    0.0   \n",
       "4       0.0    0.0    0.0    0.0    0.0  0.000000  0.000000    0.0    0.0   \n",
       "...     ...    ...    ...    ...    ...       ...       ...    ...    ...   \n",
       "1100    0.0    0.0    0.0    0.0    0.0  0.000000  0.733333    0.0    0.0   \n",
       "1101    0.0    0.0    0.0    0.0    0.0  0.238095  0.760000    0.0    0.0   \n",
       "1102    0.0    0.0    0.0    0.0    0.0  0.000000  0.000000    0.0    0.0   \n",
       "1103    0.0    0.0    0.0    0.0    0.0  0.000000  0.000000    0.0    0.0   \n",
       "1104    0.0    0.0    0.0    0.0    0.0  0.333333  0.692308    0.0    1.0   \n",
       "\n",
       "      9      ...  10087  10088  10089  10090     10091  10092  10093  10094  \\\n",
       "0       0.0  ...    0.0    0.0    0.0    0.0  0.000000    0.0    0.0    0.0   \n",
       "1       0.0  ...    0.0    0.0    0.0    0.0  0.000000    1.0    0.0    0.0   \n",
       "2       0.0  ...    0.0    0.0    0.0    0.0  0.000000    0.0    0.0    0.0   \n",
       "3       0.0  ...    0.0    0.0    0.0    0.0  0.000000    0.0    1.0    0.0   \n",
       "4       0.0  ...    0.0    0.0    0.0    0.0  0.000000    0.0    0.0    0.0   \n",
       "...     ...  ...    ...    ...    ...    ...       ...    ...    ...    ...   \n",
       "1100    0.0  ...    0.0    0.0    0.0    0.0  0.000000    0.0    0.0    0.0   \n",
       "1101    0.0  ...    0.0    0.0    0.0    0.0  0.250000    0.0    0.0    0.0   \n",
       "1102    0.0  ...    0.0    0.0    0.0    0.0  1.000000    0.0    0.0    0.0   \n",
       "1103    0.0  ...    0.0    0.0    0.0    0.0  0.000000    0.0    0.0    0.0   \n",
       "1104    0.0  ...    0.0    0.0    0.0    0.0  0.166667    1.0    0.0    0.0   \n",
       "\n",
       "      10095  10096  \n",
       "0       0.0    0.0  \n",
       "1       0.0    0.0  \n",
       "2       0.0    0.0  \n",
       "3       0.0    0.0  \n",
       "4       0.0    0.0  \n",
       "...     ...    ...  \n",
       "1100    0.0    0.0  \n",
       "1101    0.0    0.0  \n",
       "1102    0.0    0.0  \n",
       "1103    0.0    0.0  \n",
       "1104    0.0    0.0  \n",
       "\n",
       "[1105 rows x 10097 columns]"
      ]
     },
     "execution_count": 98,
     "metadata": {},
     "output_type": "execute_result"
    }
   ],
   "source": [
    "pd.DataFrame(expression)"
   ]
  },
  {
   "cell_type": "markdown",
   "metadata": {},
   "source": [
    "Creating training, testing, validation sets"
   ]
  },
  {
   "cell_type": "code",
   "execution_count": 11,
   "metadata": {},
   "outputs": [],
   "source": [
    "from sklearn.model_selection import StratifiedShuffleSplit\n",
    "\n",
    "split = StratifiedShuffleSplit(n_splits=1, test_size=0.2, random_state=20)\n",
    "for train_index, test_index in split.split(expression, label_vec):\n",
    "    X_train, X_test = expression[train_index], expression[test_index]\n",
    "    y_train, y_test = label_vec[train_index], label_vec[test_index]\n",
    "\n",
    "split2 = StratifiedShuffleSplit(n_splits=1, test_size=0.25, random_state=20)\n",
    "for train_index, test_index in split.split(X_train, y_train):\n",
    "    X_train, X_valid = X_train[train_index], X_train[test_index]\n",
    "    y_train, y_valid = y_train[train_index], y_train[test_index]\n"
   ]
  },
  {
   "cell_type": "code",
   "execution_count": 16,
   "metadata": {},
   "outputs": [
    {
     "name": "stdout",
     "output_type": "stream",
     "text": [
      "Training set labels:\n",
      " label 0: 0.54\n",
      " label 1: 0.46\n",
      "Training set size: 707\n",
      "Testing set labels:\n",
      " label 0: 0.54\n",
      " label 1: 0.46\n",
      "Testing set size: 221\n",
      "Validation set labels:\n",
      " label 0: 0.54\n",
      " label 1: 0.46\n",
      "Validation set size: 177\n"
     ]
    }
   ],
   "source": [
    "print(\"Training set labels:\\n label 0: {0:.2f}\\n label 1: {1:.2f}\".format(sum(y_train==0)/len(y_train),\n",
    "                                                               sum(y_train==1)/len(y_train)))\n",
    "print(\"Training set size:\", len(y_train))\n",
    "print(\"Testing set labels:\\n label 0: {0:.2f}\\n label 1: {1:.2f}\".format(sum(y_test==0)/len(y_test),\n",
    "                                                               sum(y_test==1)/len(y_test)))\n",
    "print(\"Testing set size:\", len(y_test))\n",
    "print(\"Validation set labels:\\n label 0: {0:.2f}\\n label 1: {1:.2f}\".format(sum(y_valid==0)/len(y_valid),\n",
    "                                                               sum(y_valid==1)/len(y_valid)))\n",
    "print(\"Validation set size:\", len(y_valid))"
   ]
  },
  {
   "cell_type": "code",
   "execution_count": 20,
   "metadata": {},
   "outputs": [
    {
     "data": {
      "text/plain": [
       "array([[1., 0.],\n",
       "       [0., 1.],\n",
       "       [1., 0.],\n",
       "       ...,\n",
       "       [0., 1.],\n",
       "       [0., 1.],\n",
       "       [1., 0.]])"
      ]
     },
     "execution_count": 20,
     "metadata": {},
     "output_type": "execute_result"
    }
   ],
   "source": [
    "enc = OneHotEncoder()\n",
    "enc.fit(np.array([0,1]).reshape(-1,1))\n",
    "y_train_ohe = enc.transform(y_train.reshape(-1,1)).toarray()\n",
    "y_train_ohe"
   ]
  },
  {
   "cell_type": "markdown",
   "metadata": {},
   "source": [
    "Don't use this part"
   ]
  },
  {
   "cell_type": "code",
   "execution_count": 133,
   "metadata": {},
   "outputs": [],
   "source": [
    "from sklearn.model_selection import GridSearchCV"
   ]
  },
  {
   "cell_type": "code",
   "execution_count": 131,
   "metadata": {},
   "outputs": [],
   "source": [
    "test_rfc = RandomForestClassifier(random_state=20)"
   ]
  },
  {
   "cell_type": "code",
   "execution_count": 137,
   "metadata": {},
   "outputs": [],
   "source": [
    "param_grid = { \n",
    "    'n_estimators': [50, 100, 200, 400, 500, 600, 800, 1000, 2000],\n",
    "    'criterion' :['gini', 'entropy']\n",
    "}"
   ]
  },
  {
   "cell_type": "code",
   "execution_count": 138,
   "metadata": {},
   "outputs": [
    {
     "data": {
      "text/plain": [
       "GridSearchCV(estimator=RandomForestClassifier(random_state=20),\n",
       "             param_grid={'criterion': ['gini', 'entropy'],\n",
       "                         'n_estimators': [50, 100, 200, 400, 500, 600, 800,\n",
       "                                          1000, 2000]})"
      ]
     },
     "execution_count": 138,
     "metadata": {},
     "output_type": "execute_result"
    }
   ],
   "source": [
    "CV_rfc = GridSearchCV(estimator=test_rfc, param_grid=param_grid)\n",
    "CV_rfc.fit(X_train, y_train)"
   ]
  },
  {
   "cell_type": "code",
   "execution_count": 151,
   "metadata": {},
   "outputs": [
    {
     "data": {
      "text/plain": [
       "RandomForestClassifier(n_estimators=200, oob_score=True)"
      ]
     },
     "execution_count": 151,
     "metadata": {},
     "output_type": "execute_result"
    }
   ],
   "source": [
    "n_trees = 300\n",
    "rf = RandomForestClassifier(n_estimators=n_trees,oob_score=True)\n",
    "rf.fit(X_train, y_train)"
   ]
  },
  {
   "cell_type": "code",
   "execution_count": 155,
   "metadata": {},
   "outputs": [],
   "source": [
    "def specificity(y_true, preds):\n",
    "    return len(preds[(preds==0)&(y_true==0)])/(len(y_true[y_true==0]))"
   ]
  },
  {
   "cell_type": "code",
   "execution_count": 157,
   "metadata": {},
   "outputs": [
    {
     "name": "stdout",
     "output_type": "stream",
     "text": [
      "0.8870056497175142\n",
      "0.9506172839506173\n",
      "0.8333333333333334\n"
     ]
    }
   ],
   "source": [
    "preds_rf_training = rf.predict(X_valid)\n",
    "probs_rf = rf.predict_proba(X_valid)\n",
    "print(accuracy_score(y_valid,preds_rf_training))\n",
    "print(recall_score(y_valid,preds_rf_training))\n",
    "print(specificity(y_valid,preds_rf_training))"
   ]
  },
  {
   "cell_type": "code",
   "execution_count": null,
   "metadata": {},
   "outputs": [],
   "source": [
    "for i in (100, 200, 300, 400, 500, 600, 700, 800, 900, 1000):\n",
    "    rf = RandomForestClassifier(n_estimators=i,oob_score=True)\n",
    "    rf.fit(X_train, y_train)\n",
    "    preds_rf_training = rf.predict(X_valid)\n",
    "    probs_rf = rf.predict_proba(X_valid)\n",
    "    oob_preds = rf.oob_decision_function_\n",
    "    oob_labels = np.argmax(oob_preds,axis=1)\n",
    "    print(\"num trees: \", i)\n",
    "    print(\"oob: \", accuracy_score(y_train, oob_labels))\n",
    "    print(\"accuracy: \", accuracy_score(y_valid,preds_rf_training))\n",
    "    print(\"recall: \", recall_score(y_valid,preds_rf_training))\n",
    "    print(\"specificity: \", specificity(y_valid,preds_rf_training))"
   ]
  },
  {
   "cell_type": "code",
   "execution_count": 296,
   "metadata": {},
   "outputs": [
    {
     "data": {
      "text/plain": [
       "RandomForestClassifier(n_estimators=600, oob_score=True, random_state=20)"
      ]
     },
     "execution_count": 296,
     "metadata": {},
     "output_type": "execute_result"
    }
   ],
   "source": [
    "n_trees = 600\n",
    "rf = RandomForestClassifier(n_estimators=n_trees,oob_score=True, random_state=20)\n",
    "rf.fit(X_train, y_train)"
   ]
  },
  {
   "cell_type": "code",
   "execution_count": 297,
   "metadata": {},
   "outputs": [
    {
     "name": "stdout",
     "output_type": "stream",
     "text": [
      "0.9096045197740112\n",
      "0.9629629629629629\n",
      "0.8645833333333334\n"
     ]
    }
   ],
   "source": [
    "preds_rf_training = rf.predict(X_valid)\n",
    "probs_rf = rf.predict_proba(X_valid)\n",
    "print(accuracy_score(y_valid,preds_rf_training))\n",
    "print(recall_score(y_valid,preds_rf_training))\n",
    "print(specificity(y_valid,preds_rf_training))"
   ]
  },
  {
   "cell_type": "code",
   "execution_count": 573,
   "metadata": {},
   "outputs": [
    {
     "name": "stdout",
     "output_type": "stream",
     "text": [
      "0.918552036199095\n",
      "0.9702970297029703\n",
      "0.875\n"
     ]
    }
   ],
   "source": [
    "preds_rf_test = rf.predict(X_test)\n",
    "probs_rf = rf.predict_proba(X_test)\n",
    "print(accuracy_score(y_test,preds_rf_test))\n",
    "print(recall_score(y_test,preds_rf_test))\n",
    "print(specificity(y_test,preds_rf_test))"
   ]
  },
  {
   "cell_type": "code",
   "execution_count": 298,
   "metadata": {},
   "outputs": [],
   "source": [
    "def assess(y_true, preds, name='classifier'):\n",
    "    if (len(preds[preds==0]))!=0 :\n",
    "        specificity = len(preds[(preds==0)&(y_true==0)])/(len(y_true[y_true==0]))\n",
    "    else:\n",
    "        specificity = 0\n",
    "    plt.figure(figsize = (10,7))\n",
    "    cm = confusion_matrix(y_true,preds)\n",
    "    sns.heatmap(cm, annot = True,fmt = 'd', annot_kws={\"fontsize\":20})\n",
    "    plt.title('Confusion Matrix for {0}'.format(name), fontsize=30)\n",
    "    plt.xlabel(\"Accuracy: {0:.2f} \\nRecall: {1:.2f}\\nSpecificity: {2:.2f}\".format(accuracy_score(y_true,preds),\n",
    "                                                                      recall_score(y_true, preds),\n",
    "                                                                      specificity),fontsize= 20)\n",
    "    plt.xticks(fontsize=20)\n",
    "    plt.yticks(fontsize=20)\n",
    "    return cm\n"
   ]
  },
  {
   "cell_type": "code",
   "execution_count": 570,
   "metadata": {},
   "outputs": [
    {
     "data": {
      "text/plain": [
       "array([[83, 13],\n",
       "       [ 3, 78]])"
      ]
     },
     "execution_count": 570,
     "metadata": {},
     "output_type": "execute_result"
    },
    {
     "data": {
      "image/png": "[encoded data removed]",
      "text/plain": [
       "<Figure size 720x504 with 2 Axes>"
      ]
     },
     "metadata": {
      "needs_background": "light"
     },
     "output_type": "display_data"
    }
   ],
   "source": [
    "assess(y_valid,preds_rf_training,'Random Forest Validation')"
   ]
  },
  {
   "cell_type": "code",
   "execution_count": 300,
   "metadata": {},
   "outputs": [
    {
     "name": "stdout",
     "output_type": "stream",
     "text": [
      "OOB Accuracy: 0.90\n",
      "Training Accuracy: 1.00\n"
     ]
    }
   ],
   "source": [
    "oob_preds = rf.oob_decision_function_\n",
    "oob_labels = np.argmax(oob_preds,axis=1)\n",
    "print(\"OOB Accuracy: {0:.2f}\".format(accuracy_score(y_train, oob_labels)))\n",
    "print(\"Training Accuracy: {0:.2f}\".format(accuracy_score(y_train, rf.predict(X_train))))"
   ]
  },
  {
   "cell_type": "code",
   "execution_count": 301,
   "metadata": {},
   "outputs": [
    {
     "data": {
      "text/plain": [
       "0.8981612446958982"
      ]
     },
     "execution_count": 301,
     "metadata": {},
     "output_type": "execute_result"
    }
   ],
   "source": [
    "accuracy_score(y_train, oob_labels)"
   ]
  },
  {
   "cell_type": "code",
   "execution_count": 302,
   "metadata": {},
   "outputs": [],
   "source": [
    "confused_oob = np.where(y_train!=oob_labels)"
   ]
  },
  {
   "cell_type": "code",
   "execution_count": 303,
   "metadata": {},
   "outputs": [
    {
     "data": {
      "text/plain": [
       "(array([  9,  16,  20,  28,  79,  86, 109, 114, 141, 148, 154, 160, 165,\n",
       "        178, 201, 205, 209, 217, 235, 243, 249, 254, 267, 305, 319, 322,\n",
       "        323, 341, 351, 353, 363, 382, 383, 384, 396, 417, 421, 424, 440,\n",
       "        443, 452, 461, 467, 469, 482, 507, 537, 538, 540, 545, 550, 554,\n",
       "        559, 562, 563, 567, 592, 600, 605, 607, 611, 633, 644, 652, 654,\n",
       "        656, 663, 674, 678, 688, 690, 697]),)"
      ]
     },
     "execution_count": 303,
     "metadata": {},
     "output_type": "execute_result"
    }
   ],
   "source": [
    "confused_oob"
   ]
  },
  {
   "cell_type": "code",
   "execution_count": 304,
   "metadata": {},
   "outputs": [],
   "source": [
    "all_importances = rf.feature_importances_\n",
    "all_std = np.std([tree.feature_importances_ for tree in rf.estimators_],\n",
    "             axis=0)\n",
    "all_indices = np.argsort(all_importances)[::-1]"
   ]
  },
  {
   "cell_type": "code",
   "execution_count": 305,
   "metadata": {},
   "outputs": [
    {
     "data": {
      "text/plain": [
       "(10097,)"
      ]
     },
     "execution_count": 305,
     "metadata": {},
     "output_type": "execute_result"
    }
   ],
   "source": [
    "all_importances.shape"
   ]
  },
  {
   "cell_type": "code",
   "execution_count": 520,
   "metadata": {},
   "outputs": [],
   "source": [
    "all_feature_importances_ranked = pd.DataFrame({'Importance': all_importances, 'Feature': feature_names})\n",
    "all_feature_importances_ranked = all_feature_importances_ranked.sort_values(by='Importance', ascending=False)"
   ]
  },
  {
   "cell_type": "code",
   "execution_count": 521,
   "metadata": {},
   "outputs": [
    {
     "data": {
      "text/html": [
       "<div>\n",
       "<style scoped>\n",
       "    .dataframe tbody tr th:only-of-type {\n",
       "        vertical-align: middle;\n",
       "    }\n",
       "\n",
       "    .dataframe tbody tr th {\n",
       "        vertical-align: top;\n",
       "    }\n",
       "\n",
       "    .dataframe thead th {\n",
       "        text-align: right;\n",
       "    }\n",
       "</style>\n",
       "<table border=\"1\" class=\"dataframe\">\n",
       "  <thead>\n",
       "    <tr style=\"text-align: right;\">\n",
       "      <th></th>\n",
       "      <th>Importance</th>\n",
       "      <th>Feature</th>\n",
       "    </tr>\n",
       "  </thead>\n",
       "  <tbody>\n",
       "    <tr>\n",
       "      <th>1709</th>\n",
       "      <td>0.013475</td>\n",
       "      <td>Larp1b_chr3_+_40990200_40990310</td>\n",
       "    </tr>\n",
       "    <tr>\n",
       "      <th>4935</th>\n",
       "      <td>0.012824</td>\n",
       "      <td>Usp3_chr9_-_66449794_66449895</td>\n",
       "    </tr>\n",
       "    <tr>\n",
       "      <th>4840</th>\n",
       "      <td>0.009249</td>\n",
       "      <td>Arhgef12_chr9_-_42955559_42955583</td>\n",
       "    </tr>\n",
       "    <tr>\n",
       "      <th>2078</th>\n",
       "      <td>0.008929</td>\n",
       "      <td>Dio1_chr4_-_107154793_107154937</td>\n",
       "    </tr>\n",
       "    <tr>\n",
       "      <th>1609</th>\n",
       "      <td>0.008527</td>\n",
       "      <td>Abcd3_chr3_-_121570645_121570715</td>\n",
       "    </tr>\n",
       "    <tr>\n",
       "      <th>...</th>\n",
       "      <td>...</td>\n",
       "      <td>...</td>\n",
       "    </tr>\n",
       "    <tr>\n",
       "      <th>5177</th>\n",
       "      <td>0.000000</td>\n",
       "      <td>Gm29909_chr9_+_43526739_43526836</td>\n",
       "    </tr>\n",
       "    <tr>\n",
       "      <th>5180</th>\n",
       "      <td>0.000000</td>\n",
       "      <td>Ccdc153_chr9_+_44154310_44154430</td>\n",
       "    </tr>\n",
       "    <tr>\n",
       "      <th>5194</th>\n",
       "      <td>0.000000</td>\n",
       "      <td>Usp28_chr9_+_48912807_48912940</td>\n",
       "    </tr>\n",
       "    <tr>\n",
       "      <th>5195</th>\n",
       "      <td>0.000000</td>\n",
       "      <td>Usp28_chr9_+_48919728_48919815</td>\n",
       "    </tr>\n",
       "    <tr>\n",
       "      <th>5048</th>\n",
       "      <td>0.000000</td>\n",
       "      <td>Ccrl2_chr9_-_110885833_110885950</td>\n",
       "    </tr>\n",
       "  </tbody>\n",
       "</table>\n",
       "<p>10097 rows × 2 columns</p>\n",
       "</div>"
      ],
      "text/plain": [
       "      Importance                            Feature\n",
       "1709    0.013475    Larp1b_chr3_+_40990200_40990310\n",
       "4935    0.012824      Usp3_chr9_-_66449794_66449895\n",
       "4840    0.009249  Arhgef12_chr9_-_42955559_42955583\n",
       "2078    0.008929    Dio1_chr4_-_107154793_107154937\n",
       "1609    0.008527   Abcd3_chr3_-_121570645_121570715\n",
       "...          ...                                ...\n",
       "5177    0.000000   Gm29909_chr9_+_43526739_43526836\n",
       "5180    0.000000   Ccdc153_chr9_+_44154310_44154430\n",
       "5194    0.000000     Usp28_chr9_+_48912807_48912940\n",
       "5195    0.000000     Usp28_chr9_+_48919728_48919815\n",
       "5048    0.000000   Ccrl2_chr9_-_110885833_110885950\n",
       "\n",
       "[10097 rows x 2 columns]"
      ]
     },
     "execution_count": 521,
     "metadata": {},
     "output_type": "execute_result"
    }
   ],
   "source": [
    "all_feature_importances_ranked"
   ]
  },
  {
   "cell_type": "code",
   "execution_count": 524,
   "metadata": {},
   "outputs": [],
   "source": [
    "all_feature_importances_ranked.reset_index(inplace=True)"
   ]
  },
  {
   "cell_type": "code",
   "execution_count": 525,
   "metadata": {},
   "outputs": [
    {
     "data": {
      "text/html": [
       "<div>\n",
       "<style scoped>\n",
       "    .dataframe tbody tr th:only-of-type {\n",
       "        vertical-align: middle;\n",
       "    }\n",
       "\n",
       "    .dataframe tbody tr th {\n",
       "        vertical-align: top;\n",
       "    }\n",
       "\n",
       "    .dataframe thead th {\n",
       "        text-align: right;\n",
       "    }\n",
       "</style>\n",
       "<table border=\"1\" class=\"dataframe\">\n",
       "  <thead>\n",
       "    <tr style=\"text-align: right;\">\n",
       "      <th></th>\n",
       "      <th>index</th>\n",
       "      <th>Importance</th>\n",
       "      <th>Feature</th>\n",
       "    </tr>\n",
       "  </thead>\n",
       "  <tbody>\n",
       "    <tr>\n",
       "      <th>0</th>\n",
       "      <td>1709</td>\n",
       "      <td>0.013475</td>\n",
       "      <td>Larp1b_chr3_+_40990200_40990310</td>\n",
       "    </tr>\n",
       "    <tr>\n",
       "      <th>1</th>\n",
       "      <td>4935</td>\n",
       "      <td>0.012824</td>\n",
       "      <td>Usp3_chr9_-_66449794_66449895</td>\n",
       "    </tr>\n",
       "    <tr>\n",
       "      <th>2</th>\n",
       "      <td>4840</td>\n",
       "      <td>0.009249</td>\n",
       "      <td>Arhgef12_chr9_-_42955559_42955583</td>\n",
       "    </tr>\n",
       "    <tr>\n",
       "      <th>3</th>\n",
       "      <td>2078</td>\n",
       "      <td>0.008929</td>\n",
       "      <td>Dio1_chr4_-_107154793_107154937</td>\n",
       "    </tr>\n",
       "    <tr>\n",
       "      <th>4</th>\n",
       "      <td>1609</td>\n",
       "      <td>0.008527</td>\n",
       "      <td>Abcd3_chr3_-_121570645_121570715</td>\n",
       "    </tr>\n",
       "    <tr>\n",
       "      <th>...</th>\n",
       "      <td>...</td>\n",
       "      <td>...</td>\n",
       "      <td>...</td>\n",
       "    </tr>\n",
       "    <tr>\n",
       "      <th>10092</th>\n",
       "      <td>5177</td>\n",
       "      <td>0.000000</td>\n",
       "      <td>Gm29909_chr9_+_43526739_43526836</td>\n",
       "    </tr>\n",
       "    <tr>\n",
       "      <th>10093</th>\n",
       "      <td>5180</td>\n",
       "      <td>0.000000</td>\n",
       "      <td>Ccdc153_chr9_+_44154310_44154430</td>\n",
       "    </tr>\n",
       "    <tr>\n",
       "      <th>10094</th>\n",
       "      <td>5194</td>\n",
       "      <td>0.000000</td>\n",
       "      <td>Usp28_chr9_+_48912807_48912940</td>\n",
       "    </tr>\n",
       "    <tr>\n",
       "      <th>10095</th>\n",
       "      <td>5195</td>\n",
       "      <td>0.000000</td>\n",
       "      <td>Usp28_chr9_+_48919728_48919815</td>\n",
       "    </tr>\n",
       "    <tr>\n",
       "      <th>10096</th>\n",
       "      <td>5048</td>\n",
       "      <td>0.000000</td>\n",
       "      <td>Ccrl2_chr9_-_110885833_110885950</td>\n",
       "    </tr>\n",
       "  </tbody>\n",
       "</table>\n",
       "<p>10097 rows × 3 columns</p>\n",
       "</div>"
      ],
      "text/plain": [
       "       index  Importance                            Feature\n",
       "0       1709    0.013475    Larp1b_chr3_+_40990200_40990310\n",
       "1       4935    0.012824      Usp3_chr9_-_66449794_66449895\n",
       "2       4840    0.009249  Arhgef12_chr9_-_42955559_42955583\n",
       "3       2078    0.008929    Dio1_chr4_-_107154793_107154937\n",
       "4       1609    0.008527   Abcd3_chr3_-_121570645_121570715\n",
       "...      ...         ...                                ...\n",
       "10092   5177    0.000000   Gm29909_chr9_+_43526739_43526836\n",
       "10093   5180    0.000000   Ccdc153_chr9_+_44154310_44154430\n",
       "10094   5194    0.000000     Usp28_chr9_+_48912807_48912940\n",
       "10095   5195    0.000000     Usp28_chr9_+_48919728_48919815\n",
       "10096   5048    0.000000   Ccrl2_chr9_-_110885833_110885950\n",
       "\n",
       "[10097 rows x 3 columns]"
      ]
     },
     "execution_count": 525,
     "metadata": {},
     "output_type": "execute_result"
    }
   ],
   "source": [
    "all_feature_importances_ranked"
   ]
  },
  {
   "cell_type": "code",
   "execution_count": 526,
   "metadata": {},
   "outputs": [
    {
     "data": {
      "text/plain": [
       "(10097, 3)"
      ]
     },
     "execution_count": 526,
     "metadata": {},
     "output_type": "execute_result"
    }
   ],
   "source": [
    "all_feature_importances_ranked.shape"
   ]
  },
  {
   "cell_type": "code",
   "execution_count": 527,
   "metadata": {},
   "outputs": [],
   "source": [
    "importances_array = all_feature_importances_ranked[['index']].to_numpy()"
   ]
  },
  {
   "cell_type": "code",
   "execution_count": 528,
   "metadata": {},
   "outputs": [
    {
     "data": {
      "text/plain": [
       "(10097, 1)"
      ]
     },
     "execution_count": 528,
     "metadata": {},
     "output_type": "execute_result"
    }
   ],
   "source": [
    "importances_array.shape"
   ]
  },
  {
   "cell_type": "code",
   "execution_count": 529,
   "metadata": {},
   "outputs": [],
   "source": [
    "importances_array = importances_array.reshape(10097,)"
   ]
  },
  {
   "cell_type": "code",
   "execution_count": 530,
   "metadata": {},
   "outputs": [],
   "source": [
    "sorted_X_train = X_train[:,importances_array]"
   ]
  },
  {
   "cell_type": "code",
   "execution_count": 531,
   "metadata": {},
   "outputs": [
    {
     "data": {
      "text/html": [
       "<div>\n",
       "<style scoped>\n",
       "    .dataframe tbody tr th:only-of-type {\n",
       "        vertical-align: middle;\n",
       "    }\n",
       "\n",
       "    .dataframe tbody tr th {\n",
       "        vertical-align: top;\n",
       "    }\n",
       "\n",
       "    .dataframe thead th {\n",
       "        text-align: right;\n",
       "    }\n",
       "</style>\n",
       "<table border=\"1\" class=\"dataframe\">\n",
       "  <thead>\n",
       "    <tr style=\"text-align: right;\">\n",
       "      <th></th>\n",
       "      <th>0</th>\n",
       "      <th>1</th>\n",
       "      <th>2</th>\n",
       "      <th>3</th>\n",
       "      <th>4</th>\n",
       "      <th>5</th>\n",
       "      <th>6</th>\n",
       "      <th>7</th>\n",
       "      <th>8</th>\n",
       "      <th>9</th>\n",
       "      <th>...</th>\n",
       "      <th>10087</th>\n",
       "      <th>10088</th>\n",
       "      <th>10089</th>\n",
       "      <th>10090</th>\n",
       "      <th>10091</th>\n",
       "      <th>10092</th>\n",
       "      <th>10093</th>\n",
       "      <th>10094</th>\n",
       "      <th>10095</th>\n",
       "      <th>10096</th>\n",
       "    </tr>\n",
       "  </thead>\n",
       "  <tbody>\n",
       "    <tr>\n",
       "      <th>0</th>\n",
       "      <td>0.0</td>\n",
       "      <td>0.0</td>\n",
       "      <td>0.0</td>\n",
       "      <td>0.0</td>\n",
       "      <td>0.0</td>\n",
       "      <td>0.000000</td>\n",
       "      <td>0.666667</td>\n",
       "      <td>0.0</td>\n",
       "      <td>0.0</td>\n",
       "      <td>0.0</td>\n",
       "      <td>...</td>\n",
       "      <td>0.0</td>\n",
       "      <td>0.0</td>\n",
       "      <td>0.0</td>\n",
       "      <td>0.0</td>\n",
       "      <td>0.0000</td>\n",
       "      <td>0.0</td>\n",
       "      <td>0.0</td>\n",
       "      <td>0.0</td>\n",
       "      <td>0.0</td>\n",
       "      <td>0.0</td>\n",
       "    </tr>\n",
       "    <tr>\n",
       "      <th>1</th>\n",
       "      <td>0.0</td>\n",
       "      <td>0.0</td>\n",
       "      <td>0.0</td>\n",
       "      <td>0.0</td>\n",
       "      <td>0.0</td>\n",
       "      <td>0.000000</td>\n",
       "      <td>0.000000</td>\n",
       "      <td>0.0</td>\n",
       "      <td>0.0</td>\n",
       "      <td>0.0</td>\n",
       "      <td>...</td>\n",
       "      <td>0.0</td>\n",
       "      <td>0.0</td>\n",
       "      <td>0.0</td>\n",
       "      <td>0.0</td>\n",
       "      <td>0.0000</td>\n",
       "      <td>0.0</td>\n",
       "      <td>0.0</td>\n",
       "      <td>0.0</td>\n",
       "      <td>0.0</td>\n",
       "      <td>0.0</td>\n",
       "    </tr>\n",
       "    <tr>\n",
       "      <th>2</th>\n",
       "      <td>0.0</td>\n",
       "      <td>0.0</td>\n",
       "      <td>0.0</td>\n",
       "      <td>0.0</td>\n",
       "      <td>0.0</td>\n",
       "      <td>0.000000</td>\n",
       "      <td>0.916667</td>\n",
       "      <td>0.0</td>\n",
       "      <td>0.0</td>\n",
       "      <td>0.0</td>\n",
       "      <td>...</td>\n",
       "      <td>0.0</td>\n",
       "      <td>0.0</td>\n",
       "      <td>0.0</td>\n",
       "      <td>0.0</td>\n",
       "      <td>0.0625</td>\n",
       "      <td>0.0</td>\n",
       "      <td>0.0</td>\n",
       "      <td>0.0</td>\n",
       "      <td>0.0</td>\n",
       "      <td>0.0</td>\n",
       "    </tr>\n",
       "    <tr>\n",
       "      <th>3</th>\n",
       "      <td>0.0</td>\n",
       "      <td>0.0</td>\n",
       "      <td>0.0</td>\n",
       "      <td>0.0</td>\n",
       "      <td>0.0</td>\n",
       "      <td>0.000000</td>\n",
       "      <td>0.000000</td>\n",
       "      <td>0.0</td>\n",
       "      <td>0.0</td>\n",
       "      <td>0.0</td>\n",
       "      <td>...</td>\n",
       "      <td>0.0</td>\n",
       "      <td>0.0</td>\n",
       "      <td>0.0</td>\n",
       "      <td>0.0</td>\n",
       "      <td>0.0000</td>\n",
       "      <td>0.0</td>\n",
       "      <td>0.0</td>\n",
       "      <td>0.0</td>\n",
       "      <td>0.0</td>\n",
       "      <td>0.0</td>\n",
       "    </tr>\n",
       "    <tr>\n",
       "      <th>4</th>\n",
       "      <td>0.0</td>\n",
       "      <td>0.0</td>\n",
       "      <td>0.0</td>\n",
       "      <td>0.0</td>\n",
       "      <td>0.0</td>\n",
       "      <td>0.272727</td>\n",
       "      <td>0.780000</td>\n",
       "      <td>0.0</td>\n",
       "      <td>0.0</td>\n",
       "      <td>0.0</td>\n",
       "      <td>...</td>\n",
       "      <td>0.0</td>\n",
       "      <td>0.0</td>\n",
       "      <td>0.0</td>\n",
       "      <td>0.0</td>\n",
       "      <td>0.0000</td>\n",
       "      <td>0.0</td>\n",
       "      <td>0.0</td>\n",
       "      <td>0.0</td>\n",
       "      <td>0.0</td>\n",
       "      <td>0.0</td>\n",
       "    </tr>\n",
       "    <tr>\n",
       "      <th>...</th>\n",
       "      <td>...</td>\n",
       "      <td>...</td>\n",
       "      <td>...</td>\n",
       "      <td>...</td>\n",
       "      <td>...</td>\n",
       "      <td>...</td>\n",
       "      <td>...</td>\n",
       "      <td>...</td>\n",
       "      <td>...</td>\n",
       "      <td>...</td>\n",
       "      <td>...</td>\n",
       "      <td>...</td>\n",
       "      <td>...</td>\n",
       "      <td>...</td>\n",
       "      <td>...</td>\n",
       "      <td>...</td>\n",
       "      <td>...</td>\n",
       "      <td>...</td>\n",
       "      <td>...</td>\n",
       "      <td>...</td>\n",
       "      <td>...</td>\n",
       "    </tr>\n",
       "    <tr>\n",
       "      <th>702</th>\n",
       "      <td>0.0</td>\n",
       "      <td>1.0</td>\n",
       "      <td>0.0</td>\n",
       "      <td>0.0</td>\n",
       "      <td>0.0</td>\n",
       "      <td>0.250000</td>\n",
       "      <td>0.484375</td>\n",
       "      <td>1.0</td>\n",
       "      <td>0.0</td>\n",
       "      <td>0.0</td>\n",
       "      <td>...</td>\n",
       "      <td>0.0</td>\n",
       "      <td>0.0</td>\n",
       "      <td>0.0</td>\n",
       "      <td>0.0</td>\n",
       "      <td>0.0000</td>\n",
       "      <td>0.0</td>\n",
       "      <td>0.0</td>\n",
       "      <td>0.0</td>\n",
       "      <td>0.0</td>\n",
       "      <td>0.0</td>\n",
       "    </tr>\n",
       "    <tr>\n",
       "      <th>703</th>\n",
       "      <td>0.0</td>\n",
       "      <td>0.0</td>\n",
       "      <td>0.0</td>\n",
       "      <td>0.0</td>\n",
       "      <td>0.0</td>\n",
       "      <td>0.294118</td>\n",
       "      <td>0.805556</td>\n",
       "      <td>0.0</td>\n",
       "      <td>0.0</td>\n",
       "      <td>0.0</td>\n",
       "      <td>...</td>\n",
       "      <td>0.0</td>\n",
       "      <td>0.0</td>\n",
       "      <td>0.0</td>\n",
       "      <td>0.0</td>\n",
       "      <td>0.6000</td>\n",
       "      <td>0.0</td>\n",
       "      <td>1.0</td>\n",
       "      <td>0.0</td>\n",
       "      <td>0.0</td>\n",
       "      <td>0.0</td>\n",
       "    </tr>\n",
       "    <tr>\n",
       "      <th>704</th>\n",
       "      <td>0.0</td>\n",
       "      <td>0.0</td>\n",
       "      <td>0.0</td>\n",
       "      <td>0.0</td>\n",
       "      <td>0.0</td>\n",
       "      <td>0.238095</td>\n",
       "      <td>0.688889</td>\n",
       "      <td>0.0</td>\n",
       "      <td>0.0</td>\n",
       "      <td>0.0</td>\n",
       "      <td>...</td>\n",
       "      <td>0.0</td>\n",
       "      <td>0.0</td>\n",
       "      <td>0.0</td>\n",
       "      <td>0.0</td>\n",
       "      <td>0.0000</td>\n",
       "      <td>0.0</td>\n",
       "      <td>0.0</td>\n",
       "      <td>0.0</td>\n",
       "      <td>0.0</td>\n",
       "      <td>0.0</td>\n",
       "    </tr>\n",
       "    <tr>\n",
       "      <th>705</th>\n",
       "      <td>0.0</td>\n",
       "      <td>0.0</td>\n",
       "      <td>0.0</td>\n",
       "      <td>0.0</td>\n",
       "      <td>0.0</td>\n",
       "      <td>0.379310</td>\n",
       "      <td>0.772727</td>\n",
       "      <td>0.0</td>\n",
       "      <td>0.0</td>\n",
       "      <td>0.0</td>\n",
       "      <td>...</td>\n",
       "      <td>0.0</td>\n",
       "      <td>0.0</td>\n",
       "      <td>0.0</td>\n",
       "      <td>0.0</td>\n",
       "      <td>1.0000</td>\n",
       "      <td>0.0</td>\n",
       "      <td>0.0</td>\n",
       "      <td>0.0</td>\n",
       "      <td>0.0</td>\n",
       "      <td>0.0</td>\n",
       "    </tr>\n",
       "    <tr>\n",
       "      <th>706</th>\n",
       "      <td>0.0</td>\n",
       "      <td>0.0</td>\n",
       "      <td>0.0</td>\n",
       "      <td>0.0</td>\n",
       "      <td>0.0</td>\n",
       "      <td>0.000000</td>\n",
       "      <td>0.733333</td>\n",
       "      <td>0.0</td>\n",
       "      <td>0.0</td>\n",
       "      <td>0.0</td>\n",
       "      <td>...</td>\n",
       "      <td>0.0</td>\n",
       "      <td>0.0</td>\n",
       "      <td>0.0</td>\n",
       "      <td>0.0</td>\n",
       "      <td>0.0000</td>\n",
       "      <td>0.0</td>\n",
       "      <td>0.0</td>\n",
       "      <td>0.0</td>\n",
       "      <td>0.0</td>\n",
       "      <td>0.0</td>\n",
       "    </tr>\n",
       "  </tbody>\n",
       "</table>\n",
       "<p>707 rows × 10097 columns</p>\n",
       "</div>"
      ],
      "text/plain": [
       "     0      1      2      3      4         5         6      7      8      \\\n",
       "0      0.0    0.0    0.0    0.0    0.0  0.000000  0.666667    0.0    0.0   \n",
       "1      0.0    0.0    0.0    0.0    0.0  0.000000  0.000000    0.0    0.0   \n",
       "2      0.0    0.0    0.0    0.0    0.0  0.000000  0.916667    0.0    0.0   \n",
       "3      0.0    0.0    0.0    0.0    0.0  0.000000  0.000000    0.0    0.0   \n",
       "4      0.0    0.0    0.0    0.0    0.0  0.272727  0.780000    0.0    0.0   \n",
       "..     ...    ...    ...    ...    ...       ...       ...    ...    ...   \n",
       "702    0.0    1.0    0.0    0.0    0.0  0.250000  0.484375    1.0    0.0   \n",
       "703    0.0    0.0    0.0    0.0    0.0  0.294118  0.805556    0.0    0.0   \n",
       "704    0.0    0.0    0.0    0.0    0.0  0.238095  0.688889    0.0    0.0   \n",
       "705    0.0    0.0    0.0    0.0    0.0  0.379310  0.772727    0.0    0.0   \n",
       "706    0.0    0.0    0.0    0.0    0.0  0.000000  0.733333    0.0    0.0   \n",
       "\n",
       "     9      ...  10087  10088  10089  10090   10091  10092  10093  10094  \\\n",
       "0      0.0  ...    0.0    0.0    0.0    0.0  0.0000    0.0    0.0    0.0   \n",
       "1      0.0  ...    0.0    0.0    0.0    0.0  0.0000    0.0    0.0    0.0   \n",
       "2      0.0  ...    0.0    0.0    0.0    0.0  0.0625    0.0    0.0    0.0   \n",
       "3      0.0  ...    0.0    0.0    0.0    0.0  0.0000    0.0    0.0    0.0   \n",
       "4      0.0  ...    0.0    0.0    0.0    0.0  0.0000    0.0    0.0    0.0   \n",
       "..     ...  ...    ...    ...    ...    ...     ...    ...    ...    ...   \n",
       "702    0.0  ...    0.0    0.0    0.0    0.0  0.0000    0.0    0.0    0.0   \n",
       "703    0.0  ...    0.0    0.0    0.0    0.0  0.6000    0.0    1.0    0.0   \n",
       "704    0.0  ...    0.0    0.0    0.0    0.0  0.0000    0.0    0.0    0.0   \n",
       "705    0.0  ...    0.0    0.0    0.0    0.0  1.0000    0.0    0.0    0.0   \n",
       "706    0.0  ...    0.0    0.0    0.0    0.0  0.0000    0.0    0.0    0.0   \n",
       "\n",
       "     10095  10096  \n",
       "0      0.0    0.0  \n",
       "1      0.0    0.0  \n",
       "2      0.0    0.0  \n",
       "3      0.0    0.0  \n",
       "4      0.0    0.0  \n",
       "..     ...    ...  \n",
       "702    0.0    0.0  \n",
       "703    0.0    0.0  \n",
       "704    0.0    0.0  \n",
       "705    0.0    0.0  \n",
       "706    0.0    0.0  \n",
       "\n",
       "[707 rows x 10097 columns]"
      ]
     },
     "execution_count": 531,
     "metadata": {},
     "output_type": "execute_result"
    }
   ],
   "source": [
    "pd.DataFrame(X_train)"
   ]
  },
  {
   "cell_type": "code",
   "execution_count": 532,
   "metadata": {},
   "outputs": [
    {
     "data": {
      "text/html": [
       "<div>\n",
       "<style scoped>\n",
       "    .dataframe tbody tr th:only-of-type {\n",
       "        vertical-align: middle;\n",
       "    }\n",
       "\n",
       "    .dataframe tbody tr th {\n",
       "        vertical-align: top;\n",
       "    }\n",
       "\n",
       "    .dataframe thead th {\n",
       "        text-align: right;\n",
       "    }\n",
       "</style>\n",
       "<table border=\"1\" class=\"dataframe\">\n",
       "  <thead>\n",
       "    <tr style=\"text-align: right;\">\n",
       "      <th></th>\n",
       "      <th>0</th>\n",
       "      <th>1</th>\n",
       "      <th>2</th>\n",
       "      <th>3</th>\n",
       "      <th>4</th>\n",
       "      <th>5</th>\n",
       "      <th>6</th>\n",
       "      <th>7</th>\n",
       "      <th>8</th>\n",
       "      <th>9</th>\n",
       "      <th>...</th>\n",
       "      <th>10087</th>\n",
       "      <th>10088</th>\n",
       "      <th>10089</th>\n",
       "      <th>10090</th>\n",
       "      <th>10091</th>\n",
       "      <th>10092</th>\n",
       "      <th>10093</th>\n",
       "      <th>10094</th>\n",
       "      <th>10095</th>\n",
       "      <th>10096</th>\n",
       "    </tr>\n",
       "  </thead>\n",
       "  <tbody>\n",
       "    <tr>\n",
       "      <th>0</th>\n",
       "      <td>0.0</td>\n",
       "      <td>0.0</td>\n",
       "      <td>1.000000</td>\n",
       "      <td>0.0</td>\n",
       "      <td>0.0</td>\n",
       "      <td>0.0</td>\n",
       "      <td>0.000000</td>\n",
       "      <td>0.0</td>\n",
       "      <td>0.0</td>\n",
       "      <td>0.000000</td>\n",
       "      <td>...</td>\n",
       "      <td>0.0</td>\n",
       "      <td>0.0</td>\n",
       "      <td>0.0</td>\n",
       "      <td>0.0</td>\n",
       "      <td>0.0</td>\n",
       "      <td>0.0</td>\n",
       "      <td>0.0</td>\n",
       "      <td>0.0</td>\n",
       "      <td>0.0</td>\n",
       "      <td>0.0</td>\n",
       "    </tr>\n",
       "    <tr>\n",
       "      <th>1</th>\n",
       "      <td>0.0</td>\n",
       "      <td>0.0</td>\n",
       "      <td>0.000000</td>\n",
       "      <td>0.0</td>\n",
       "      <td>0.0</td>\n",
       "      <td>0.0</td>\n",
       "      <td>0.000000</td>\n",
       "      <td>0.0</td>\n",
       "      <td>0.0</td>\n",
       "      <td>0.000000</td>\n",
       "      <td>...</td>\n",
       "      <td>0.0</td>\n",
       "      <td>0.0</td>\n",
       "      <td>0.0</td>\n",
       "      <td>0.0</td>\n",
       "      <td>0.0</td>\n",
       "      <td>0.0</td>\n",
       "      <td>0.0</td>\n",
       "      <td>0.0</td>\n",
       "      <td>0.0</td>\n",
       "      <td>0.0</td>\n",
       "    </tr>\n",
       "    <tr>\n",
       "      <th>2</th>\n",
       "      <td>1.0</td>\n",
       "      <td>0.0</td>\n",
       "      <td>0.000000</td>\n",
       "      <td>1.0</td>\n",
       "      <td>1.0</td>\n",
       "      <td>1.0</td>\n",
       "      <td>0.298077</td>\n",
       "      <td>1.0</td>\n",
       "      <td>1.0</td>\n",
       "      <td>0.000000</td>\n",
       "      <td>...</td>\n",
       "      <td>0.0</td>\n",
       "      <td>0.0</td>\n",
       "      <td>0.0</td>\n",
       "      <td>0.0</td>\n",
       "      <td>0.0</td>\n",
       "      <td>0.0</td>\n",
       "      <td>0.0</td>\n",
       "      <td>0.0</td>\n",
       "      <td>0.0</td>\n",
       "      <td>0.0</td>\n",
       "    </tr>\n",
       "    <tr>\n",
       "      <th>3</th>\n",
       "      <td>0.0</td>\n",
       "      <td>0.0</td>\n",
       "      <td>0.000000</td>\n",
       "      <td>0.0</td>\n",
       "      <td>0.0</td>\n",
       "      <td>0.0</td>\n",
       "      <td>0.000000</td>\n",
       "      <td>0.0</td>\n",
       "      <td>0.0</td>\n",
       "      <td>0.000000</td>\n",
       "      <td>...</td>\n",
       "      <td>0.0</td>\n",
       "      <td>0.0</td>\n",
       "      <td>0.0</td>\n",
       "      <td>0.0</td>\n",
       "      <td>0.0</td>\n",
       "      <td>0.0</td>\n",
       "      <td>0.0</td>\n",
       "      <td>0.0</td>\n",
       "      <td>0.0</td>\n",
       "      <td>0.0</td>\n",
       "    </tr>\n",
       "    <tr>\n",
       "      <th>4</th>\n",
       "      <td>0.0</td>\n",
       "      <td>0.0</td>\n",
       "      <td>0.333333</td>\n",
       "      <td>0.0</td>\n",
       "      <td>0.0</td>\n",
       "      <td>0.0</td>\n",
       "      <td>0.000000</td>\n",
       "      <td>0.0</td>\n",
       "      <td>0.0</td>\n",
       "      <td>0.000000</td>\n",
       "      <td>...</td>\n",
       "      <td>0.0</td>\n",
       "      <td>0.0</td>\n",
       "      <td>0.0</td>\n",
       "      <td>0.0</td>\n",
       "      <td>0.0</td>\n",
       "      <td>0.0</td>\n",
       "      <td>0.0</td>\n",
       "      <td>0.0</td>\n",
       "      <td>0.0</td>\n",
       "      <td>0.0</td>\n",
       "    </tr>\n",
       "    <tr>\n",
       "      <th>...</th>\n",
       "      <td>...</td>\n",
       "      <td>...</td>\n",
       "      <td>...</td>\n",
       "      <td>...</td>\n",
       "      <td>...</td>\n",
       "      <td>...</td>\n",
       "      <td>...</td>\n",
       "      <td>...</td>\n",
       "      <td>...</td>\n",
       "      <td>...</td>\n",
       "      <td>...</td>\n",
       "      <td>...</td>\n",
       "      <td>...</td>\n",
       "      <td>...</td>\n",
       "      <td>...</td>\n",
       "      <td>...</td>\n",
       "      <td>...</td>\n",
       "      <td>...</td>\n",
       "      <td>...</td>\n",
       "      <td>...</td>\n",
       "      <td>...</td>\n",
       "    </tr>\n",
       "    <tr>\n",
       "      <th>702</th>\n",
       "      <td>0.0</td>\n",
       "      <td>0.0</td>\n",
       "      <td>1.000000</td>\n",
       "      <td>1.0</td>\n",
       "      <td>1.0</td>\n",
       "      <td>1.0</td>\n",
       "      <td>1.000000</td>\n",
       "      <td>0.0</td>\n",
       "      <td>0.0</td>\n",
       "      <td>0.000000</td>\n",
       "      <td>...</td>\n",
       "      <td>0.0</td>\n",
       "      <td>0.0</td>\n",
       "      <td>0.0</td>\n",
       "      <td>0.0</td>\n",
       "      <td>0.0</td>\n",
       "      <td>0.0</td>\n",
       "      <td>0.0</td>\n",
       "      <td>0.0</td>\n",
       "      <td>0.0</td>\n",
       "      <td>0.0</td>\n",
       "    </tr>\n",
       "    <tr>\n",
       "      <th>703</th>\n",
       "      <td>0.0</td>\n",
       "      <td>1.0</td>\n",
       "      <td>0.965812</td>\n",
       "      <td>0.0</td>\n",
       "      <td>0.0</td>\n",
       "      <td>0.0</td>\n",
       "      <td>0.000000</td>\n",
       "      <td>1.0</td>\n",
       "      <td>0.0</td>\n",
       "      <td>0.616570</td>\n",
       "      <td>...</td>\n",
       "      <td>0.0</td>\n",
       "      <td>0.0</td>\n",
       "      <td>0.0</td>\n",
       "      <td>0.0</td>\n",
       "      <td>0.0</td>\n",
       "      <td>0.0</td>\n",
       "      <td>0.0</td>\n",
       "      <td>0.0</td>\n",
       "      <td>0.0</td>\n",
       "      <td>0.0</td>\n",
       "    </tr>\n",
       "    <tr>\n",
       "      <th>704</th>\n",
       "      <td>0.0</td>\n",
       "      <td>1.0</td>\n",
       "      <td>1.000000</td>\n",
       "      <td>0.0</td>\n",
       "      <td>0.0</td>\n",
       "      <td>0.0</td>\n",
       "      <td>0.000000</td>\n",
       "      <td>0.0</td>\n",
       "      <td>0.0</td>\n",
       "      <td>0.818182</td>\n",
       "      <td>...</td>\n",
       "      <td>0.0</td>\n",
       "      <td>0.0</td>\n",
       "      <td>0.0</td>\n",
       "      <td>1.0</td>\n",
       "      <td>0.0</td>\n",
       "      <td>0.0</td>\n",
       "      <td>0.0</td>\n",
       "      <td>0.0</td>\n",
       "      <td>0.0</td>\n",
       "      <td>0.0</td>\n",
       "    </tr>\n",
       "    <tr>\n",
       "      <th>705</th>\n",
       "      <td>0.0</td>\n",
       "      <td>1.0</td>\n",
       "      <td>1.000000</td>\n",
       "      <td>0.0</td>\n",
       "      <td>0.0</td>\n",
       "      <td>0.0</td>\n",
       "      <td>0.000000</td>\n",
       "      <td>1.0</td>\n",
       "      <td>0.0</td>\n",
       "      <td>0.666667</td>\n",
       "      <td>...</td>\n",
       "      <td>0.0</td>\n",
       "      <td>0.0</td>\n",
       "      <td>0.0</td>\n",
       "      <td>0.0</td>\n",
       "      <td>0.0</td>\n",
       "      <td>0.0</td>\n",
       "      <td>0.0</td>\n",
       "      <td>0.0</td>\n",
       "      <td>0.0</td>\n",
       "      <td>0.0</td>\n",
       "    </tr>\n",
       "    <tr>\n",
       "      <th>706</th>\n",
       "      <td>1.0</td>\n",
       "      <td>0.0</td>\n",
       "      <td>0.000000</td>\n",
       "      <td>1.0</td>\n",
       "      <td>1.0</td>\n",
       "      <td>1.0</td>\n",
       "      <td>1.000000</td>\n",
       "      <td>1.0</td>\n",
       "      <td>1.0</td>\n",
       "      <td>0.000000</td>\n",
       "      <td>...</td>\n",
       "      <td>0.0</td>\n",
       "      <td>0.0</td>\n",
       "      <td>0.0</td>\n",
       "      <td>0.0</td>\n",
       "      <td>0.0</td>\n",
       "      <td>0.0</td>\n",
       "      <td>0.0</td>\n",
       "      <td>0.0</td>\n",
       "      <td>0.0</td>\n",
       "      <td>0.0</td>\n",
       "    </tr>\n",
       "  </tbody>\n",
       "</table>\n",
       "<p>707 rows × 10097 columns</p>\n",
       "</div>"
      ],
      "text/plain": [
       "     0      1         2      3      4      5         6      7      8      \\\n",
       "0      0.0    0.0  1.000000    0.0    0.0    0.0  0.000000    0.0    0.0   \n",
       "1      0.0    0.0  0.000000    0.0    0.0    0.0  0.000000    0.0    0.0   \n",
       "2      1.0    0.0  0.000000    1.0    1.0    1.0  0.298077    1.0    1.0   \n",
       "3      0.0    0.0  0.000000    0.0    0.0    0.0  0.000000    0.0    0.0   \n",
       "4      0.0    0.0  0.333333    0.0    0.0    0.0  0.000000    0.0    0.0   \n",
       "..     ...    ...       ...    ...    ...    ...       ...    ...    ...   \n",
       "702    0.0    0.0  1.000000    1.0    1.0    1.0  1.000000    0.0    0.0   \n",
       "703    0.0    1.0  0.965812    0.0    0.0    0.0  0.000000    1.0    0.0   \n",
       "704    0.0    1.0  1.000000    0.0    0.0    0.0  0.000000    0.0    0.0   \n",
       "705    0.0    1.0  1.000000    0.0    0.0    0.0  0.000000    1.0    0.0   \n",
       "706    1.0    0.0  0.000000    1.0    1.0    1.0  1.000000    1.0    1.0   \n",
       "\n",
       "        9      ...  10087  10088  10089  10090  10091  10092  10093  10094  \\\n",
       "0    0.000000  ...    0.0    0.0    0.0    0.0    0.0    0.0    0.0    0.0   \n",
       "1    0.000000  ...    0.0    0.0    0.0    0.0    0.0    0.0    0.0    0.0   \n",
       "2    0.000000  ...    0.0    0.0    0.0    0.0    0.0    0.0    0.0    0.0   \n",
       "3    0.000000  ...    0.0    0.0    0.0    0.0    0.0    0.0    0.0    0.0   \n",
       "4    0.000000  ...    0.0    0.0    0.0    0.0    0.0    0.0    0.0    0.0   \n",
       "..        ...  ...    ...    ...    ...    ...    ...    ...    ...    ...   \n",
       "702  0.000000  ...    0.0    0.0    0.0    0.0    0.0    0.0    0.0    0.0   \n",
       "703  0.616570  ...    0.0    0.0    0.0    0.0    0.0    0.0    0.0    0.0   \n",
       "704  0.818182  ...    0.0    0.0    0.0    1.0    0.0    0.0    0.0    0.0   \n",
       "705  0.666667  ...    0.0    0.0    0.0    0.0    0.0    0.0    0.0    0.0   \n",
       "706  0.000000  ...    0.0    0.0    0.0    0.0    0.0    0.0    0.0    0.0   \n",
       "\n",
       "     10095  10096  \n",
       "0      0.0    0.0  \n",
       "1      0.0    0.0  \n",
       "2      0.0    0.0  \n",
       "3      0.0    0.0  \n",
       "4      0.0    0.0  \n",
       "..     ...    ...  \n",
       "702    0.0    0.0  \n",
       "703    0.0    0.0  \n",
       "704    0.0    0.0  \n",
       "705    0.0    0.0  \n",
       "706    0.0    0.0  \n",
       "\n",
       "[707 rows x 10097 columns]"
      ]
     },
     "execution_count": 532,
     "metadata": {},
     "output_type": "execute_result"
    }
   ],
   "source": [
    "pd.DataFrame(sorted_X_train)"
   ]
  },
  {
   "cell_type": "code",
   "execution_count": 533,
   "metadata": {},
   "outputs": [
    {
     "data": {
      "text/plain": [
       "(707, 10097)"
      ]
     },
     "execution_count": 533,
     "metadata": {},
     "output_type": "execute_result"
    }
   ],
   "source": [
    "sorted_X_train.shape"
   ]
  },
  {
   "cell_type": "code",
   "execution_count": 534,
   "metadata": {},
   "outputs": [],
   "source": [
    "top10pct = round(np.shape(sorted_X_train)[1]*0.1) #top 10% of exons"
   ]
  },
  {
   "cell_type": "code",
   "execution_count": 535,
   "metadata": {},
   "outputs": [
    {
     "data": {
      "text/plain": [
       "1010"
      ]
     },
     "execution_count": 535,
     "metadata": {},
     "output_type": "execute_result"
    }
   ],
   "source": [
    "top10pct"
   ]
  },
  {
   "cell_type": "code",
   "execution_count": 536,
   "metadata": {},
   "outputs": [],
   "source": [
    "X_train_filtered = sorted_X_train[:,0:top10pct]"
   ]
  },
  {
   "cell_type": "code",
   "execution_count": 537,
   "metadata": {},
   "outputs": [],
   "source": [
    "sorted_X_valid = X_valid[:,importances_array]\n",
    "sorted_X_test = X_test[:,importances_array]"
   ]
  },
  {
   "cell_type": "code",
   "execution_count": 538,
   "metadata": {},
   "outputs": [],
   "source": [
    "X_valid_filtered = sorted_X_valid[:,0:top10pct]\n",
    "X_test_filtered = sorted_X_test[:,0:top10pct]"
   ]
  },
  {
   "cell_type": "code",
   "execution_count": 539,
   "metadata": {},
   "outputs": [],
   "source": [
    "all_feature_importances_ranked.to_csv('teich_rf_all_feature_importances_ranked.csv')"
   ]
  },
  {
   "cell_type": "markdown",
   "metadata": {},
   "source": [
    "Feature Selection with Boruta for RF"
   ]
  },
  {
   "cell_type": "code",
   "execution_count": 209,
   "metadata": {},
   "outputs": [],
   "source": [
    "from boruta import BorutaPy"
   ]
  },
  {
   "cell_type": "code",
   "execution_count": 210,
   "metadata": {},
   "outputs": [],
   "source": [
    "feat_selector = BorutaPy(rf, n_estimators=600, verbose=2, random_state=20)\n"
   ]
  },
  {
   "cell_type": "code",
   "execution_count": 211,
   "metadata": {},
   "outputs": [
    {
     "name": "stdout",
     "output_type": "stream",
     "text": [
      "Iteration: \t1 / 100\n",
      "Confirmed: \t0\n",
      "Tentative: \t10097\n",
      "Rejected: \t0\n",
      "Iteration: \t2 / 100\n",
      "Confirmed: \t0\n",
      "Tentative: \t10097\n",
      "Rejected: \t0\n",
      "Iteration: \t3 / 100\n",
      "Confirmed: \t0\n",
      "Tentative: \t10097\n",
      "Rejected: \t0\n",
      "Iteration: \t4 / 100\n",
      "Confirmed: \t0\n",
      "Tentative: \t10097\n",
      "Rejected: \t0\n",
      "Iteration: \t5 / 100\n",
      "Confirmed: \t0\n",
      "Tentative: \t10097\n",
      "Rejected: \t0\n",
      "Iteration: \t6 / 100\n",
      "Confirmed: \t0\n",
      "Tentative: \t10097\n",
      "Rejected: \t0\n",
      "Iteration: \t7 / 100\n",
      "Confirmed: \t0\n",
      "Tentative: \t10097\n",
      "Rejected: \t0\n",
      "Iteration: \t8 / 100\n",
      "Confirmed: \t0\n",
      "Tentative: \t238\n",
      "Rejected: \t9859\n",
      "Iteration: \t9 / 100\n",
      "Confirmed: \t39\n",
      "Tentative: \t199\n",
      "Rejected: \t9859\n",
      "Iteration: \t10 / 100\n",
      "Confirmed: \t39\n",
      "Tentative: \t199\n",
      "Rejected: \t9859\n",
      "Iteration: \t11 / 100\n",
      "Confirmed: \t39\n",
      "Tentative: \t199\n",
      "Rejected: \t9859\n",
      "Iteration: \t12 / 100\n",
      "Confirmed: \t39\n",
      "Tentative: \t160\n",
      "Rejected: \t9898\n",
      "Iteration: \t13 / 100\n",
      "Confirmed: \t39\n",
      "Tentative: \t160\n",
      "Rejected: \t9898\n",
      "Iteration: \t14 / 100\n",
      "Confirmed: \t39\n",
      "Tentative: \t160\n",
      "Rejected: \t9898\n",
      "Iteration: \t15 / 100\n",
      "Confirmed: \t39\n",
      "Tentative: \t160\n",
      "Rejected: \t9898\n",
      "Iteration: \t16 / 100\n",
      "Confirmed: \t39\n",
      "Tentative: \t138\n",
      "Rejected: \t9920\n",
      "Iteration: \t17 / 100\n",
      "Confirmed: \t39\n",
      "Tentative: \t138\n",
      "Rejected: \t9920\n",
      "Iteration: \t18 / 100\n",
      "Confirmed: \t39\n",
      "Tentative: \t138\n",
      "Rejected: \t9920\n",
      "Iteration: \t19 / 100\n",
      "Confirmed: \t39\n",
      "Tentative: \t122\n",
      "Rejected: \t9936\n",
      "Iteration: \t20 / 100\n",
      "Confirmed: \t39\n",
      "Tentative: \t122\n",
      "Rejected: \t9936\n",
      "Iteration: \t21 / 100\n",
      "Confirmed: \t39\n",
      "Tentative: \t122\n",
      "Rejected: \t9936\n",
      "Iteration: \t22 / 100\n",
      "Confirmed: \t39\n",
      "Tentative: \t102\n",
      "Rejected: \t9956\n",
      "Iteration: \t23 / 100\n",
      "Confirmed: \t39\n",
      "Tentative: \t102\n",
      "Rejected: \t9956\n",
      "Iteration: \t24 / 100\n",
      "Confirmed: \t39\n",
      "Tentative: \t102\n",
      "Rejected: \t9956\n",
      "Iteration: \t25 / 100\n",
      "Confirmed: \t39\n",
      "Tentative: \t102\n",
      "Rejected: \t9956\n",
      "Iteration: \t26 / 100\n",
      "Confirmed: \t39\n",
      "Tentative: \t89\n",
      "Rejected: \t9969\n",
      "Iteration: \t27 / 100\n",
      "Confirmed: \t39\n",
      "Tentative: \t89\n",
      "Rejected: \t9969\n",
      "Iteration: \t28 / 100\n",
      "Confirmed: \t39\n",
      "Tentative: \t89\n",
      "Rejected: \t9969\n",
      "Iteration: \t29 / 100\n",
      "Confirmed: \t39\n",
      "Tentative: \t71\n",
      "Rejected: \t9987\n",
      "Iteration: \t30 / 100\n",
      "Confirmed: \t39\n",
      "Tentative: \t71\n",
      "Rejected: \t9987\n",
      "Iteration: \t31 / 100\n",
      "Confirmed: \t39\n",
      "Tentative: \t71\n",
      "Rejected: \t9987\n",
      "Iteration: \t32 / 100\n",
      "Confirmed: \t39\n",
      "Tentative: \t51\n",
      "Rejected: \t10007\n",
      "Iteration: \t33 / 100\n",
      "Confirmed: \t39\n",
      "Tentative: \t51\n",
      "Rejected: \t10007\n",
      "Iteration: \t34 / 100\n",
      "Confirmed: \t39\n",
      "Tentative: \t3\n",
      "Rejected: \t10055\n",
      "Iteration: \t35 / 100\n",
      "Confirmed: \t39\n",
      "Tentative: \t3\n",
      "Rejected: \t10055\n",
      "Iteration: \t36 / 100\n",
      "Confirmed: \t39\n",
      "Tentative: \t3\n",
      "Rejected: \t10055\n",
      "Iteration: \t37 / 100\n",
      "Confirmed: \t39\n",
      "Tentative: \t2\n",
      "Rejected: \t10056\n",
      "Iteration: \t38 / 100\n",
      "Confirmed: \t39\n",
      "Tentative: \t2\n",
      "Rejected: \t10056\n",
      "Iteration: \t39 / 100\n",
      "Confirmed: \t39\n",
      "Tentative: \t2\n",
      "Rejected: \t10056\n",
      "Iteration: \t40 / 100\n",
      "Confirmed: \t39\n",
      "Tentative: \t1\n",
      "Rejected: \t10057\n",
      "Iteration: \t41 / 100\n",
      "Confirmed: \t39\n",
      "Tentative: \t1\n",
      "Rejected: \t10057\n",
      "Iteration: \t42 / 100\n",
      "Confirmed: \t39\n",
      "Tentative: \t1\n",
      "Rejected: \t10057\n",
      "Iteration: \t43 / 100\n",
      "Confirmed: \t39\n",
      "Tentative: \t1\n",
      "Rejected: \t10057\n",
      "Iteration: \t44 / 100\n",
      "Confirmed: \t39\n",
      "Tentative: \t1\n",
      "Rejected: \t10057\n",
      "Iteration: \t45 / 100\n",
      "Confirmed: \t39\n",
      "Tentative: \t1\n",
      "Rejected: \t10057\n",
      "Iteration: \t46 / 100\n",
      "Confirmed: \t39\n",
      "Tentative: \t1\n",
      "Rejected: \t10057\n",
      "Iteration: \t47 / 100\n",
      "Confirmed: \t39\n",
      "Tentative: \t1\n",
      "Rejected: \t10057\n",
      "Iteration: \t48 / 100\n",
      "Confirmed: \t39\n",
      "Tentative: \t1\n",
      "Rejected: \t10057\n",
      "Iteration: \t49 / 100\n",
      "Confirmed: \t39\n",
      "Tentative: \t1\n",
      "Rejected: \t10057\n",
      "Iteration: \t50 / 100\n",
      "Confirmed: \t39\n",
      "Tentative: \t1\n",
      "Rejected: \t10057\n",
      "Iteration: \t51 / 100\n",
      "Confirmed: \t39\n",
      "Tentative: \t1\n",
      "Rejected: \t10057\n",
      "Iteration: \t52 / 100\n",
      "Confirmed: \t39\n",
      "Tentative: \t1\n",
      "Rejected: \t10057\n",
      "Iteration: \t53 / 100\n",
      "Confirmed: \t39\n",
      "Tentative: \t1\n",
      "Rejected: \t10057\n",
      "Iteration: \t54 / 100\n",
      "Confirmed: \t39\n",
      "Tentative: \t1\n",
      "Rejected: \t10057\n",
      "Iteration: \t55 / 100\n",
      "Confirmed: \t39\n",
      "Tentative: \t1\n",
      "Rejected: \t10057\n",
      "Iteration: \t56 / 100\n",
      "Confirmed: \t39\n",
      "Tentative: \t1\n",
      "Rejected: \t10057\n",
      "Iteration: \t57 / 100\n",
      "Confirmed: \t39\n",
      "Tentative: \t1\n",
      "Rejected: \t10057\n",
      "Iteration: \t58 / 100\n",
      "Confirmed: \t39\n",
      "Tentative: \t1\n",
      "Rejected: \t10057\n",
      "Iteration: \t59 / 100\n",
      "Confirmed: \t39\n",
      "Tentative: \t1\n",
      "Rejected: \t10057\n",
      "Iteration: \t60 / 100\n",
      "Confirmed: \t39\n",
      "Tentative: \t1\n",
      "Rejected: \t10057\n",
      "Iteration: \t61 / 100\n",
      "Confirmed: \t39\n",
      "Tentative: \t1\n",
      "Rejected: \t10057\n",
      "Iteration: \t62 / 100\n",
      "Confirmed: \t39\n",
      "Tentative: \t0\n",
      "Rejected: \t10058\n",
      "\n",
      "\n",
      "BorutaPy finished running.\n",
      "\n",
      "Iteration: \t63 / 100\n",
      "Confirmed: \t39\n",
      "Tentative: \t0\n",
      "Rejected: \t10058\n"
     ]
    },
    {
     "data": {
      "text/plain": [
       "BorutaPy(estimator=RandomForestClassifier(n_estimators=600, oob_score=True,\n",
       "                                          random_state=RandomState(MT19937) at 0x7F8024756340),\n",
       "         n_estimators=600, random_state=RandomState(MT19937) at 0x7F8024756340,\n",
       "         verbose=2)"
      ]
     },
     "execution_count": 211,
     "metadata": {},
     "output_type": "execute_result"
    }
   ],
   "source": [
    "feat_selector.fit(X_train, y_train)"
   ]
  },
  {
   "cell_type": "code",
   "execution_count": 221,
   "metadata": {},
   "outputs": [
    {
     "data": {
      "text/plain": [
       "array([False, False, False, ..., False, False, False])"
      ]
     },
     "execution_count": 221,
     "metadata": {},
     "output_type": "execute_result"
    }
   ],
   "source": [
    "feat_selector.support_"
   ]
  },
  {
   "cell_type": "code",
   "execution_count": 224,
   "metadata": {},
   "outputs": [
    {
     "data": {
      "text/plain": [
       "39"
      ]
     },
     "execution_count": 224,
     "metadata": {},
     "output_type": "execute_result"
    }
   ],
   "source": [
    "sum(feat_selector.support_==True)"
   ]
  },
  {
   "cell_type": "code",
   "execution_count": 238,
   "metadata": {},
   "outputs": [
    {
     "data": {
      "text/html": [
       "<div>\n",
       "<style scoped>\n",
       "    .dataframe tbody tr th:only-of-type {\n",
       "        vertical-align: middle;\n",
       "    }\n",
       "\n",
       "    .dataframe tbody tr th {\n",
       "        vertical-align: top;\n",
       "    }\n",
       "\n",
       "    .dataframe thead th {\n",
       "        text-align: right;\n",
       "    }\n",
       "</style>\n",
       "<table border=\"1\" class=\"dataframe\">\n",
       "  <thead>\n",
       "    <tr style=\"text-align: right;\">\n",
       "      <th></th>\n",
       "      <th>Ranking</th>\n",
       "      <th>Feature</th>\n",
       "    </tr>\n",
       "  </thead>\n",
       "  <tbody>\n",
       "    <tr>\n",
       "      <th>620</th>\n",
       "      <td>1</td>\n",
       "      <td>Dnajc1_chr2_-_18321168_18321215</td>\n",
       "    </tr>\n",
       "    <tr>\n",
       "      <th>2079</th>\n",
       "      <td>1</td>\n",
       "      <td>Lrp8os2_chr4_-_107667959_107668143</td>\n",
       "    </tr>\n",
       "    <tr>\n",
       "      <th>2078</th>\n",
       "      <td>1</td>\n",
       "      <td>Dio1_chr4_-_107154793_107154937</td>\n",
       "    </tr>\n",
       "    <tr>\n",
       "      <th>1709</th>\n",
       "      <td>1</td>\n",
       "      <td>Larp1b_chr3_+_40990200_40990310</td>\n",
       "    </tr>\n",
       "    <tr>\n",
       "      <th>1438</th>\n",
       "      <td>1</td>\n",
       "      <td>1700010I02Rik_chr3_-_8010259_8010399</td>\n",
       "    </tr>\n",
       "    <tr>\n",
       "      <th>...</th>\n",
       "      <td>...</td>\n",
       "      <td>...</td>\n",
       "    </tr>\n",
       "    <tr>\n",
       "      <th>5935</th>\n",
       "      <td>9298</td>\n",
       "      <td>Hmmr_chr11_-_40596718_40596895</td>\n",
       "    </tr>\n",
       "    <tr>\n",
       "      <th>5938</th>\n",
       "      <td>9298</td>\n",
       "      <td>Gabrg2_chr11_-_41804796_41804820</td>\n",
       "    </tr>\n",
       "    <tr>\n",
       "      <th>5939</th>\n",
       "      <td>9298</td>\n",
       "      <td>Pttg1_chr11_-_43311854_43312092</td>\n",
       "    </tr>\n",
       "    <tr>\n",
       "      <th>5947</th>\n",
       "      <td>9298</td>\n",
       "      <td>Cnot6_chr11_-_49570747_49570978</td>\n",
       "    </tr>\n",
       "    <tr>\n",
       "      <th>5048</th>\n",
       "      <td>9298</td>\n",
       "      <td>Ccrl2_chr9_-_110885833_110885950</td>\n",
       "    </tr>\n",
       "  </tbody>\n",
       "</table>\n",
       "<p>10097 rows × 2 columns</p>\n",
       "</div>"
      ],
      "text/plain": [
       "      Ranking                               Feature\n",
       "620         1       Dnajc1_chr2_-_18321168_18321215\n",
       "2079        1    Lrp8os2_chr4_-_107667959_107668143\n",
       "2078        1       Dio1_chr4_-_107154793_107154937\n",
       "1709        1       Larp1b_chr3_+_40990200_40990310\n",
       "1438        1  1700010I02Rik_chr3_-_8010259_8010399\n",
       "...       ...                                   ...\n",
       "5935     9298        Hmmr_chr11_-_40596718_40596895\n",
       "5938     9298      Gabrg2_chr11_-_41804796_41804820\n",
       "5939     9298       Pttg1_chr11_-_43311854_43312092\n",
       "5947     9298       Cnot6_chr11_-_49570747_49570978\n",
       "5048     9298      Ccrl2_chr9_-_110885833_110885950\n",
       "\n",
       "[10097 rows x 2 columns]"
      ]
     },
     "execution_count": 238,
     "metadata": {},
     "output_type": "execute_result"
    }
   ],
   "source": [
    "features_ranked = pd.DataFrame({'Ranking': feat_selector.ranking_, 'Feature': feature_names})\n",
    "features_ranked.sort_values(by='Ranking')"
   ]
  },
  {
   "cell_type": "code",
   "execution_count": 232,
   "metadata": {},
   "outputs": [],
   "source": [
    "to_keep = pd.DataFrame({'Keep': feat_selector.support_, 'Feature': feature_names})"
   ]
  },
  {
   "cell_type": "code",
   "execution_count": 233,
   "metadata": {},
   "outputs": [],
   "source": [
    "to_keep.to_csv('boruta_features_to_keep.csv')"
   ]
  },
  {
   "cell_type": "code",
   "execution_count": 239,
   "metadata": {},
   "outputs": [],
   "source": [
    "features_ranked.to_csv('boruta_features_ranked.csv')"
   ]
  },
  {
   "cell_type": "code",
   "execution_count": 271,
   "metadata": {},
   "outputs": [],
   "source": [
    "# call transform() on X to filter it down to selected features\n",
    "X_train_filtered = feat_selector.transform(X_train)\n",
    "X_valid_filtered = feat_selector.transform(X_valid)\n",
    "\n",
    "feature_names_reshaped = np.reshape(feature_names, (1,10097))\n",
    "feature_names_filtered = feat_selector.transform(feature_names_reshaped)"
   ]
  },
  {
   "cell_type": "code",
   "execution_count": 272,
   "metadata": {},
   "outputs": [
    {
     "data": {
      "text/html": [
       "<div>\n",
       "<style scoped>\n",
       "    .dataframe tbody tr th:only-of-type {\n",
       "        vertical-align: middle;\n",
       "    }\n",
       "\n",
       "    .dataframe tbody tr th {\n",
       "        vertical-align: top;\n",
       "    }\n",
       "\n",
       "    .dataframe thead th {\n",
       "        text-align: right;\n",
       "    }\n",
       "</style>\n",
       "<table border=\"1\" class=\"dataframe\">\n",
       "  <thead>\n",
       "    <tr style=\"text-align: right;\">\n",
       "      <th></th>\n",
       "      <th>0</th>\n",
       "      <th>1</th>\n",
       "      <th>2</th>\n",
       "      <th>3</th>\n",
       "      <th>4</th>\n",
       "      <th>5</th>\n",
       "      <th>6</th>\n",
       "      <th>7</th>\n",
       "      <th>8</th>\n",
       "      <th>9</th>\n",
       "      <th>...</th>\n",
       "      <th>29</th>\n",
       "      <th>30</th>\n",
       "      <th>31</th>\n",
       "      <th>32</th>\n",
       "      <th>33</th>\n",
       "      <th>34</th>\n",
       "      <th>35</th>\n",
       "      <th>36</th>\n",
       "      <th>37</th>\n",
       "      <th>38</th>\n",
       "    </tr>\n",
       "  </thead>\n",
       "  <tbody>\n",
       "    <tr>\n",
       "      <th>0</th>\n",
       "      <td>0.0</td>\n",
       "      <td>1.0</td>\n",
       "      <td>0.0</td>\n",
       "      <td>0.0</td>\n",
       "      <td>0.0</td>\n",
       "      <td>0.0</td>\n",
       "      <td>0.0</td>\n",
       "      <td>0.000000</td>\n",
       "      <td>0.0</td>\n",
       "      <td>0.0</td>\n",
       "      <td>...</td>\n",
       "      <td>0.000000</td>\n",
       "      <td>0.000000</td>\n",
       "      <td>0.500000</td>\n",
       "      <td>0.0</td>\n",
       "      <td>0.000000</td>\n",
       "      <td>1.0</td>\n",
       "      <td>0.652893</td>\n",
       "      <td>0.0</td>\n",
       "      <td>1.0</td>\n",
       "      <td>0.571429</td>\n",
       "    </tr>\n",
       "    <tr>\n",
       "      <th>1</th>\n",
       "      <td>1.0</td>\n",
       "      <td>0.0</td>\n",
       "      <td>0.0</td>\n",
       "      <td>0.0</td>\n",
       "      <td>0.0</td>\n",
       "      <td>0.0</td>\n",
       "      <td>0.0</td>\n",
       "      <td>0.000000</td>\n",
       "      <td>0.0</td>\n",
       "      <td>0.0</td>\n",
       "      <td>...</td>\n",
       "      <td>0.000000</td>\n",
       "      <td>0.000000</td>\n",
       "      <td>0.500000</td>\n",
       "      <td>1.0</td>\n",
       "      <td>0.000000</td>\n",
       "      <td>0.0</td>\n",
       "      <td>0.000000</td>\n",
       "      <td>0.0</td>\n",
       "      <td>1.0</td>\n",
       "      <td>0.000000</td>\n",
       "    </tr>\n",
       "    <tr>\n",
       "      <th>2</th>\n",
       "      <td>0.0</td>\n",
       "      <td>1.0</td>\n",
       "      <td>0.0</td>\n",
       "      <td>0.0</td>\n",
       "      <td>1.0</td>\n",
       "      <td>1.0</td>\n",
       "      <td>1.0</td>\n",
       "      <td>0.000000</td>\n",
       "      <td>1.0</td>\n",
       "      <td>1.0</td>\n",
       "      <td>...</td>\n",
       "      <td>0.000000</td>\n",
       "      <td>0.777778</td>\n",
       "      <td>0.500000</td>\n",
       "      <td>1.0</td>\n",
       "      <td>0.298077</td>\n",
       "      <td>1.0</td>\n",
       "      <td>0.923077</td>\n",
       "      <td>1.0</td>\n",
       "      <td>1.0</td>\n",
       "      <td>0.648148</td>\n",
       "    </tr>\n",
       "    <tr>\n",
       "      <th>3</th>\n",
       "      <td>0.0</td>\n",
       "      <td>0.0</td>\n",
       "      <td>0.0</td>\n",
       "      <td>0.0</td>\n",
       "      <td>0.0</td>\n",
       "      <td>0.0</td>\n",
       "      <td>0.0</td>\n",
       "      <td>0.000000</td>\n",
       "      <td>0.0</td>\n",
       "      <td>0.0</td>\n",
       "      <td>...</td>\n",
       "      <td>0.000000</td>\n",
       "      <td>0.000000</td>\n",
       "      <td>0.000000</td>\n",
       "      <td>0.0</td>\n",
       "      <td>0.000000</td>\n",
       "      <td>0.0</td>\n",
       "      <td>0.000000</td>\n",
       "      <td>0.0</td>\n",
       "      <td>0.0</td>\n",
       "      <td>0.000000</td>\n",
       "    </tr>\n",
       "    <tr>\n",
       "      <th>4</th>\n",
       "      <td>0.0</td>\n",
       "      <td>0.0</td>\n",
       "      <td>0.0</td>\n",
       "      <td>0.0</td>\n",
       "      <td>0.0</td>\n",
       "      <td>0.0</td>\n",
       "      <td>0.0</td>\n",
       "      <td>0.000000</td>\n",
       "      <td>0.0</td>\n",
       "      <td>0.0</td>\n",
       "      <td>...</td>\n",
       "      <td>0.000000</td>\n",
       "      <td>0.000000</td>\n",
       "      <td>0.500000</td>\n",
       "      <td>1.0</td>\n",
       "      <td>0.000000</td>\n",
       "      <td>0.0</td>\n",
       "      <td>0.000000</td>\n",
       "      <td>0.0</td>\n",
       "      <td>0.0</td>\n",
       "      <td>0.000000</td>\n",
       "    </tr>\n",
       "    <tr>\n",
       "      <th>...</th>\n",
       "      <td>...</td>\n",
       "      <td>...</td>\n",
       "      <td>...</td>\n",
       "      <td>...</td>\n",
       "      <td>...</td>\n",
       "      <td>...</td>\n",
       "      <td>...</td>\n",
       "      <td>...</td>\n",
       "      <td>...</td>\n",
       "      <td>...</td>\n",
       "      <td>...</td>\n",
       "      <td>...</td>\n",
       "      <td>...</td>\n",
       "      <td>...</td>\n",
       "      <td>...</td>\n",
       "      <td>...</td>\n",
       "      <td>...</td>\n",
       "      <td>...</td>\n",
       "      <td>...</td>\n",
       "      <td>...</td>\n",
       "      <td>...</td>\n",
       "    </tr>\n",
       "    <tr>\n",
       "      <th>702</th>\n",
       "      <td>0.0</td>\n",
       "      <td>1.0</td>\n",
       "      <td>0.0</td>\n",
       "      <td>0.0</td>\n",
       "      <td>1.0</td>\n",
       "      <td>1.0</td>\n",
       "      <td>0.0</td>\n",
       "      <td>0.580645</td>\n",
       "      <td>1.0</td>\n",
       "      <td>1.0</td>\n",
       "      <td>...</td>\n",
       "      <td>0.000000</td>\n",
       "      <td>0.267857</td>\n",
       "      <td>0.507246</td>\n",
       "      <td>1.0</td>\n",
       "      <td>1.000000</td>\n",
       "      <td>1.0</td>\n",
       "      <td>0.654135</td>\n",
       "      <td>0.0</td>\n",
       "      <td>1.0</td>\n",
       "      <td>0.615646</td>\n",
       "    </tr>\n",
       "    <tr>\n",
       "      <th>703</th>\n",
       "      <td>0.0</td>\n",
       "      <td>1.0</td>\n",
       "      <td>0.8</td>\n",
       "      <td>1.0</td>\n",
       "      <td>0.0</td>\n",
       "      <td>0.0</td>\n",
       "      <td>0.0</td>\n",
       "      <td>0.000000</td>\n",
       "      <td>1.0</td>\n",
       "      <td>1.0</td>\n",
       "      <td>...</td>\n",
       "      <td>0.616570</td>\n",
       "      <td>0.264706</td>\n",
       "      <td>0.500000</td>\n",
       "      <td>1.0</td>\n",
       "      <td>0.000000</td>\n",
       "      <td>0.0</td>\n",
       "      <td>0.000000</td>\n",
       "      <td>0.0</td>\n",
       "      <td>1.0</td>\n",
       "      <td>0.630435</td>\n",
       "    </tr>\n",
       "    <tr>\n",
       "      <th>704</th>\n",
       "      <td>0.0</td>\n",
       "      <td>0.0</td>\n",
       "      <td>0.0</td>\n",
       "      <td>0.0</td>\n",
       "      <td>0.0</td>\n",
       "      <td>0.0</td>\n",
       "      <td>0.0</td>\n",
       "      <td>0.000000</td>\n",
       "      <td>1.0</td>\n",
       "      <td>1.0</td>\n",
       "      <td>...</td>\n",
       "      <td>0.818182</td>\n",
       "      <td>0.181818</td>\n",
       "      <td>0.500000</td>\n",
       "      <td>0.0</td>\n",
       "      <td>0.000000</td>\n",
       "      <td>0.0</td>\n",
       "      <td>0.000000</td>\n",
       "      <td>0.0</td>\n",
       "      <td>0.0</td>\n",
       "      <td>0.600000</td>\n",
       "    </tr>\n",
       "    <tr>\n",
       "      <th>705</th>\n",
       "      <td>0.0</td>\n",
       "      <td>0.0</td>\n",
       "      <td>1.0</td>\n",
       "      <td>0.0</td>\n",
       "      <td>0.0</td>\n",
       "      <td>0.0</td>\n",
       "      <td>0.0</td>\n",
       "      <td>0.000000</td>\n",
       "      <td>1.0</td>\n",
       "      <td>1.0</td>\n",
       "      <td>...</td>\n",
       "      <td>0.666667</td>\n",
       "      <td>0.121212</td>\n",
       "      <td>0.000000</td>\n",
       "      <td>1.0</td>\n",
       "      <td>0.000000</td>\n",
       "      <td>0.0</td>\n",
       "      <td>0.000000</td>\n",
       "      <td>0.0</td>\n",
       "      <td>0.0</td>\n",
       "      <td>0.581395</td>\n",
       "    </tr>\n",
       "    <tr>\n",
       "      <th>706</th>\n",
       "      <td>0.0</td>\n",
       "      <td>1.0</td>\n",
       "      <td>0.0</td>\n",
       "      <td>0.0</td>\n",
       "      <td>1.0</td>\n",
       "      <td>1.0</td>\n",
       "      <td>1.0</td>\n",
       "      <td>0.521739</td>\n",
       "      <td>0.0</td>\n",
       "      <td>0.0</td>\n",
       "      <td>...</td>\n",
       "      <td>0.000000</td>\n",
       "      <td>0.000000</td>\n",
       "      <td>0.562500</td>\n",
       "      <td>1.0</td>\n",
       "      <td>1.000000</td>\n",
       "      <td>1.0</td>\n",
       "      <td>0.657407</td>\n",
       "      <td>0.0</td>\n",
       "      <td>1.0</td>\n",
       "      <td>0.547009</td>\n",
       "    </tr>\n",
       "  </tbody>\n",
       "</table>\n",
       "<p>707 rows × 39 columns</p>\n",
       "</div>"
      ],
      "text/plain": [
       "      0    1    2    3    4    5    6         7    8    9   ...        29  \\\n",
       "0    0.0  1.0  0.0  0.0  0.0  0.0  0.0  0.000000  0.0  0.0  ...  0.000000   \n",
       "1    1.0  0.0  0.0  0.0  0.0  0.0  0.0  0.000000  0.0  0.0  ...  0.000000   \n",
       "2    0.0  1.0  0.0  0.0  1.0  1.0  1.0  0.000000  1.0  1.0  ...  0.000000   \n",
       "3    0.0  0.0  0.0  0.0  0.0  0.0  0.0  0.000000  0.0  0.0  ...  0.000000   \n",
       "4    0.0  0.0  0.0  0.0  0.0  0.0  0.0  0.000000  0.0  0.0  ...  0.000000   \n",
       "..   ...  ...  ...  ...  ...  ...  ...       ...  ...  ...  ...       ...   \n",
       "702  0.0  1.0  0.0  0.0  1.0  1.0  0.0  0.580645  1.0  1.0  ...  0.000000   \n",
       "703  0.0  1.0  0.8  1.0  0.0  0.0  0.0  0.000000  1.0  1.0  ...  0.616570   \n",
       "704  0.0  0.0  0.0  0.0  0.0  0.0  0.0  0.000000  1.0  1.0  ...  0.818182   \n",
       "705  0.0  0.0  1.0  0.0  0.0  0.0  0.0  0.000000  1.0  1.0  ...  0.666667   \n",
       "706  0.0  1.0  0.0  0.0  1.0  1.0  1.0  0.521739  0.0  0.0  ...  0.000000   \n",
       "\n",
       "           30        31   32        33   34        35   36   37        38  \n",
       "0    0.000000  0.500000  0.0  0.000000  1.0  0.652893  0.0  1.0  0.571429  \n",
       "1    0.000000  0.500000  1.0  0.000000  0.0  0.000000  0.0  1.0  0.000000  \n",
       "2    0.777778  0.500000  1.0  0.298077  1.0  0.923077  1.0  1.0  0.648148  \n",
       "3    0.000000  0.000000  0.0  0.000000  0.0  0.000000  0.0  0.0  0.000000  \n",
       "4    0.000000  0.500000  1.0  0.000000  0.0  0.000000  0.0  0.0  0.000000  \n",
       "..        ...       ...  ...       ...  ...       ...  ...  ...       ...  \n",
       "702  0.267857  0.507246  1.0  1.000000  1.0  0.654135  0.0  1.0  0.615646  \n",
       "703  0.264706  0.500000  1.0  0.000000  0.0  0.000000  0.0  1.0  0.630435  \n",
       "704  0.181818  0.500000  0.0  0.000000  0.0  0.000000  0.0  0.0  0.600000  \n",
       "705  0.121212  0.000000  1.0  0.000000  0.0  0.000000  0.0  0.0  0.581395  \n",
       "706  0.000000  0.562500  1.0  1.000000  1.0  0.657407  0.0  1.0  0.547009  \n",
       "\n",
       "[707 rows x 39 columns]"
      ]
     },
     "execution_count": 272,
     "metadata": {},
     "output_type": "execute_result"
    }
   ],
   "source": [
    "pd.DataFrame(X_train_filtered)"
   ]
  },
  {
   "cell_type": "code",
   "execution_count": 246,
   "metadata": {},
   "outputs": [],
   "source": [
    "rf_chosen = RandomForestClassifier(n_estimators=600, oob_score=True)\n",
    "rf_chosen.fit(X_train_filtered,y_train)\n",
    "preds_rf_chosen = rf_chosen.predict(X_valid_filtered)"
   ]
  },
  {
   "cell_type": "code",
   "execution_count": 247,
   "metadata": {},
   "outputs": [
    {
     "data": {
      "text/plain": [
       "0.9265536723163842"
      ]
     },
     "execution_count": 247,
     "metadata": {},
     "output_type": "execute_result"
    }
   ],
   "source": [
    "accuracy_score(y_valid,preds_rf_chosen)"
   ]
  },
  {
   "cell_type": "code",
   "execution_count": 569,
   "metadata": {},
   "outputs": [
    {
     "data": {
      "text/plain": [
       "array([[84, 12],\n",
       "       [ 1, 80]])"
      ]
     },
     "execution_count": 569,
     "metadata": {},
     "output_type": "execute_result"
    },
    {
     "data": {
      "image/png": "[encoded data removed]",
      "text/plain": [
       "<Figure size 720x504 with 2 Axes>"
      ]
     },
     "metadata": {
      "needs_background": "light"
     },
     "output_type": "display_data"
    }
   ],
   "source": [
    "assess(y_valid,preds_rf_chosen,'Random Forest with Top 10% Chosen Important Features')"
   ]
  },
  {
   "cell_type": "code",
   "execution_count": 249,
   "metadata": {},
   "outputs": [
    {
     "name": "stdout",
     "output_type": "stream",
     "text": [
      "OOB Accuracy: 0.92\n",
      "Training Accuracy: 0.99\n"
     ]
    }
   ],
   "source": [
    "oob_preds_chosen = rf_chosen.oob_decision_function_\n",
    "oob_labels_chosen = np.argmax(oob_preds_chosen,axis=1)\n",
    "print(\"OOB Accuracy: {0:.2f}\".format(accuracy_score(y_train, oob_labels_chosen)))\n",
    "print(\"Training Accuracy: {0:.2f}\".format(accuracy_score(y_train, rf_chosen.predict(X_train_filtered))))"
   ]
  },
  {
   "cell_type": "code",
   "execution_count": 257,
   "metadata": {},
   "outputs": [
    {
     "data": {
      "text/html": [
       "<div>\n",
       "<style scoped>\n",
       "    .dataframe tbody tr th:only-of-type {\n",
       "        vertical-align: middle;\n",
       "    }\n",
       "\n",
       "    .dataframe tbody tr th {\n",
       "        vertical-align: top;\n",
       "    }\n",
       "\n",
       "    .dataframe thead th {\n",
       "        text-align: right;\n",
       "    }\n",
       "</style>\n",
       "<table border=\"1\" class=\"dataframe\">\n",
       "  <thead>\n",
       "    <tr style=\"text-align: right;\">\n",
       "      <th></th>\n",
       "      <th>0</th>\n",
       "      <th>1</th>\n",
       "      <th>2</th>\n",
       "      <th>3</th>\n",
       "      <th>4</th>\n",
       "      <th>5</th>\n",
       "      <th>6</th>\n",
       "      <th>7</th>\n",
       "      <th>8</th>\n",
       "      <th>9</th>\n",
       "      <th>...</th>\n",
       "      <th>29</th>\n",
       "      <th>30</th>\n",
       "      <th>31</th>\n",
       "      <th>32</th>\n",
       "      <th>33</th>\n",
       "      <th>34</th>\n",
       "      <th>35</th>\n",
       "      <th>36</th>\n",
       "      <th>37</th>\n",
       "      <th>38</th>\n",
       "    </tr>\n",
       "  </thead>\n",
       "  <tbody>\n",
       "    <tr>\n",
       "      <th>0</th>\n",
       "      <td>0.0</td>\n",
       "      <td>1.0</td>\n",
       "      <td>0.0</td>\n",
       "      <td>0.0</td>\n",
       "      <td>0.0</td>\n",
       "      <td>0.0</td>\n",
       "      <td>0.0</td>\n",
       "      <td>0.000000</td>\n",
       "      <td>0.0</td>\n",
       "      <td>0.0</td>\n",
       "      <td>...</td>\n",
       "      <td>0.000000</td>\n",
       "      <td>0.000000</td>\n",
       "      <td>0.500000</td>\n",
       "      <td>0.0</td>\n",
       "      <td>0.000000</td>\n",
       "      <td>1.0</td>\n",
       "      <td>0.652893</td>\n",
       "      <td>0.0</td>\n",
       "      <td>1.0</td>\n",
       "      <td>0.571429</td>\n",
       "    </tr>\n",
       "    <tr>\n",
       "      <th>1</th>\n",
       "      <td>1.0</td>\n",
       "      <td>0.0</td>\n",
       "      <td>0.0</td>\n",
       "      <td>0.0</td>\n",
       "      <td>0.0</td>\n",
       "      <td>0.0</td>\n",
       "      <td>0.0</td>\n",
       "      <td>0.000000</td>\n",
       "      <td>0.0</td>\n",
       "      <td>0.0</td>\n",
       "      <td>...</td>\n",
       "      <td>0.000000</td>\n",
       "      <td>0.000000</td>\n",
       "      <td>0.500000</td>\n",
       "      <td>1.0</td>\n",
       "      <td>0.000000</td>\n",
       "      <td>0.0</td>\n",
       "      <td>0.000000</td>\n",
       "      <td>0.0</td>\n",
       "      <td>1.0</td>\n",
       "      <td>0.000000</td>\n",
       "    </tr>\n",
       "    <tr>\n",
       "      <th>2</th>\n",
       "      <td>0.0</td>\n",
       "      <td>1.0</td>\n",
       "      <td>0.0</td>\n",
       "      <td>0.0</td>\n",
       "      <td>1.0</td>\n",
       "      <td>1.0</td>\n",
       "      <td>1.0</td>\n",
       "      <td>0.000000</td>\n",
       "      <td>1.0</td>\n",
       "      <td>1.0</td>\n",
       "      <td>...</td>\n",
       "      <td>0.000000</td>\n",
       "      <td>0.777778</td>\n",
       "      <td>0.500000</td>\n",
       "      <td>1.0</td>\n",
       "      <td>0.298077</td>\n",
       "      <td>1.0</td>\n",
       "      <td>0.923077</td>\n",
       "      <td>1.0</td>\n",
       "      <td>1.0</td>\n",
       "      <td>0.648148</td>\n",
       "    </tr>\n",
       "    <tr>\n",
       "      <th>3</th>\n",
       "      <td>0.0</td>\n",
       "      <td>0.0</td>\n",
       "      <td>0.0</td>\n",
       "      <td>0.0</td>\n",
       "      <td>0.0</td>\n",
       "      <td>0.0</td>\n",
       "      <td>0.0</td>\n",
       "      <td>0.000000</td>\n",
       "      <td>0.0</td>\n",
       "      <td>0.0</td>\n",
       "      <td>...</td>\n",
       "      <td>0.000000</td>\n",
       "      <td>0.000000</td>\n",
       "      <td>0.000000</td>\n",
       "      <td>0.0</td>\n",
       "      <td>0.000000</td>\n",
       "      <td>0.0</td>\n",
       "      <td>0.000000</td>\n",
       "      <td>0.0</td>\n",
       "      <td>0.0</td>\n",
       "      <td>0.000000</td>\n",
       "    </tr>\n",
       "    <tr>\n",
       "      <th>4</th>\n",
       "      <td>0.0</td>\n",
       "      <td>0.0</td>\n",
       "      <td>0.0</td>\n",
       "      <td>0.0</td>\n",
       "      <td>0.0</td>\n",
       "      <td>0.0</td>\n",
       "      <td>0.0</td>\n",
       "      <td>0.000000</td>\n",
       "      <td>0.0</td>\n",
       "      <td>0.0</td>\n",
       "      <td>...</td>\n",
       "      <td>0.000000</td>\n",
       "      <td>0.000000</td>\n",
       "      <td>0.500000</td>\n",
       "      <td>1.0</td>\n",
       "      <td>0.000000</td>\n",
       "      <td>0.0</td>\n",
       "      <td>0.000000</td>\n",
       "      <td>0.0</td>\n",
       "      <td>0.0</td>\n",
       "      <td>0.000000</td>\n",
       "    </tr>\n",
       "    <tr>\n",
       "      <th>...</th>\n",
       "      <td>...</td>\n",
       "      <td>...</td>\n",
       "      <td>...</td>\n",
       "      <td>...</td>\n",
       "      <td>...</td>\n",
       "      <td>...</td>\n",
       "      <td>...</td>\n",
       "      <td>...</td>\n",
       "      <td>...</td>\n",
       "      <td>...</td>\n",
       "      <td>...</td>\n",
       "      <td>...</td>\n",
       "      <td>...</td>\n",
       "      <td>...</td>\n",
       "      <td>...</td>\n",
       "      <td>...</td>\n",
       "      <td>...</td>\n",
       "      <td>...</td>\n",
       "      <td>...</td>\n",
       "      <td>...</td>\n",
       "      <td>...</td>\n",
       "    </tr>\n",
       "    <tr>\n",
       "      <th>702</th>\n",
       "      <td>0.0</td>\n",
       "      <td>1.0</td>\n",
       "      <td>0.0</td>\n",
       "      <td>0.0</td>\n",
       "      <td>1.0</td>\n",
       "      <td>1.0</td>\n",
       "      <td>0.0</td>\n",
       "      <td>0.580645</td>\n",
       "      <td>1.0</td>\n",
       "      <td>1.0</td>\n",
       "      <td>...</td>\n",
       "      <td>0.000000</td>\n",
       "      <td>0.267857</td>\n",
       "      <td>0.507246</td>\n",
       "      <td>1.0</td>\n",
       "      <td>1.000000</td>\n",
       "      <td>1.0</td>\n",
       "      <td>0.654135</td>\n",
       "      <td>0.0</td>\n",
       "      <td>1.0</td>\n",
       "      <td>0.615646</td>\n",
       "    </tr>\n",
       "    <tr>\n",
       "      <th>703</th>\n",
       "      <td>0.0</td>\n",
       "      <td>1.0</td>\n",
       "      <td>0.8</td>\n",
       "      <td>1.0</td>\n",
       "      <td>0.0</td>\n",
       "      <td>0.0</td>\n",
       "      <td>0.0</td>\n",
       "      <td>0.000000</td>\n",
       "      <td>1.0</td>\n",
       "      <td>1.0</td>\n",
       "      <td>...</td>\n",
       "      <td>0.616570</td>\n",
       "      <td>0.264706</td>\n",
       "      <td>0.500000</td>\n",
       "      <td>1.0</td>\n",
       "      <td>0.000000</td>\n",
       "      <td>0.0</td>\n",
       "      <td>0.000000</td>\n",
       "      <td>0.0</td>\n",
       "      <td>1.0</td>\n",
       "      <td>0.630435</td>\n",
       "    </tr>\n",
       "    <tr>\n",
       "      <th>704</th>\n",
       "      <td>0.0</td>\n",
       "      <td>0.0</td>\n",
       "      <td>0.0</td>\n",
       "      <td>0.0</td>\n",
       "      <td>0.0</td>\n",
       "      <td>0.0</td>\n",
       "      <td>0.0</td>\n",
       "      <td>0.000000</td>\n",
       "      <td>1.0</td>\n",
       "      <td>1.0</td>\n",
       "      <td>...</td>\n",
       "      <td>0.818182</td>\n",
       "      <td>0.181818</td>\n",
       "      <td>0.500000</td>\n",
       "      <td>0.0</td>\n",
       "      <td>0.000000</td>\n",
       "      <td>0.0</td>\n",
       "      <td>0.000000</td>\n",
       "      <td>0.0</td>\n",
       "      <td>0.0</td>\n",
       "      <td>0.600000</td>\n",
       "    </tr>\n",
       "    <tr>\n",
       "      <th>705</th>\n",
       "      <td>0.0</td>\n",
       "      <td>0.0</td>\n",
       "      <td>1.0</td>\n",
       "      <td>0.0</td>\n",
       "      <td>0.0</td>\n",
       "      <td>0.0</td>\n",
       "      <td>0.0</td>\n",
       "      <td>0.000000</td>\n",
       "      <td>1.0</td>\n",
       "      <td>1.0</td>\n",
       "      <td>...</td>\n",
       "      <td>0.666667</td>\n",
       "      <td>0.121212</td>\n",
       "      <td>0.000000</td>\n",
       "      <td>1.0</td>\n",
       "      <td>0.000000</td>\n",
       "      <td>0.0</td>\n",
       "      <td>0.000000</td>\n",
       "      <td>0.0</td>\n",
       "      <td>0.0</td>\n",
       "      <td>0.581395</td>\n",
       "    </tr>\n",
       "    <tr>\n",
       "      <th>706</th>\n",
       "      <td>0.0</td>\n",
       "      <td>1.0</td>\n",
       "      <td>0.0</td>\n",
       "      <td>0.0</td>\n",
       "      <td>1.0</td>\n",
       "      <td>1.0</td>\n",
       "      <td>1.0</td>\n",
       "      <td>0.521739</td>\n",
       "      <td>0.0</td>\n",
       "      <td>0.0</td>\n",
       "      <td>...</td>\n",
       "      <td>0.000000</td>\n",
       "      <td>0.000000</td>\n",
       "      <td>0.562500</td>\n",
       "      <td>1.0</td>\n",
       "      <td>1.000000</td>\n",
       "      <td>1.0</td>\n",
       "      <td>0.657407</td>\n",
       "      <td>0.0</td>\n",
       "      <td>1.0</td>\n",
       "      <td>0.547009</td>\n",
       "    </tr>\n",
       "  </tbody>\n",
       "</table>\n",
       "<p>707 rows × 39 columns</p>\n",
       "</div>"
      ],
      "text/plain": [
       "      0    1    2    3    4    5    6         7    8    9   ...        29  \\\n",
       "0    0.0  1.0  0.0  0.0  0.0  0.0  0.0  0.000000  0.0  0.0  ...  0.000000   \n",
       "1    1.0  0.0  0.0  0.0  0.0  0.0  0.0  0.000000  0.0  0.0  ...  0.000000   \n",
       "2    0.0  1.0  0.0  0.0  1.0  1.0  1.0  0.000000  1.0  1.0  ...  0.000000   \n",
       "3    0.0  0.0  0.0  0.0  0.0  0.0  0.0  0.000000  0.0  0.0  ...  0.000000   \n",
       "4    0.0  0.0  0.0  0.0  0.0  0.0  0.0  0.000000  0.0  0.0  ...  0.000000   \n",
       "..   ...  ...  ...  ...  ...  ...  ...       ...  ...  ...  ...       ...   \n",
       "702  0.0  1.0  0.0  0.0  1.0  1.0  0.0  0.580645  1.0  1.0  ...  0.000000   \n",
       "703  0.0  1.0  0.8  1.0  0.0  0.0  0.0  0.000000  1.0  1.0  ...  0.616570   \n",
       "704  0.0  0.0  0.0  0.0  0.0  0.0  0.0  0.000000  1.0  1.0  ...  0.818182   \n",
       "705  0.0  0.0  1.0  0.0  0.0  0.0  0.0  0.000000  1.0  1.0  ...  0.666667   \n",
       "706  0.0  1.0  0.0  0.0  1.0  1.0  1.0  0.521739  0.0  0.0  ...  0.000000   \n",
       "\n",
       "           30        31   32        33   34        35   36   37        38  \n",
       "0    0.000000  0.500000  0.0  0.000000  1.0  0.652893  0.0  1.0  0.571429  \n",
       "1    0.000000  0.500000  1.0  0.000000  0.0  0.000000  0.0  1.0  0.000000  \n",
       "2    0.777778  0.500000  1.0  0.298077  1.0  0.923077  1.0  1.0  0.648148  \n",
       "3    0.000000  0.000000  0.0  0.000000  0.0  0.000000  0.0  0.0  0.000000  \n",
       "4    0.000000  0.500000  1.0  0.000000  0.0  0.000000  0.0  0.0  0.000000  \n",
       "..        ...       ...  ...       ...  ...       ...  ...  ...       ...  \n",
       "702  0.267857  0.507246  1.0  1.000000  1.0  0.654135  0.0  1.0  0.615646  \n",
       "703  0.264706  0.500000  1.0  0.000000  0.0  0.000000  0.0  1.0  0.630435  \n",
       "704  0.181818  0.500000  0.0  0.000000  0.0  0.000000  0.0  0.0  0.600000  \n",
       "705  0.121212  0.000000  1.0  0.000000  0.0  0.000000  0.0  0.0  0.581395  \n",
       "706  0.000000  0.562500  1.0  1.000000  1.0  0.657407  0.0  1.0  0.547009  \n",
       "\n",
       "[707 rows x 39 columns]"
      ]
     },
     "execution_count": 257,
     "metadata": {},
     "output_type": "execute_result"
    }
   ],
   "source": [
    "pd.DataFrame(X_train_filtered)"
   ]
  },
  {
   "cell_type": "code",
   "execution_count": 250,
   "metadata": {},
   "outputs": [],
   "source": [
    "importances = rf_chosen.feature_importances_\n",
    "std = np.std([tree.feature_importances_ for tree in rf.estimators_],\n",
    "             axis=0)\n",
    "indices = np.argsort(importances)[::-1]"
   ]
  },
  {
   "cell_type": "code",
   "execution_count": 282,
   "metadata": {},
   "outputs": [],
   "source": [
    "feature_names_filtered_rs = np.reshape(feature_names_filtered, (39,))"
   ]
  },
  {
   "cell_type": "code",
   "execution_count": 289,
   "metadata": {},
   "outputs": [
    {
     "data": {
      "text/html": [
       "<div>\n",
       "<style scoped>\n",
       "    .dataframe tbody tr th:only-of-type {\n",
       "        vertical-align: middle;\n",
       "    }\n",
       "\n",
       "    .dataframe tbody tr th {\n",
       "        vertical-align: top;\n",
       "    }\n",
       "\n",
       "    .dataframe thead th {\n",
       "        text-align: right;\n",
       "    }\n",
       "</style>\n",
       "<table border=\"1\" class=\"dataframe\">\n",
       "  <thead>\n",
       "    <tr style=\"text-align: right;\">\n",
       "      <th></th>\n",
       "      <th>Importance</th>\n",
       "      <th>Feature</th>\n",
       "    </tr>\n",
       "  </thead>\n",
       "  <tbody>\n",
       "    <tr>\n",
       "      <th>24</th>\n",
       "      <td>0.090894</td>\n",
       "      <td>Usp3_chr9_-_66449794_66449895</td>\n",
       "    </tr>\n",
       "    <tr>\n",
       "      <th>6</th>\n",
       "      <td>0.075825</td>\n",
       "      <td>Larp1b_chr3_+_40990200_40990310</td>\n",
       "    </tr>\n",
       "    <tr>\n",
       "      <th>16</th>\n",
       "      <td>0.058206</td>\n",
       "      <td>Clip1_chr5_-_123780481_123780679</td>\n",
       "    </tr>\n",
       "    <tr>\n",
       "      <th>5</th>\n",
       "      <td>0.049237</td>\n",
       "      <td>Abcd3_chr3_-_121570645_121570715</td>\n",
       "    </tr>\n",
       "    <tr>\n",
       "      <th>38</th>\n",
       "      <td>0.046930</td>\n",
       "      <td>Cmtr1_chr17_+_29910218_29910398</td>\n",
       "    </tr>\n",
       "    <tr>\n",
       "      <th>22</th>\n",
       "      <td>0.041192</td>\n",
       "      <td>Arhgef12_chr9_-_42955559_42955583</td>\n",
       "    </tr>\n",
       "    <tr>\n",
       "      <th>29</th>\n",
       "      <td>0.040965</td>\n",
       "      <td>2610307P16Rik_chr13_-_28895099_28895191</td>\n",
       "    </tr>\n",
       "    <tr>\n",
       "      <th>12</th>\n",
       "      <td>0.040802</td>\n",
       "      <td>Dio1_chr4_-_107154793_107154937</td>\n",
       "    </tr>\n",
       "    <tr>\n",
       "      <th>10</th>\n",
       "      <td>0.032562</td>\n",
       "      <td>Ankrd13c_chr3_+_157700233_157700395</td>\n",
       "    </tr>\n",
       "    <tr>\n",
       "      <th>15</th>\n",
       "      <td>0.031713</td>\n",
       "      <td>Cabp1_chr5_-_115318846_115319030</td>\n",
       "    </tr>\n",
       "    <tr>\n",
       "      <th>27</th>\n",
       "      <td>0.029359</td>\n",
       "      <td>Nfic_chr10_-_81240657_81240842</td>\n",
       "    </tr>\n",
       "    <tr>\n",
       "      <th>30</th>\n",
       "      <td>0.027897</td>\n",
       "      <td>Erap1_chr13_+_74822740_74822902</td>\n",
       "    </tr>\n",
       "    <tr>\n",
       "      <th>9</th>\n",
       "      <td>0.025209</td>\n",
       "      <td>Clcc1_chr3_+_108581952_108582279</td>\n",
       "    </tr>\n",
       "    <tr>\n",
       "      <th>36</th>\n",
       "      <td>0.024862</td>\n",
       "      <td>Hspa13_chr16_-_75556302_75556470</td>\n",
       "    </tr>\n",
       "    <tr>\n",
       "      <th>37</th>\n",
       "      <td>0.023532</td>\n",
       "      <td>Ift140_chr17_+_25313613_25313755</td>\n",
       "    </tr>\n",
       "    <tr>\n",
       "      <th>35</th>\n",
       "      <td>0.022538</td>\n",
       "      <td>Cpped1_chr16_-_11712746_11712818</td>\n",
       "    </tr>\n",
       "    <tr>\n",
       "      <th>31</th>\n",
       "      <td>0.022202</td>\n",
       "      <td>Ap3m1_chr14_-_21094882_21094892</td>\n",
       "    </tr>\n",
       "    <tr>\n",
       "      <th>14</th>\n",
       "      <td>0.021726</td>\n",
       "      <td>Macf1_chr4_-_123257849_123257867</td>\n",
       "    </tr>\n",
       "    <tr>\n",
       "      <th>17</th>\n",
       "      <td>0.021356</td>\n",
       "      <td>Polg_chr7_-_79105788_79105936</td>\n",
       "    </tr>\n",
       "    <tr>\n",
       "      <th>13</th>\n",
       "      <td>0.019924</td>\n",
       "      <td>Lrp8os2_chr4_-_107667959_107668143</td>\n",
       "    </tr>\n",
       "    <tr>\n",
       "      <th>1</th>\n",
       "      <td>0.019796</td>\n",
       "      <td>Dnajc1_chr2_-_18321168_18321215</td>\n",
       "    </tr>\n",
       "    <tr>\n",
       "      <th>18</th>\n",
       "      <td>0.018468</td>\n",
       "      <td>Rps9_chr7_+_3709006_3709180</td>\n",
       "    </tr>\n",
       "    <tr>\n",
       "      <th>8</th>\n",
       "      <td>0.018452</td>\n",
       "      <td>St7l_chr3_+_104829502_104829595</td>\n",
       "    </tr>\n",
       "    <tr>\n",
       "      <th>32</th>\n",
       "      <td>0.017613</td>\n",
       "      <td>Ghitm_chr14_-_36852592_36852734</td>\n",
       "    </tr>\n",
       "    <tr>\n",
       "      <th>7</th>\n",
       "      <td>0.017247</td>\n",
       "      <td>Clk2_chr3_+_89076921_89077009</td>\n",
       "    </tr>\n",
       "    <tr>\n",
       "      <th>26</th>\n",
       "      <td>0.017153</td>\n",
       "      <td>Ppp2r3a_chr9_-_100994376_100994503</td>\n",
       "    </tr>\n",
       "    <tr>\n",
       "      <th>0</th>\n",
       "      <td>0.016878</td>\n",
       "      <td>Pfkfb2_chr1_-_130624753_130625822</td>\n",
       "    </tr>\n",
       "    <tr>\n",
       "      <th>2</th>\n",
       "      <td>0.014255</td>\n",
       "      <td>2600014E21Rik_chr2_+_75137278_75137378</td>\n",
       "    </tr>\n",
       "    <tr>\n",
       "      <th>21</th>\n",
       "      <td>0.013892</td>\n",
       "      <td>Bcar1_chr8_-_112447330_112447963</td>\n",
       "    </tr>\n",
       "    <tr>\n",
       "      <th>4</th>\n",
       "      <td>0.012933</td>\n",
       "      <td>1700010I02Rik_chr3_-_8010259_8010399</td>\n",
       "    </tr>\n",
       "    <tr>\n",
       "      <th>11</th>\n",
       "      <td>0.012865</td>\n",
       "      <td>Ints8_chr4_-_11209391_11209465</td>\n",
       "    </tr>\n",
       "    <tr>\n",
       "      <th>33</th>\n",
       "      <td>0.012201</td>\n",
       "      <td>Sec24c_chr14_+_20741505_20741651</td>\n",
       "    </tr>\n",
       "    <tr>\n",
       "      <th>28</th>\n",
       "      <td>0.011002</td>\n",
       "      <td>Slc39a11_chr11_-_113138545_113138704</td>\n",
       "    </tr>\n",
       "    <tr>\n",
       "      <th>3</th>\n",
       "      <td>0.010740</td>\n",
       "      <td>Stx16_chr2_+_173934194_173934360</td>\n",
       "    </tr>\n",
       "    <tr>\n",
       "      <th>25</th>\n",
       "      <td>0.010040</td>\n",
       "      <td>Pigb_chr9_-_72925151_72925365</td>\n",
       "    </tr>\n",
       "    <tr>\n",
       "      <th>34</th>\n",
       "      <td>0.009877</td>\n",
       "      <td>Lrmda_chr14_+_22458920_22459102</td>\n",
       "    </tr>\n",
       "    <tr>\n",
       "      <th>23</th>\n",
       "      <td>0.007602</td>\n",
       "      <td>Usp3_chr9_-_66434220_66434301</td>\n",
       "    </tr>\n",
       "    <tr>\n",
       "      <th>20</th>\n",
       "      <td>0.007271</td>\n",
       "      <td>Gcdh_chr8_-_85619030_85619201</td>\n",
       "    </tr>\n",
       "    <tr>\n",
       "      <th>19</th>\n",
       "      <td>0.004783</td>\n",
       "      <td>Cd209b_chr8_-_3975936_3976026</td>\n",
       "    </tr>\n",
       "  </tbody>\n",
       "</table>\n",
       "</div>"
      ],
      "text/plain": [
       "    Importance                                  Feature\n",
       "24    0.090894            Usp3_chr9_-_66449794_66449895\n",
       "6     0.075825          Larp1b_chr3_+_40990200_40990310\n",
       "16    0.058206         Clip1_chr5_-_123780481_123780679\n",
       "5     0.049237         Abcd3_chr3_-_121570645_121570715\n",
       "38    0.046930          Cmtr1_chr17_+_29910218_29910398\n",
       "22    0.041192        Arhgef12_chr9_-_42955559_42955583\n",
       "29    0.040965  2610307P16Rik_chr13_-_28895099_28895191\n",
       "12    0.040802          Dio1_chr4_-_107154793_107154937\n",
       "10    0.032562      Ankrd13c_chr3_+_157700233_157700395\n",
       "15    0.031713         Cabp1_chr5_-_115318846_115319030\n",
       "27    0.029359           Nfic_chr10_-_81240657_81240842\n",
       "30    0.027897          Erap1_chr13_+_74822740_74822902\n",
       "9     0.025209         Clcc1_chr3_+_108581952_108582279\n",
       "36    0.024862         Hspa13_chr16_-_75556302_75556470\n",
       "37    0.023532         Ift140_chr17_+_25313613_25313755\n",
       "35    0.022538         Cpped1_chr16_-_11712746_11712818\n",
       "31    0.022202          Ap3m1_chr14_-_21094882_21094892\n",
       "14    0.021726         Macf1_chr4_-_123257849_123257867\n",
       "17    0.021356            Polg_chr7_-_79105788_79105936\n",
       "13    0.019924       Lrp8os2_chr4_-_107667959_107668143\n",
       "1     0.019796          Dnajc1_chr2_-_18321168_18321215\n",
       "18    0.018468              Rps9_chr7_+_3709006_3709180\n",
       "8     0.018452          St7l_chr3_+_104829502_104829595\n",
       "32    0.017613          Ghitm_chr14_-_36852592_36852734\n",
       "7     0.017247            Clk2_chr3_+_89076921_89077009\n",
       "26    0.017153       Ppp2r3a_chr9_-_100994376_100994503\n",
       "0     0.016878        Pfkfb2_chr1_-_130624753_130625822\n",
       "2     0.014255   2600014E21Rik_chr2_+_75137278_75137378\n",
       "21    0.013892         Bcar1_chr8_-_112447330_112447963\n",
       "4     0.012933     1700010I02Rik_chr3_-_8010259_8010399\n",
       "11    0.012865           Ints8_chr4_-_11209391_11209465\n",
       "33    0.012201         Sec24c_chr14_+_20741505_20741651\n",
       "28    0.011002     Slc39a11_chr11_-_113138545_113138704\n",
       "3     0.010740         Stx16_chr2_+_173934194_173934360\n",
       "25    0.010040            Pigb_chr9_-_72925151_72925365\n",
       "34    0.009877          Lrmda_chr14_+_22458920_22459102\n",
       "23    0.007602            Usp3_chr9_-_66434220_66434301\n",
       "20    0.007271            Gcdh_chr8_-_85619030_85619201\n",
       "19    0.004783            Cd209b_chr8_-_3975936_3976026"
      ]
     },
     "execution_count": 289,
     "metadata": {},
     "output_type": "execute_result"
    }
   ],
   "source": [
    "feature_importances_ranked = pd.DataFrame({'Importance': importances, 'Feature': feature_names_filtered_rs})\n",
    "feature_importances_ranked.sort_values(by='Importance', ascending=False)"
   ]
  },
  {
   "cell_type": "code",
   "execution_count": 290,
   "metadata": {},
   "outputs": [],
   "source": [
    "feature_importances_ranked.to_csv('boruta_feature_importances_ranked.csv')"
   ]
  },
  {
   "cell_type": "code",
   "execution_count": 274,
   "metadata": {},
   "outputs": [
    {
     "data": {
      "image/png": "[encoded data removed]",
      "text/plain": [
       "<Figure size 5040x1440 with 1 Axes>"
      ]
     },
     "metadata": {
      "needs_background": "light"
     },
     "output_type": "display_data"
    }
   ],
   "source": [
    "plt.figure(figsize=(70,20))\n",
    "plt.style.use('seaborn-notebook')\n",
    "plt.title(\"Feature importances\", fontsize=25)\n",
    "plt.bar(range(X_train_filtered.shape[1]), importances[indices],\n",
    "       color=\"peachpuff\", yerr=std[indices], align=\"center\")\n",
    "plt.xticks(range(X_train_filtered.shape[1]), indices,rotation=90)\n",
    "plt.xlim([-1, X_train_filtered.shape[1]])\n",
    "plt.show()"
   ]
  },
  {
   "cell_type": "code",
   "execution_count": 253,
   "metadata": {},
   "outputs": [
    {
     "name": "stdout",
     "output_type": "stream",
     "text": [
      "1. feature 24 (0.090894)\n",
      "2. feature 6 (0.075825)\n",
      "3. feature 16 (0.058206)\n",
      "4. feature 5 (0.049237)\n",
      "5. feature 38 (0.046930)\n",
      "6. feature 22 (0.041192)\n",
      "7. feature 29 (0.040965)\n",
      "8. feature 12 (0.040802)\n",
      "9. feature 10 (0.032562)\n",
      "10. feature 15 (0.031713)\n",
      "11. feature 27 (0.029359)\n",
      "12. feature 30 (0.027897)\n",
      "13. feature 9 (0.025209)\n",
      "14. feature 36 (0.024862)\n",
      "15. feature 37 (0.023532)\n",
      "16. feature 35 (0.022538)\n",
      "17. feature 31 (0.022202)\n",
      "18. feature 14 (0.021726)\n",
      "19. feature 17 (0.021356)\n",
      "20. feature 13 (0.019924)\n",
      "21. feature 1 (0.019796)\n",
      "22. feature 18 (0.018468)\n",
      "23. feature 8 (0.018452)\n",
      "24. feature 32 (0.017613)\n",
      "25. feature 7 (0.017247)\n",
      "26. feature 26 (0.017153)\n",
      "27. feature 0 (0.016878)\n",
      "28. feature 2 (0.014255)\n",
      "29. feature 21 (0.013892)\n",
      "30. feature 4 (0.012933)\n",
      "31. feature 11 (0.012865)\n",
      "32. feature 33 (0.012201)\n",
      "33. feature 28 (0.011002)\n",
      "34. feature 3 (0.010740)\n",
      "35. feature 25 (0.010040)\n",
      "36. feature 34 (0.009877)\n",
      "37. feature 23 (0.007602)\n",
      "38. feature 20 (0.007271)\n",
      "39. feature 19 (0.004783)\n"
     ]
    }
   ],
   "source": [
    "for f in range(X_train_filtered.shape[1]):\n",
    "    print(\"%d. feature %d (%f)\" % (f + 1, indices[f], importances[indices[f]]))"
   ]
  },
  {
   "cell_type": "markdown",
   "metadata": {},
   "source": [
    "Deep Network"
   ]
  },
  {
   "cell_type": "markdown",
   "metadata": {},
   "source": [
    "Test one"
   ]
  },
  {
   "cell_type": "code",
   "execution_count": 310,
   "metadata": {},
   "outputs": [],
   "source": [
    "from numpy import loadtxt\n",
    "import tensorflow\n",
    "from tensorflow.keras.models import Sequential\n",
    "from tensorflow.keras.layers import Dense\n",
    "import pandas as pd"
   ]
  },
  {
   "cell_type": "code",
   "execution_count": 343,
   "metadata": {},
   "outputs": [],
   "source": [
    "model = Sequential()\n",
    "model.add(Dense(12, input_shape=(39,), activation='relu'))\n",
    "model.add(Dense(8, activation='relu'))\n",
    "model.add(Dense(1, activation='sigmoid'))"
   ]
  },
  {
   "cell_type": "code",
   "execution_count": 344,
   "metadata": {},
   "outputs": [],
   "source": [
    "model.compile(loss='binary_crossentropy', optimizer='adam', metrics=['accuracy'])"
   ]
  },
  {
   "cell_type": "code",
   "execution_count": 345,
   "metadata": {},
   "outputs": [
    {
     "name": "stdout",
     "output_type": "stream",
     "text": [
      "Epoch 1/150\n",
      "71/71 [==============================] - 0s 959us/step - loss: 0.5343 - accuracy: 0.7086\n",
      "Epoch 2/150\n",
      "71/71 [==============================] - 0s 1ms/step - loss: 0.4092 - accuracy: 0.8430\n",
      "Epoch 3/150\n",
      "71/71 [==============================] - 0s 1ms/step - loss: 0.2864 - accuracy: 0.9024\n",
      "Epoch 4/150\n",
      "71/71 [==============================] - 0s 1ms/step - loss: 0.2296 - accuracy: 0.9066\n",
      "Epoch 5/150\n",
      "71/71 [==============================] - 0s 1ms/step - loss: 0.2069 - accuracy: 0.9151\n",
      "Epoch 6/150\n",
      "71/71 [==============================] - 0s 1ms/step - loss: 0.1936 - accuracy: 0.9052\n",
      "Epoch 7/150\n",
      "71/71 [==============================] - 0s 1ms/step - loss: 0.1834 - accuracy: 0.9194\n",
      "Epoch 8/150\n",
      "71/71 [==============================] - 0s 1ms/step - loss: 0.1776 - accuracy: 0.9180\n",
      "Epoch 9/150\n",
      "71/71 [==============================] - 0s 1ms/step - loss: 0.1717 - accuracy: 0.9208\n",
      "Epoch 10/150\n",
      "71/71 [==============================] - 0s 1ms/step - loss: 0.1670 - accuracy: 0.9250\n",
      "Epoch 11/150\n",
      "71/71 [==============================] - 0s 1ms/step - loss: 0.1611 - accuracy: 0.9279\n",
      "Epoch 12/150\n",
      "71/71 [==============================] - 0s 1ms/step - loss: 0.1583 - accuracy: 0.9264\n",
      "Epoch 13/150\n",
      "71/71 [==============================] - 0s 1ms/step - loss: 0.1538 - accuracy: 0.9321\n",
      "Epoch 14/150\n",
      "71/71 [==============================] - 0s 1ms/step - loss: 0.1519 - accuracy: 0.9335\n",
      "Epoch 15/150\n",
      "71/71 [==============================] - 0s 1ms/step - loss: 0.1513 - accuracy: 0.9349\n",
      "Epoch 16/150\n",
      "71/71 [==============================] - 0s 2ms/step - loss: 0.1462 - accuracy: 0.9335\n",
      "Epoch 17/150\n",
      "71/71 [==============================] - 0s 1ms/step - loss: 0.1419 - accuracy: 0.9364\n",
      "Epoch 18/150\n",
      "71/71 [==============================] - 0s 1ms/step - loss: 0.1422 - accuracy: 0.9349\n",
      "Epoch 19/150\n",
      "71/71 [==============================] - 0s 1ms/step - loss: 0.1381 - accuracy: 0.9392\n",
      "Epoch 20/150\n",
      "71/71 [==============================] - 0s 1ms/step - loss: 0.1354 - accuracy: 0.9392\n",
      "Epoch 21/150\n",
      "71/71 [==============================] - 0s 1ms/step - loss: 0.1345 - accuracy: 0.9392\n",
      "Epoch 22/150\n",
      "71/71 [==============================] - 0s 2ms/step - loss: 0.1328 - accuracy: 0.9378\n",
      "Epoch 23/150\n",
      "71/71 [==============================] - 0s 2ms/step - loss: 0.1302 - accuracy: 0.9378\n",
      "Epoch 24/150\n",
      "71/71 [==============================] - 0s 1ms/step - loss: 0.1269 - accuracy: 0.9463\n",
      "Epoch 25/150\n",
      "71/71 [==============================] - 0s 1ms/step - loss: 0.1283 - accuracy: 0.9392\n",
      "Epoch 26/150\n",
      "71/71 [==============================] - 0s 1ms/step - loss: 0.1221 - accuracy: 0.9434\n",
      "Epoch 27/150\n",
      "71/71 [==============================] - 0s 1ms/step - loss: 0.1203 - accuracy: 0.9505\n",
      "Epoch 28/150\n",
      "71/71 [==============================] - 0s 1ms/step - loss: 0.1190 - accuracy: 0.9477\n",
      "Epoch 29/150\n",
      "71/71 [==============================] - 0s 1ms/step - loss: 0.1176 - accuracy: 0.9463\n",
      "Epoch 30/150\n",
      "71/71 [==============================] - 0s 2ms/step - loss: 0.1158 - accuracy: 0.9491\n",
      "Epoch 31/150\n",
      "71/71 [==============================] - 0s 2ms/step - loss: 0.1128 - accuracy: 0.9491\n",
      "Epoch 32/150\n",
      "71/71 [==============================] - 0s 2ms/step - loss: 0.1098 - accuracy: 0.9533\n",
      "Epoch 33/150\n",
      "71/71 [==============================] - 0s 1ms/step - loss: 0.1102 - accuracy: 0.9533\n",
      "Epoch 34/150\n",
      "71/71 [==============================] - 0s 1ms/step - loss: 0.1063 - accuracy: 0.9519\n",
      "Epoch 35/150\n",
      "71/71 [==============================] - 0s 1ms/step - loss: 0.1041 - accuracy: 0.9604\n",
      "Epoch 36/150\n",
      "71/71 [==============================] - 0s 1ms/step - loss: 0.1038 - accuracy: 0.9562\n",
      "Epoch 37/150\n",
      "71/71 [==============================] - 0s 1ms/step - loss: 0.1007 - accuracy: 0.9632\n",
      "Epoch 38/150\n",
      "71/71 [==============================] - 0s 927us/step - loss: 0.0985 - accuracy: 0.9576\n",
      "Epoch 39/150\n",
      "71/71 [==============================] - 0s 909us/step - loss: 0.0970 - accuracy: 0.9632\n",
      "Epoch 40/150\n",
      "71/71 [==============================] - 0s 890us/step - loss: 0.0959 - accuracy: 0.9576\n",
      "Epoch 41/150\n",
      "71/71 [==============================] - 0s 951us/step - loss: 0.0946 - accuracy: 0.9618\n",
      "Epoch 42/150\n",
      "71/71 [==============================] - 0s 1ms/step - loss: 0.0913 - accuracy: 0.9632\n",
      "Epoch 43/150\n",
      "71/71 [==============================] - 0s 1ms/step - loss: 0.0902 - accuracy: 0.9646\n",
      "Epoch 44/150\n",
      "71/71 [==============================] - 0s 1ms/step - loss: 0.0875 - accuracy: 0.9689\n",
      "Epoch 45/150\n",
      "71/71 [==============================] - 0s 1ms/step - loss: 0.0864 - accuracy: 0.9675\n",
      "Epoch 46/150\n",
      "71/71 [==============================] - 0s 1ms/step - loss: 0.0838 - accuracy: 0.9675\n",
      "Epoch 47/150\n",
      "71/71 [==============================] - 0s 1ms/step - loss: 0.0835 - accuracy: 0.9689\n",
      "Epoch 48/150\n",
      "71/71 [==============================] - 0s 1ms/step - loss: 0.0818 - accuracy: 0.9703\n",
      "Epoch 49/150\n",
      "71/71 [==============================] - 0s 1ms/step - loss: 0.0800 - accuracy: 0.9689\n",
      "Epoch 50/150\n",
      "71/71 [==============================] - 0s 1ms/step - loss: 0.0781 - accuracy: 0.9731\n",
      "Epoch 51/150\n",
      "71/71 [==============================] - 0s 1ms/step - loss: 0.0758 - accuracy: 0.9745\n",
      "Epoch 52/150\n",
      "71/71 [==============================] - 0s 1ms/step - loss: 0.0748 - accuracy: 0.9731\n",
      "Epoch 53/150\n",
      "71/71 [==============================] - 0s 1ms/step - loss: 0.0730 - accuracy: 0.9760\n",
      "Epoch 54/150\n",
      "71/71 [==============================] - 0s 1ms/step - loss: 0.0718 - accuracy: 0.9745\n",
      "Epoch 55/150\n",
      "71/71 [==============================] - 0s 1ms/step - loss: 0.0708 - accuracy: 0.9760\n",
      "Epoch 56/150\n",
      "71/71 [==============================] - 0s 1ms/step - loss: 0.0692 - accuracy: 0.9760\n",
      "Epoch 57/150\n",
      "71/71 [==============================] - 0s 1ms/step - loss: 0.0685 - accuracy: 0.9760\n",
      "Epoch 58/150\n",
      "71/71 [==============================] - 0s 1ms/step - loss: 0.0665 - accuracy: 0.9760\n",
      "Epoch 59/150\n",
      "71/71 [==============================] - 0s 1ms/step - loss: 0.0656 - accuracy: 0.9774\n",
      "Epoch 60/150\n",
      "71/71 [==============================] - 0s 2ms/step - loss: 0.0640 - accuracy: 0.9760\n",
      "Epoch 61/150\n",
      "71/71 [==============================] - 0s 1ms/step - loss: 0.0632 - accuracy: 0.9774\n",
      "Epoch 62/150\n",
      "71/71 [==============================] - 0s 1ms/step - loss: 0.0624 - accuracy: 0.9774\n",
      "Epoch 63/150\n",
      "71/71 [==============================] - 0s 1ms/step - loss: 0.0607 - accuracy: 0.9788\n",
      "Epoch 64/150\n",
      "71/71 [==============================] - 0s 1ms/step - loss: 0.0607 - accuracy: 0.9774\n",
      "Epoch 65/150\n",
      "71/71 [==============================] - 0s 1ms/step - loss: 0.0590 - accuracy: 0.9774\n",
      "Epoch 66/150\n",
      "71/71 [==============================] - 0s 1ms/step - loss: 0.0574 - accuracy: 0.9774\n",
      "Epoch 67/150\n",
      "71/71 [==============================] - 0s 1ms/step - loss: 0.0565 - accuracy: 0.9816\n",
      "Epoch 68/150\n",
      "71/71 [==============================] - 0s 1ms/step - loss: 0.0555 - accuracy: 0.9788\n",
      "Epoch 69/150\n",
      "71/71 [==============================] - 0s 1ms/step - loss: 0.0547 - accuracy: 0.9816\n",
      "Epoch 70/150\n",
      "71/71 [==============================] - 0s 1ms/step - loss: 0.0537 - accuracy: 0.9816\n",
      "Epoch 71/150\n",
      "71/71 [==============================] - 0s 1ms/step - loss: 0.0528 - accuracy: 0.9816\n",
      "Epoch 72/150\n",
      "71/71 [==============================] - 0s 1ms/step - loss: 0.0515 - accuracy: 0.9816\n",
      "Epoch 73/150\n",
      "71/71 [==============================] - 0s 1ms/step - loss: 0.0501 - accuracy: 0.9816\n",
      "Epoch 74/150\n",
      "71/71 [==============================] - 0s 1ms/step - loss: 0.0506 - accuracy: 0.9844\n",
      "Epoch 75/150\n",
      "71/71 [==============================] - 0s 1ms/step - loss: 0.0496 - accuracy: 0.9830\n",
      "Epoch 76/150\n",
      "71/71 [==============================] - 0s 1ms/step - loss: 0.0479 - accuracy: 0.9844\n",
      "Epoch 77/150\n",
      "71/71 [==============================] - 0s 1ms/step - loss: 0.0475 - accuracy: 0.9830\n",
      "Epoch 78/150\n",
      "71/71 [==============================] - 0s 1ms/step - loss: 0.0470 - accuracy: 0.9844\n",
      "Epoch 79/150\n",
      "71/71 [==============================] - 0s 1ms/step - loss: 0.0462 - accuracy: 0.9859\n",
      "Epoch 80/150\n",
      "71/71 [==============================] - 0s 1ms/step - loss: 0.0454 - accuracy: 0.9830\n",
      "Epoch 81/150\n",
      "71/71 [==============================] - 0s 1ms/step - loss: 0.0443 - accuracy: 0.9859\n",
      "Epoch 82/150\n",
      "71/71 [==============================] - 0s 1ms/step - loss: 0.0445 - accuracy: 0.9844\n",
      "Epoch 83/150\n",
      "71/71 [==============================] - 0s 1ms/step - loss: 0.0443 - accuracy: 0.9844\n",
      "Epoch 84/150\n",
      "71/71 [==============================] - 0s 1ms/step - loss: 0.0426 - accuracy: 0.9844\n",
      "Epoch 85/150\n",
      "71/71 [==============================] - 0s 1ms/step - loss: 0.0419 - accuracy: 0.9844\n",
      "Epoch 86/150\n",
      "71/71 [==============================] - 0s 1ms/step - loss: 0.0412 - accuracy: 0.9859\n",
      "Epoch 87/150\n",
      "71/71 [==============================] - 0s 1ms/step - loss: 0.0420 - accuracy: 0.9844\n",
      "Epoch 88/150\n",
      "71/71 [==============================] - 0s 1ms/step - loss: 0.0402 - accuracy: 0.9859\n",
      "Epoch 89/150\n",
      "71/71 [==============================] - 0s 1ms/step - loss: 0.0402 - accuracy: 0.9859\n",
      "Epoch 90/150\n",
      "71/71 [==============================] - 0s 1ms/step - loss: 0.0403 - accuracy: 0.9844\n",
      "Epoch 91/150\n",
      "71/71 [==============================] - 0s 1ms/step - loss: 0.0392 - accuracy: 0.9859\n",
      "Epoch 92/150\n",
      "71/71 [==============================] - 0s 1ms/step - loss: 0.0393 - accuracy: 0.9844\n",
      "Epoch 93/150\n",
      "71/71 [==============================] - 0s 1ms/step - loss: 0.0381 - accuracy: 0.9859\n",
      "Epoch 94/150\n",
      "71/71 [==============================] - 0s 1ms/step - loss: 0.0378 - accuracy: 0.9873\n",
      "Epoch 95/150\n",
      "71/71 [==============================] - 0s 1ms/step - loss: 0.0376 - accuracy: 0.9859\n",
      "Epoch 96/150\n",
      "71/71 [==============================] - 0s 1ms/step - loss: 0.0370 - accuracy: 0.9873\n",
      "Epoch 97/150\n",
      "71/71 [==============================] - 0s 1ms/step - loss: 0.0370 - accuracy: 0.9859\n",
      "Epoch 98/150\n",
      "71/71 [==============================] - 0s 1ms/step - loss: 0.0361 - accuracy: 0.9873\n",
      "Epoch 99/150\n",
      "71/71 [==============================] - 0s 1ms/step - loss: 0.0364 - accuracy: 0.9873\n",
      "Epoch 100/150\n",
      "71/71 [==============================] - 0s 1ms/step - loss: 0.0357 - accuracy: 0.9873\n",
      "Epoch 101/150\n",
      "71/71 [==============================] - 0s 1ms/step - loss: 0.0355 - accuracy: 0.9873\n",
      "Epoch 102/150\n",
      "71/71 [==============================] - 0s 1ms/step - loss: 0.0348 - accuracy: 0.9873\n",
      "Epoch 103/150\n",
      "71/71 [==============================] - 0s 1ms/step - loss: 0.0348 - accuracy: 0.9873\n",
      "Epoch 104/150\n",
      "71/71 [==============================] - 0s 1ms/step - loss: 0.0344 - accuracy: 0.9873\n",
      "Epoch 105/150\n",
      "71/71 [==============================] - 0s 1ms/step - loss: 0.0339 - accuracy: 0.9873\n",
      "Epoch 106/150\n",
      "71/71 [==============================] - 0s 1ms/step - loss: 0.0345 - accuracy: 0.9873\n",
      "Epoch 107/150\n",
      "71/71 [==============================] - 0s 1ms/step - loss: 0.0349 - accuracy: 0.9873\n",
      "Epoch 108/150\n",
      "71/71 [==============================] - 0s 1ms/step - loss: 0.0332 - accuracy: 0.9873\n",
      "Epoch 109/150\n",
      "71/71 [==============================] - 0s 1ms/step - loss: 0.0333 - accuracy: 0.9873\n",
      "Epoch 110/150\n",
      "71/71 [==============================] - 0s 1ms/step - loss: 0.0335 - accuracy: 0.9873\n",
      "Epoch 111/150\n",
      "71/71 [==============================] - 0s 1ms/step - loss: 0.0330 - accuracy: 0.9873\n",
      "Epoch 112/150\n",
      "71/71 [==============================] - 0s 1ms/step - loss: 0.0325 - accuracy: 0.9873\n",
      "Epoch 113/150\n",
      "71/71 [==============================] - 0s 1ms/step - loss: 0.0323 - accuracy: 0.9873\n",
      "Epoch 114/150\n",
      "71/71 [==============================] - 0s 1ms/step - loss: 0.0325 - accuracy: 0.9873\n",
      "Epoch 115/150\n",
      "71/71 [==============================] - 0s 1ms/step - loss: 0.0324 - accuracy: 0.9873\n",
      "Epoch 116/150\n",
      "71/71 [==============================] - 0s 1ms/step - loss: 0.0320 - accuracy: 0.9873\n",
      "Epoch 117/150\n",
      "71/71 [==============================] - 0s 1ms/step - loss: 0.0322 - accuracy: 0.9873\n",
      "Epoch 118/150\n",
      "71/71 [==============================] - 0s 1ms/step - loss: 0.0315 - accuracy: 0.9873\n",
      "Epoch 119/150\n",
      "71/71 [==============================] - 0s 1ms/step - loss: 0.0313 - accuracy: 0.9873\n",
      "Epoch 120/150\n",
      "71/71 [==============================] - 0s 1ms/step - loss: 0.0318 - accuracy: 0.9873\n",
      "Epoch 121/150\n",
      "71/71 [==============================] - 0s 1ms/step - loss: 0.0319 - accuracy: 0.9873\n",
      "Epoch 122/150\n",
      "71/71 [==============================] - 0s 1ms/step - loss: 0.0317 - accuracy: 0.9873\n",
      "Epoch 123/150\n",
      "71/71 [==============================] - 0s 1ms/step - loss: 0.0316 - accuracy: 0.9873\n",
      "Epoch 124/150\n",
      "71/71 [==============================] - 0s 1ms/step - loss: 0.0314 - accuracy: 0.9873\n",
      "Epoch 125/150\n",
      "71/71 [==============================] - 0s 1ms/step - loss: 0.0310 - accuracy: 0.9873\n",
      "Epoch 126/150\n",
      "71/71 [==============================] - 0s 1ms/step - loss: 0.0307 - accuracy: 0.9873\n",
      "Epoch 127/150\n",
      "71/71 [==============================] - 0s 1ms/step - loss: 0.0307 - accuracy: 0.9873\n",
      "Epoch 128/150\n",
      "71/71 [==============================] - 0s 1ms/step - loss: 0.0308 - accuracy: 0.9873\n",
      "Epoch 129/150\n",
      "71/71 [==============================] - 0s 1ms/step - loss: 0.0304 - accuracy: 0.9873\n",
      "Epoch 130/150\n",
      "71/71 [==============================] - 0s 1ms/step - loss: 0.0302 - accuracy: 0.9873\n",
      "Epoch 131/150\n",
      "71/71 [==============================] - 0s 1ms/step - loss: 0.0307 - accuracy: 0.9873\n",
      "Epoch 132/150\n",
      "71/71 [==============================] - 0s 1ms/step - loss: 0.0314 - accuracy: 0.9873\n",
      "Epoch 133/150\n",
      "71/71 [==============================] - 0s 1ms/step - loss: 0.0306 - accuracy: 0.9873\n",
      "Epoch 134/150\n",
      "71/71 [==============================] - 0s 1ms/step - loss: 0.0297 - accuracy: 0.9873\n",
      "Epoch 135/150\n",
      "71/71 [==============================] - 0s 1ms/step - loss: 0.0300 - accuracy: 0.9873\n",
      "Epoch 136/150\n",
      "71/71 [==============================] - 0s 1ms/step - loss: 0.0304 - accuracy: 0.9873\n",
      "Epoch 137/150\n",
      "71/71 [==============================] - 0s 1ms/step - loss: 0.0303 - accuracy: 0.9873\n",
      "Epoch 138/150\n",
      "71/71 [==============================] - 0s 1ms/step - loss: 0.0300 - accuracy: 0.9873\n",
      "Epoch 139/150\n",
      "71/71 [==============================] - 0s 1ms/step - loss: 0.0299 - accuracy: 0.9873\n",
      "Epoch 140/150\n",
      "71/71 [==============================] - 0s 1ms/step - loss: 0.0305 - accuracy: 0.9873\n",
      "Epoch 141/150\n",
      "71/71 [==============================] - 0s 1ms/step - loss: 0.0300 - accuracy: 0.9873\n",
      "Epoch 142/150\n",
      "71/71 [==============================] - 0s 1ms/step - loss: 0.0295 - accuracy: 0.9873\n",
      "Epoch 143/150\n",
      "71/71 [==============================] - 0s 1ms/step - loss: 0.0299 - accuracy: 0.9873\n",
      "Epoch 144/150\n",
      "71/71 [==============================] - 0s 1ms/step - loss: 0.0290 - accuracy: 0.9873\n",
      "Epoch 145/150\n",
      "71/71 [==============================] - 0s 1ms/step - loss: 0.0296 - accuracy: 0.9873\n",
      "Epoch 146/150\n",
      "71/71 [==============================] - 0s 1ms/step - loss: 0.0297 - accuracy: 0.9873\n",
      "Epoch 147/150\n",
      "71/71 [==============================] - 0s 1ms/step - loss: 0.0292 - accuracy: 0.9873\n",
      "Epoch 148/150\n",
      "71/71 [==============================] - 0s 1ms/step - loss: 0.0296 - accuracy: 0.9873\n",
      "Epoch 149/150\n",
      "71/71 [==============================] - 0s 1ms/step - loss: 0.0292 - accuracy: 0.9873\n",
      "Epoch 150/150\n",
      "71/71 [==============================] - 0s 1ms/step - loss: 0.0298 - accuracy: 0.9873\n"
     ]
    },
    {
     "data": {
      "text/plain": [
       "<keras.callbacks.History at 0x7f8054836820>"
      ]
     },
     "execution_count": 345,
     "metadata": {},
     "output_type": "execute_result"
    }
   ],
   "source": [
    "model.fit(X_train_filtered, y_train, epochs=150, batch_size=10)"
   ]
  },
  {
   "cell_type": "code",
   "execution_count": 348,
   "metadata": {},
   "outputs": [
    {
     "name": "stdout",
     "output_type": "stream",
     "text": [
      "6/6 [==============================] - 0s 1ms/step - loss: 0.8075 - accuracy: 0.8814\n"
     ]
    }
   ],
   "source": [
    "_, accuracy = model.evaluate(X_valid_filtered, y_valid)"
   ]
  },
  {
   "cell_type": "markdown",
   "metadata": {},
   "source": [
    "Try Hyperparameter Tuning"
   ]
  },
  {
   "cell_type": "code",
   "execution_count": 349,
   "metadata": {},
   "outputs": [],
   "source": [
    "import tensorflow as tf\n",
    "from tensorflow import keras"
   ]
  },
  {
   "cell_type": "code",
   "execution_count": 350,
   "metadata": {},
   "outputs": [],
   "source": [
    "import keras_tuner as kt"
   ]
  },
  {
   "cell_type": "code",
   "execution_count": 351,
   "metadata": {},
   "outputs": [],
   "source": [
    "def model_builder(hp):\n",
    "  model = keras.Sequential()\n",
    "  model.add(keras.layers.Flatten(input_shape=(39,)))\n",
    "\n",
    "  # Tune the number of units in the first Dense layer\n",
    "  # Choose an optimal value between 32-512\n",
    "  hp_units = hp.Int('units', min_value=32, max_value=512, step=32)\n",
    "  model.add(keras.layers.Dense(units=hp_units, activation='relu'))\n",
    "  model.add(keras.layers.Dense(10))\n",
    "\n",
    "  # Tune the learning rate for the optimizer\n",
    "  # Choose an optimal value from 0.01, 0.001, or 0.0001\n",
    "  hp_learning_rate = hp.Choice('learning_rate', values=[1e-2, 1e-3, 1e-4])\n",
    "\n",
    "  model.compile(optimizer=keras.optimizers.Adam(learning_rate=hp_learning_rate),\n",
    "                loss=keras.losses.SparseCategoricalCrossentropy(from_logits=True),\n",
    "                metrics=['accuracy'])\n",
    "\n",
    "  return model"
   ]
  },
  {
   "cell_type": "code",
   "execution_count": 352,
   "metadata": {},
   "outputs": [
    {
     "name": "stdout",
     "output_type": "stream",
     "text": [
      "INFO:tensorflow:Reloading Oracle from existing project my_dir/intro_to_kt/oracle.json\n",
      "INFO:tensorflow:Reloading Tuner from my_dir/intro_to_kt/tuner0.json\n"
     ]
    }
   ],
   "source": [
    "tuner = kt.Hyperband(model_builder,\n",
    "                     objective='val_accuracy',\n",
    "                     max_epochs=10,\n",
    "                     factor=3,\n",
    "                     directory='my_dir',\n",
    "                     project_name='intro_to_kt')"
   ]
  },
  {
   "cell_type": "code",
   "execution_count": 353,
   "metadata": {},
   "outputs": [],
   "source": [
    "stop_early = tf.keras.callbacks.EarlyStopping(monitor='val_loss', patience=5)"
   ]
  },
  {
   "cell_type": "code",
   "execution_count": 355,
   "metadata": {},
   "outputs": [
    {
     "name": "stdout",
     "output_type": "stream",
     "text": [
      "Trial 44 Complete [00h 00m 01s]\n",
      "val_accuracy: 0.5281690359115601\n",
      "\n",
      "Best val_accuracy So Far: 0.9154929518699646\n",
      "Total elapsed time: 00h 00m 03s\n",
      "INFO:tensorflow:Oracle triggered exit\n",
      "\n",
      "The hyperparameter search is complete. The optimal number of units in the first densely-connected\n",
      "layer is 96 and the optimal learning rate for the optimizer\n",
      "is 0.01.\n",
      "\n"
     ]
    }
   ],
   "source": [
    "tuner.search(X_train_filtered, y_train, epochs=50, validation_split=0.2, callbacks=[stop_early])\n",
    "\n",
    "# Get the optimal hyperparameters\n",
    "best_hps=tuner.get_best_hyperparameters(num_trials=1)[0]\n",
    "\n",
    "print(f\"\"\"\n",
    "The hyperparameter search is complete. The optimal number of units in the first densely-connected\n",
    "layer is {best_hps.get('units')} and the optimal learning rate for the optimizer\n",
    "is {best_hps.get('learning_rate')}.\n",
    "\"\"\")"
   ]
  },
  {
   "cell_type": "code",
   "execution_count": 356,
   "metadata": {},
   "outputs": [
    {
     "name": "stdout",
     "output_type": "stream",
     "text": [
      "Epoch 1/50\n",
      "18/18 [==============================] - 0s 9ms/step - loss: 0.6803 - accuracy: 0.7947 - val_loss: 0.2729 - val_accuracy: 0.8732\n",
      "Epoch 2/50\n",
      "18/18 [==============================] - 0s 2ms/step - loss: 0.2283 - accuracy: 0.9133 - val_loss: 0.2257 - val_accuracy: 0.8873\n",
      "Epoch 3/50\n",
      "18/18 [==============================] - 0s 2ms/step - loss: 0.1830 - accuracy: 0.9186 - val_loss: 0.2223 - val_accuracy: 0.8944\n",
      "Epoch 4/50\n",
      "18/18 [==============================] - 0s 3ms/step - loss: 0.1710 - accuracy: 0.9292 - val_loss: 0.2043 - val_accuracy: 0.9155\n",
      "Epoch 5/50\n",
      "18/18 [==============================] - 0s 3ms/step - loss: 0.1451 - accuracy: 0.9434 - val_loss: 0.2023 - val_accuracy: 0.9085\n",
      "Epoch 6/50\n",
      "18/18 [==============================] - 0s 3ms/step - loss: 0.1267 - accuracy: 0.9398 - val_loss: 0.2025 - val_accuracy: 0.9155\n",
      "Epoch 7/50\n",
      "18/18 [==============================] - 0s 3ms/step - loss: 0.1207 - accuracy: 0.9487 - val_loss: 0.2969 - val_accuracy: 0.8873\n",
      "Epoch 8/50\n",
      "18/18 [==============================] - 0s 3ms/step - loss: 0.1367 - accuracy: 0.9363 - val_loss: 0.2152 - val_accuracy: 0.9014\n",
      "Epoch 9/50\n",
      "18/18 [==============================] - 0s 3ms/step - loss: 0.0949 - accuracy: 0.9611 - val_loss: 0.2022 - val_accuracy: 0.9014\n",
      "Epoch 10/50\n",
      "18/18 [==============================] - 0s 3ms/step - loss: 0.0914 - accuracy: 0.9628 - val_loss: 0.2003 - val_accuracy: 0.9085\n",
      "Epoch 11/50\n",
      "18/18 [==============================] - 0s 3ms/step - loss: 0.0778 - accuracy: 0.9735 - val_loss: 0.1928 - val_accuracy: 0.9155\n",
      "Epoch 12/50\n",
      "18/18 [==============================] - 0s 3ms/step - loss: 0.0716 - accuracy: 0.9770 - val_loss: 0.2218 - val_accuracy: 0.9085\n",
      "Epoch 13/50\n",
      "18/18 [==============================] - 0s 3ms/step - loss: 0.0793 - accuracy: 0.9717 - val_loss: 0.1975 - val_accuracy: 0.9155\n",
      "Epoch 14/50\n",
      "18/18 [==============================] - 0s 3ms/step - loss: 0.0641 - accuracy: 0.9788 - val_loss: 0.1979 - val_accuracy: 0.9296\n",
      "Epoch 15/50\n",
      "18/18 [==============================] - 0s 3ms/step - loss: 0.0555 - accuracy: 0.9788 - val_loss: 0.2030 - val_accuracy: 0.9155\n",
      "Epoch 16/50\n",
      "18/18 [==============================] - 0s 3ms/step - loss: 0.0523 - accuracy: 0.9841 - val_loss: 0.2023 - val_accuracy: 0.9085\n",
      "Epoch 17/50\n",
      "18/18 [==============================] - 0s 3ms/step - loss: 0.0476 - accuracy: 0.9841 - val_loss: 0.2053 - val_accuracy: 0.9225\n",
      "Epoch 18/50\n",
      "18/18 [==============================] - 0s 3ms/step - loss: 0.0483 - accuracy: 0.9805 - val_loss: 0.2055 - val_accuracy: 0.9225\n",
      "Epoch 19/50\n",
      "18/18 [==============================] - 0s 3ms/step - loss: 0.0418 - accuracy: 0.9876 - val_loss: 0.2087 - val_accuracy: 0.9225\n",
      "Epoch 20/50\n",
      "18/18 [==============================] - 0s 3ms/step - loss: 0.0428 - accuracy: 0.9858 - val_loss: 0.1970 - val_accuracy: 0.9155\n",
      "Epoch 21/50\n",
      "18/18 [==============================] - 0s 3ms/step - loss: 0.0428 - accuracy: 0.9823 - val_loss: 0.2222 - val_accuracy: 0.9366\n",
      "Epoch 22/50\n",
      "18/18 [==============================] - 0s 3ms/step - loss: 0.0406 - accuracy: 0.9876 - val_loss: 0.2099 - val_accuracy: 0.9296\n",
      "Epoch 23/50\n",
      "18/18 [==============================] - 0s 3ms/step - loss: 0.0401 - accuracy: 0.9823 - val_loss: 0.2629 - val_accuracy: 0.9296\n",
      "Epoch 24/50\n",
      "18/18 [==============================] - 0s 3ms/step - loss: 0.0418 - accuracy: 0.9841 - val_loss: 0.2147 - val_accuracy: 0.9155\n",
      "Epoch 25/50\n",
      "18/18 [==============================] - 0s 3ms/step - loss: 0.0368 - accuracy: 0.9858 - val_loss: 0.2116 - val_accuracy: 0.9155\n",
      "Epoch 26/50\n",
      "18/18 [==============================] - 0s 3ms/step - loss: 0.0362 - accuracy: 0.9841 - val_loss: 0.2026 - val_accuracy: 0.9085\n",
      "Epoch 27/50\n",
      "18/18 [==============================] - 0s 3ms/step - loss: 0.0341 - accuracy: 0.9876 - val_loss: 0.1992 - val_accuracy: 0.9155\n",
      "Epoch 28/50\n",
      "18/18 [==============================] - 0s 3ms/step - loss: 0.0332 - accuracy: 0.9876 - val_loss: 0.2153 - val_accuracy: 0.9225\n",
      "Epoch 29/50\n",
      "18/18 [==============================] - 0s 3ms/step - loss: 0.0318 - accuracy: 0.9858 - val_loss: 0.2203 - val_accuracy: 0.9366\n",
      "Epoch 30/50\n",
      "18/18 [==============================] - 0s 3ms/step - loss: 0.0355 - accuracy: 0.9858 - val_loss: 0.2077 - val_accuracy: 0.9155\n",
      "Epoch 31/50\n",
      "18/18 [==============================] - 0s 3ms/step - loss: 0.0317 - accuracy: 0.9876 - val_loss: 0.2136 - val_accuracy: 0.9085\n",
      "Epoch 32/50\n",
      "18/18 [==============================] - 0s 3ms/step - loss: 0.0323 - accuracy: 0.9858 - val_loss: 0.2104 - val_accuracy: 0.9085\n",
      "Epoch 33/50\n",
      "18/18 [==============================] - 0s 3ms/step - loss: 0.0321 - accuracy: 0.9858 - val_loss: 0.2224 - val_accuracy: 0.9366\n",
      "Epoch 34/50\n",
      "18/18 [==============================] - 0s 3ms/step - loss: 0.0320 - accuracy: 0.9858 - val_loss: 0.2166 - val_accuracy: 0.9085\n",
      "Epoch 35/50\n",
      "18/18 [==============================] - 0s 3ms/step - loss: 0.0311 - accuracy: 0.9876 - val_loss: 0.2157 - val_accuracy: 0.9155\n",
      "Epoch 36/50\n",
      "18/18 [==============================] - 0s 3ms/step - loss: 0.0315 - accuracy: 0.9876 - val_loss: 0.2320 - val_accuracy: 0.9085\n",
      "Epoch 37/50\n",
      "18/18 [==============================] - 0s 3ms/step - loss: 0.0292 - accuracy: 0.9876 - val_loss: 0.2088 - val_accuracy: 0.9155\n",
      "Epoch 38/50\n",
      "18/18 [==============================] - 0s 3ms/step - loss: 0.0332 - accuracy: 0.9876 - val_loss: 0.2263 - val_accuracy: 0.9155\n",
      "Epoch 39/50\n",
      "18/18 [==============================] - 0s 3ms/step - loss: 0.0302 - accuracy: 0.9876 - val_loss: 0.2179 - val_accuracy: 0.9155\n",
      "Epoch 40/50\n",
      "18/18 [==============================] - 0s 3ms/step - loss: 0.0318 - accuracy: 0.9841 - val_loss: 0.2288 - val_accuracy: 0.9225\n",
      "Epoch 41/50\n",
      "18/18 [==============================] - 0s 3ms/step - loss: 0.0321 - accuracy: 0.9876 - val_loss: 0.2316 - val_accuracy: 0.9225\n",
      "Epoch 42/50\n",
      "18/18 [==============================] - 0s 3ms/step - loss: 0.0317 - accuracy: 0.9876 - val_loss: 0.2069 - val_accuracy: 0.9225\n",
      "Epoch 43/50\n",
      "18/18 [==============================] - 0s 3ms/step - loss: 0.0301 - accuracy: 0.9858 - val_loss: 0.2183 - val_accuracy: 0.9296\n",
      "Epoch 44/50\n",
      "18/18 [==============================] - 0s 3ms/step - loss: 0.0305 - accuracy: 0.9858 - val_loss: 0.2166 - val_accuracy: 0.9366\n",
      "Epoch 45/50\n",
      "18/18 [==============================] - 0s 3ms/step - loss: 0.0300 - accuracy: 0.9876 - val_loss: 0.2225 - val_accuracy: 0.9225\n",
      "Epoch 46/50\n",
      "18/18 [==============================] - 0s 3ms/step - loss: 0.0319 - accuracy: 0.9858 - val_loss: 0.2465 - val_accuracy: 0.9296\n",
      "Epoch 47/50\n",
      "18/18 [==============================] - 0s 3ms/step - loss: 0.0309 - accuracy: 0.9858 - val_loss: 0.2215 - val_accuracy: 0.9296\n",
      "Epoch 48/50\n",
      "18/18 [==============================] - 0s 3ms/step - loss: 0.0310 - accuracy: 0.9876 - val_loss: 0.2183 - val_accuracy: 0.9296\n",
      "Epoch 49/50\n",
      "18/18 [==============================] - 0s 3ms/step - loss: 0.0288 - accuracy: 0.9876 - val_loss: 0.2212 - val_accuracy: 0.9155\n",
      "Epoch 50/50\n",
      "18/18 [==============================] - 0s 3ms/step - loss: 0.0308 - accuracy: 0.9858 - val_loss: 0.2278 - val_accuracy: 0.9225\n",
      "Best epoch: 21\n"
     ]
    }
   ],
   "source": [
    "model = tuner.hypermodel.build(best_hps)\n",
    "history = model.fit(X_train_filtered, y_train, epochs = 50, validation_split=0.2)\n",
    "\n",
    "val_acc_per_epoch = history.history['val_accuracy']\n",
    "best_epoch = val_acc_per_epoch.index(max(val_acc_per_epoch))+1\n",
    "print('Best epoch: %d' %(best_epoch,))"
   ]
  },
  {
   "cell_type": "code",
   "execution_count": 357,
   "metadata": {},
   "outputs": [
    {
     "name": "stdout",
     "output_type": "stream",
     "text": [
      "Epoch 1/21\n",
      "18/18 [==============================] - 1s 22ms/step - loss: 0.5658 - accuracy: 0.7841 - val_loss: 0.2357 - val_accuracy: 0.9014\n",
      "Epoch 2/21\n",
      "18/18 [==============================] - 0s 5ms/step - loss: 0.2125 - accuracy: 0.9168 - val_loss: 0.2607 - val_accuracy: 0.8803\n",
      "Epoch 3/21\n",
      "18/18 [==============================] - 0s 5ms/step - loss: 0.1755 - accuracy: 0.9168 - val_loss: 0.2090 - val_accuracy: 0.9085\n",
      "Epoch 4/21\n",
      "18/18 [==============================] - 0s 4ms/step - loss: 0.1553 - accuracy: 0.9327 - val_loss: 0.2118 - val_accuracy: 0.9225\n",
      "Epoch 5/21\n",
      "18/18 [==============================] - 0s 4ms/step - loss: 0.1415 - accuracy: 0.9398 - val_loss: 0.2101 - val_accuracy: 0.9225\n",
      "Epoch 6/21\n",
      "18/18 [==============================] - 0s 4ms/step - loss: 0.1287 - accuracy: 0.9451 - val_loss: 0.2222 - val_accuracy: 0.9225\n",
      "Epoch 7/21\n",
      "18/18 [==============================] - 0s 4ms/step - loss: 0.1196 - accuracy: 0.9540 - val_loss: 0.2245 - val_accuracy: 0.9085\n",
      "Epoch 8/21\n",
      "18/18 [==============================] - 0s 3ms/step - loss: 0.1139 - accuracy: 0.9522 - val_loss: 0.2412 - val_accuracy: 0.9014\n",
      "Epoch 9/21\n",
      "18/18 [==============================] - 0s 3ms/step - loss: 0.1147 - accuracy: 0.9646 - val_loss: 0.2199 - val_accuracy: 0.9014\n",
      "Epoch 10/21\n",
      "18/18 [==============================] - 0s 3ms/step - loss: 0.1016 - accuracy: 0.9611 - val_loss: 0.2742 - val_accuracy: 0.8944\n",
      "Epoch 11/21\n",
      "18/18 [==============================] - 0s 3ms/step - loss: 0.0905 - accuracy: 0.9664 - val_loss: 0.2385 - val_accuracy: 0.9014\n",
      "Epoch 12/21\n",
      "18/18 [==============================] - 0s 3ms/step - loss: 0.0785 - accuracy: 0.9699 - val_loss: 0.2509 - val_accuracy: 0.9014\n",
      "Epoch 13/21\n",
      "18/18 [==============================] - 0s 3ms/step - loss: 0.0720 - accuracy: 0.9717 - val_loss: 0.2545 - val_accuracy: 0.8944\n",
      "Epoch 14/21\n",
      "18/18 [==============================] - 0s 3ms/step - loss: 0.0650 - accuracy: 0.9735 - val_loss: 0.2386 - val_accuracy: 0.8873\n",
      "Epoch 15/21\n",
      "18/18 [==============================] - 0s 3ms/step - loss: 0.0564 - accuracy: 0.9788 - val_loss: 0.2519 - val_accuracy: 0.8873\n",
      "Epoch 16/21\n",
      "18/18 [==============================] - 0s 4ms/step - loss: 0.0531 - accuracy: 0.9805 - val_loss: 0.2730 - val_accuracy: 0.8873\n",
      "Epoch 17/21\n",
      "18/18 [==============================] - 0s 3ms/step - loss: 0.0550 - accuracy: 0.9823 - val_loss: 0.4343 - val_accuracy: 0.8944\n",
      "Epoch 18/21\n",
      "18/18 [==============================] - 0s 4ms/step - loss: 0.0790 - accuracy: 0.9664 - val_loss: 0.2938 - val_accuracy: 0.8944\n",
      "Epoch 19/21\n",
      "18/18 [==============================] - 0s 3ms/step - loss: 0.0562 - accuracy: 0.9788 - val_loss: 0.2680 - val_accuracy: 0.8944\n",
      "Epoch 20/21\n",
      "18/18 [==============================] - 0s 3ms/step - loss: 0.0458 - accuracy: 0.9823 - val_loss: 0.2621 - val_accuracy: 0.8944\n",
      "Epoch 21/21\n",
      "18/18 [==============================] - 0s 4ms/step - loss: 0.0405 - accuracy: 0.9876 - val_loss: 0.2622 - val_accuracy: 0.9014\n"
     ]
    },
    {
     "data": {
      "text/plain": [
       "<keras.callbacks.History at 0x7f80b2fcaf10>"
      ]
     },
     "execution_count": 357,
     "metadata": {},
     "output_type": "execute_result"
    }
   ],
   "source": [
    "hypermodel = tuner.hypermodel.build(best_hps)\n",
    "\n",
    "# Retrain the model\n",
    "hypermodel.fit(X_train_filtered, y_train, epochs=21, validation_split=0.2)"
   ]
  },
  {
   "cell_type": "code",
   "execution_count": 358,
   "metadata": {},
   "outputs": [
    {
     "name": "stdout",
     "output_type": "stream",
     "text": [
      "6/6 [==============================] - 0s 1ms/step - loss: 0.3814 - accuracy: 0.9096\n",
      "[test loss, test accuracy]: [0.3814166188240051, 0.909604549407959]\n"
     ]
    }
   ],
   "source": [
    "eval_result = hypermodel.evaluate(X_valid_filtered, y_valid)\n",
    "print(\"[test loss, test accuracy]:\", eval_result)"
   ]
  },
  {
   "cell_type": "code",
   "execution_count": 339,
   "metadata": {},
   "outputs": [
    {
     "name": "stdout",
     "output_type": "stream",
     "text": [
      "6/6 [==============================] - 0s 3ms/step - loss: 0.1500 - accuracy: 0.9435\n",
      "[test loss, test accuracy]: [0.1500258892774582, 0.9435028433799744]\n"
     ]
    }
   ],
   "source": [
    "eval_result = hypermodel.evaluate(X_valid_filtered, y_valid)\n",
    "print(\"[test loss, test accuracy]:\", eval_result)"
   ]
  },
  {
   "cell_type": "markdown",
   "metadata": {},
   "source": [
    "Test parameters with GridSearchCV"
   ]
  },
  {
   "cell_type": "code",
   "execution_count": 359,
   "metadata": {},
   "outputs": [],
   "source": [
    "import numpy as np\n",
    "import tensorflow as tf\n",
    "from sklearn.model_selection import GridSearchCV\n",
    "from tensorflow.keras.models import Sequential\n",
    "from tensorflow.keras.layers import Dense\n",
    "from scikeras.wrappers import KerasClassifier"
   ]
  },
  {
   "cell_type": "code",
   "execution_count": 361,
   "metadata": {},
   "outputs": [],
   "source": [
    "def create_model():\n",
    "\tmodel = Sequential()\n",
    "\tmodel.add(Dense(12, input_shape=(10097,), activation='relu'))\n",
    "\tmodel.add(Dense(1, activation='sigmoid'))\n",
    "\t# Compile model\n",
    "\tmodel.compile(loss='binary_crossentropy', optimizer='adam', metrics=['accuracy'])\n",
    "\treturn model"
   ]
  },
  {
   "cell_type": "code",
   "execution_count": 363,
   "metadata": {},
   "outputs": [],
   "source": [
    "# fix random seed for reproducibility\n",
    "seed = 20\n",
    "tf.random.set_seed(seed)"
   ]
  },
  {
   "cell_type": "code",
   "execution_count": 364,
   "metadata": {},
   "outputs": [],
   "source": [
    "model = KerasClassifier(model=create_model, verbose=0)"
   ]
  },
  {
   "cell_type": "code",
   "execution_count": 366,
   "metadata": {},
   "outputs": [],
   "source": [
    "batch_size = [10, 20, 40, 60, 80, 100]\n",
    "epochs = [10, 50, 100]"
   ]
  },
  {
   "cell_type": "code",
   "execution_count": 367,
   "metadata": {},
   "outputs": [],
   "source": [
    "param_grid = dict(batch_size=batch_size, epochs=epochs)\n",
    "grid = GridSearchCV(estimator=model, param_grid=param_grid, n_jobs=-1, cv=3)"
   ]
  },
  {
   "cell_type": "code",
   "execution_count": 368,
   "metadata": {},
   "outputs": [
    {
     "name": "stderr",
     "output_type": "stream",
     "text": [
      "2022-07-10 17:14:24.170267: I tensorflow/core/platform/cpu_feature_guard.cc:193] This TensorFlow binary is optimized with oneAPI Deep Neural Network Library (oneDNN) to use the following CPU instructions in performance-critical operations:  AVX2 FMA\n",
      "To enable them in other operations, rebuild TensorFlow with the appropriate compiler flags.\n",
      "2022-07-10 17:14:24.171550: I tensorflow/core/platform/cpu_feature_guard.cc:193] This TensorFlow binary is optimized with oneAPI Deep Neural Network Library (oneDNN) to use the following CPU instructions in performance-critical operations:  AVX2 FMA\n",
      "To enable them in other operations, rebuild TensorFlow with the appropriate compiler flags.\n",
      "2022-07-10 17:14:24.172418: I tensorflow/core/platform/cpu_feature_guard.cc:193] This TensorFlow binary is optimized with oneAPI Deep Neural Network Library (oneDNN) to use the following CPU instructions in performance-critical operations:  AVX2 FMA\n",
      "To enable them in other operations, rebuild TensorFlow with the appropriate compiler flags.\n",
      "2022-07-10 17:14:24.174812: I tensorflow/core/platform/cpu_feature_guard.cc:193] This TensorFlow binary is optimized with oneAPI Deep Neural Network Library (oneDNN) to use the following CPU instructions in performance-critical operations:  AVX2 FMA\n",
      "To enable them in other operations, rebuild TensorFlow with the appropriate compiler flags.\n",
      "2022-07-10 17:14:24.174437: I tensorflow/core/platform/cpu_feature_guard.cc:193] This TensorFlow binary is optimized with oneAPI Deep Neural Network Library (oneDNN) to use the following CPU instructions in performance-critical operations:  AVX2 FMA\n",
      "To enable them in other operations, rebuild TensorFlow with the appropriate compiler flags.\n",
      "2022-07-10 17:14:24.277776: I tensorflow/core/platform/cpu_feature_guard.cc:193] This TensorFlow binary is optimized with oneAPI Deep Neural Network Library (oneDNN) to use the following CPU instructions in performance-critical operations:  AVX2 FMA\n",
      "To enable them in other operations, rebuild TensorFlow with the appropriate compiler flags.\n",
      "2022-07-10 17:14:24.278192: I tensorflow/core/platform/cpu_feature_guard.cc:193] This TensorFlow binary is optimized with oneAPI Deep Neural Network Library (oneDNN) to use the following CPU instructions in performance-critical operations:  AVX2 FMA\n",
      "To enable them in other operations, rebuild TensorFlow with the appropriate compiler flags.\n",
      "2022-07-10 17:14:24.278329: I tensorflow/core/platform/cpu_feature_guard.cc:193] This TensorFlow binary is optimized with oneAPI Deep Neural Network Library (oneDNN) to use the following CPU instructions in performance-critical operations:  AVX2 FMA\n",
      "To enable them in other operations, rebuild TensorFlow with the appropriate compiler flags.\n",
      "2022-07-10 17:14:24.282640: I tensorflow/core/platform/cpu_feature_guard.cc:193] This TensorFlow binary is optimized with oneAPI Deep Neural Network Library (oneDNN) to use the following CPU instructions in performance-critical operations:  AVX2 FMA\n",
      "To enable them in other operations, rebuild TensorFlow with the appropriate compiler flags.\n",
      "2022-07-10 17:14:24.282956: I tensorflow/core/platform/cpu_feature_guard.cc:193] This TensorFlow binary is optimized with oneAPI Deep Neural Network Library (oneDNN) to use the following CPU instructions in performance-critical operations:  AVX2 FMA\n",
      "To enable them in other operations, rebuild TensorFlow with the appropriate compiler flags.\n",
      "2022-07-10 17:14:24.284390: I tensorflow/core/platform/cpu_feature_guard.cc:193] This TensorFlow binary is optimized with oneAPI Deep Neural Network Library (oneDNN) to use the following CPU instructions in performance-critical operations:  AVX2 FMA\n",
      "To enable them in other operations, rebuild TensorFlow with the appropriate compiler flags.\n",
      "2022-07-10 17:14:24.288117: I tensorflow/core/platform/cpu_feature_guard.cc:193] This TensorFlow binary is optimized with oneAPI Deep Neural Network Library (oneDNN) to use the following CPU instructions in performance-critical operations:  AVX2 FMA\n",
      "To enable them in other operations, rebuild TensorFlow with the appropriate compiler flags.\n",
      "2022-07-10 17:14:24.290238: I tensorflow/core/platform/cpu_feature_guard.cc:193] This TensorFlow binary is optimized with oneAPI Deep Neural Network Library (oneDNN) to use the following CPU instructions in performance-critical operations:  AVX2 FMA\n",
      "To enable them in other operations, rebuild TensorFlow with the appropriate compiler flags.\n",
      "2022-07-10 17:14:24.294074: I tensorflow/core/platform/cpu_feature_guard.cc:193] This TensorFlow binary is optimized with oneAPI Deep Neural Network Library (oneDNN) to use the following CPU instructions in performance-critical operations:  AVX2 FMA\n",
      "To enable them in other operations, rebuild TensorFlow with the appropriate compiler flags.\n",
      "2022-07-10 17:14:24.294474: I tensorflow/core/platform/cpu_feature_guard.cc:193] This TensorFlow binary is optimized with oneAPI Deep Neural Network Library (oneDNN) to use the following CPU instructions in performance-critical operations:  AVX2 FMA\n",
      "To enable them in other operations, rebuild TensorFlow with the appropriate compiler flags.\n",
      "2022-07-10 17:14:24.312687: I tensorflow/core/platform/cpu_feature_guard.cc:193] This TensorFlow binary is optimized with oneAPI Deep Neural Network Library (oneDNN) to use the following CPU instructions in performance-critical operations:  AVX2 FMA\n",
      "To enable them in other operations, rebuild TensorFlow with the appropriate compiler flags.\n"
     ]
    }
   ],
   "source": [
    "grid_result = grid.fit(X_train, y_train)"
   ]
  },
  {
   "cell_type": "code",
   "execution_count": 369,
   "metadata": {},
   "outputs": [
    {
     "name": "stdout",
     "output_type": "stream",
     "text": [
      "Best: 0.915134 using {'batch_size': 20, 'epochs': 10}\n",
      "0.913710 (0.007333) with: {'batch_size': 10, 'epochs': 10}\n",
      "0.896760 (0.011005) with: {'batch_size': 10, 'epochs': 50}\n",
      "0.889662 (0.007127) with: {'batch_size': 10, 'epochs': 100}\n",
      "0.915134 (0.003464) with: {'batch_size': 20, 'epochs': 10}\n",
      "0.909478 (0.001914) with: {'batch_size': 20, 'epochs': 50}\n",
      "0.898179 (0.014975) with: {'batch_size': 20, 'epochs': 100}\n",
      "0.905211 (0.012350) with: {'batch_size': 40, 'epochs': 10}\n",
      "0.898149 (0.006213) with: {'batch_size': 40, 'epochs': 50}\n",
      "0.900980 (0.013181) with: {'batch_size': 40, 'epochs': 100}\n",
      "0.908036 (0.013317) with: {'batch_size': 60, 'epochs': 10}\n",
      "0.901004 (0.007029) with: {'batch_size': 60, 'epochs': 50}\n",
      "0.900998 (0.011056) with: {'batch_size': 60, 'epochs': 100}\n",
      "0.899561 (0.007417) with: {'batch_size': 80, 'epochs': 10}\n",
      "0.902380 (0.016029) with: {'batch_size': 80, 'epochs': 50}\n",
      "0.899555 (0.010787) with: {'batch_size': 80, 'epochs': 100}\n",
      "0.895306 (0.013343) with: {'batch_size': 100, 'epochs': 10}\n",
      "0.905217 (0.010731) with: {'batch_size': 100, 'epochs': 50}\n",
      "0.905223 (0.005478) with: {'batch_size': 100, 'epochs': 100}\n"
     ]
    }
   ],
   "source": [
    "print(\"Best: %f using %s\" % (grid_result.best_score_, grid_result.best_params_))\n",
    "means = grid_result.cv_results_['mean_test_score']\n",
    "stds = grid_result.cv_results_['std_test_score']\n",
    "params = grid_result.cv_results_['params']\n",
    "for mean, stdev, param in zip(means, stds, params):\n",
    "    print(\"%f (%f) with: %r\" % (mean, stdev, param))"
   ]
  },
  {
   "cell_type": "code",
   "execution_count": 370,
   "metadata": {},
   "outputs": [],
   "source": [
    "def create_model_opt():\n",
    "\tmodel = Sequential()\n",
    "\tmodel.add(Dense(12, input_shape=(10097,), activation='relu'))\n",
    "\tmodel.add(Dense(1, activation='sigmoid'))\n",
    "\treturn model"
   ]
  },
  {
   "cell_type": "code",
   "execution_count": 381,
   "metadata": {},
   "outputs": [],
   "source": [
    "model = KerasClassifier(model=create_model_opt, loss=\"binary_crossentropy\", epochs=100, batch_size=10, verbose=0)"
   ]
  },
  {
   "cell_type": "code",
   "execution_count": 382,
   "metadata": {},
   "outputs": [],
   "source": [
    "optimizer = ['SGD', 'RMSprop', 'Adagrad', 'Adadelta', 'Adam', 'Adamax', 'Nadam']\n",
    "param_grid = dict(optimizer=optimizer)\n",
    "grid = GridSearchCV(estimator=model, param_grid=param_grid, n_jobs=-1, cv=3)"
   ]
  },
  {
   "cell_type": "code",
   "execution_count": 383,
   "metadata": {},
   "outputs": [],
   "source": [
    "grid_result = grid.fit(X_train, y_train)"
   ]
  },
  {
   "cell_type": "code",
   "execution_count": 384,
   "metadata": {},
   "outputs": [
    {
     "name": "stdout",
     "output_type": "stream",
     "text": [
      "Best: 0.913716 using {'optimizer': 'SGD'}\n",
      "0.913716 (0.010605) with: {'optimizer': 'SGD'}\n",
      "0.895324 (0.005454) with: {'optimizer': 'RMSprop'}\n",
      "0.913698 (0.014143) with: {'optimizer': 'Adagrad'}\n",
      "0.736964 (0.039017) with: {'optimizer': 'Adadelta'}\n",
      "0.903823 (0.003905) with: {'optimizer': 'Adam'}\n",
      "0.909472 (0.004092) with: {'optimizer': 'Adamax'}\n",
      "0.901004 (0.013894) with: {'optimizer': 'Nadam'}\n"
     ]
    }
   ],
   "source": [
    "print(\"Best: %f using %s\" % (grid_result.best_score_, grid_result.best_params_))\n",
    "means = grid_result.cv_results_['mean_test_score']\n",
    "stds = grid_result.cv_results_['std_test_score']\n",
    "params = grid_result.cv_results_['params']\n",
    "for mean, stdev, param in zip(means, stds, params):\n",
    "    print(\"%f (%f) with: %r\" % (mean, stdev, param))"
   ]
  },
  {
   "cell_type": "markdown",
   "metadata": {},
   "source": [
    "Best: 0.913728 using {'optimizer': 'RMSprop'}\n",
    "0.896742 (0.002210) with: {'optimizer': 'SGD'}\n",
    "0.913728 (0.005164) with: {'optimizer': 'RMSprop'}\n",
    "0.830250 (0.010697) with: {'optimizer': 'Adagrad'}\n",
    "0.533255 (0.009602) with: {'optimizer': 'Adadelta'}\n",
    "0.908042 (0.012325) with: {'optimizer': 'Adam'}\n",
    "0.888256 (0.014017) with: {'optimizer': 'Adamax'}\n",
    "0.909466 (0.013174) with: {'optimizer': 'Nadam'}"
   ]
  },
  {
   "cell_type": "code",
   "execution_count": 385,
   "metadata": {},
   "outputs": [],
   "source": [
    "model = KerasClassifier(model=create_model, loss=\"binary_crossentropy\", optimizer=\"RMSprop\", epochs=10, batch_size=20, verbose=0)\n",
    "# define the grid search parameters\n",
    "learn_rate = [0.001, 0.01, 0.1, 0.2, 0.3]\n",
    "momentum = [0.0, 0.2, 0.4, 0.6, 0.8, 0.9]"
   ]
  },
  {
   "cell_type": "code",
   "execution_count": 386,
   "metadata": {},
   "outputs": [],
   "source": [
    "param_grid = dict(optimizer__learning_rate=learn_rate, optimizer__momentum=momentum)\n",
    "grid = GridSearchCV(estimator=model, param_grid=param_grid, n_jobs=-1, cv=3)\n",
    "grid_result = grid.fit(X_train, y_train)"
   ]
  },
  {
   "cell_type": "code",
   "execution_count": 387,
   "metadata": {},
   "outputs": [
    {
     "name": "stdout",
     "output_type": "stream",
     "text": [
      "Best: 0.916534 using {'optimizer__learning_rate': 0.2, 'optimizer__momentum': 0.4}\n",
      "0.900974 (0.010738) with: {'optimizer__learning_rate': 0.001, 'optimizer__momentum': 0.0}\n",
      "0.909478 (0.001914) with: {'optimizer__learning_rate': 0.001, 'optimizer__momentum': 0.2}\n",
      "0.910879 (0.007089) with: {'optimizer__learning_rate': 0.001, 'optimizer__momentum': 0.4}\n",
      "0.902386 (0.018089) with: {'optimizer__learning_rate': 0.001, 'optimizer__momentum': 0.6}\n",
      "0.902404 (0.003465) with: {'optimizer__learning_rate': 0.001, 'optimizer__momentum': 0.8}\n",
      "0.909454 (0.012343) with: {'optimizer__learning_rate': 0.001, 'optimizer__momentum': 0.9}\n",
      "0.909466 (0.005470) with: {'optimizer__learning_rate': 0.01, 'optimizer__momentum': 0.0}\n",
      "0.906647 (0.010381) with: {'optimizer__learning_rate': 0.01, 'optimizer__momentum': 0.2}\n",
      "0.909466 (0.007339) with: {'optimizer__learning_rate': 0.01, 'optimizer__momentum': 0.4}\n",
      "0.902392 (0.006205) with: {'optimizer__learning_rate': 0.01, 'optimizer__momentum': 0.6}\n",
      "0.915116 (0.015198) with: {'optimizer__learning_rate': 0.01, 'optimizer__momentum': 0.8}\n",
      "0.905241 (0.014356) with: {'optimizer__learning_rate': 0.01, 'optimizer__momentum': 0.9}\n",
      "0.908048 (0.017151) with: {'optimizer__learning_rate': 0.1, 'optimizer__momentum': 0.0}\n",
      "0.909454 (0.012343) with: {'optimizer__learning_rate': 0.1, 'optimizer__momentum': 0.2}\n",
      "0.906641 (0.003630) with: {'optimizer__learning_rate': 0.1, 'optimizer__momentum': 0.4}\n",
      "0.905223 (0.007345) with: {'optimizer__learning_rate': 0.1, 'optimizer__momentum': 0.6}\n",
      "0.912303 (0.005321) with: {'optimizer__learning_rate': 0.1, 'optimizer__momentum': 0.8}\n",
      "0.908048 (0.007400) with: {'optimizer__learning_rate': 0.1, 'optimizer__momentum': 0.9}\n",
      "0.906641 (0.009219) with: {'optimizer__learning_rate': 0.2, 'optimizer__momentum': 0.0}\n",
      "0.913692 (0.017585) with: {'optimizer__learning_rate': 0.2, 'optimizer__momentum': 0.2}\n",
      "0.916534 (0.007384) with: {'optimizer__learning_rate': 0.2, 'optimizer__momentum': 0.4}\n",
      "0.909460 (0.010725) with: {'optimizer__learning_rate': 0.2, 'optimizer__momentum': 0.6}\n",
      "0.908042 (0.010200) with: {'optimizer__learning_rate': 0.2, 'optimizer__momentum': 0.8}\n",
      "0.905223 (0.010091) with: {'optimizer__learning_rate': 0.2, 'optimizer__momentum': 0.9}\n",
      "0.905217 (0.010731) with: {'optimizer__learning_rate': 0.3, 'optimizer__momentum': 0.0}\n",
      "0.906641 (0.009219) with: {'optimizer__learning_rate': 0.3, 'optimizer__momentum': 0.2}\n",
      "0.908054 (0.011193) with: {'optimizer__learning_rate': 0.3, 'optimizer__momentum': 0.4}\n",
      "0.899561 (0.011262) with: {'optimizer__learning_rate': 0.3, 'optimizer__momentum': 0.6}\n",
      "0.902392 (0.018378) with: {'optimizer__learning_rate': 0.3, 'optimizer__momentum': 0.8}\n",
      "0.910879 (0.006188) with: {'optimizer__learning_rate': 0.3, 'optimizer__momentum': 0.9}\n"
     ]
    }
   ],
   "source": [
    "print(\"Best: %f using %s\" % (grid_result.best_score_, grid_result.best_params_))\n",
    "means = grid_result.cv_results_['mean_test_score']\n",
    "stds = grid_result.cv_results_['std_test_score']\n",
    "params = grid_result.cv_results_['params']\n",
    "for mean, stdev, param in zip(means, stds, params):\n",
    "    print(\"%f (%f) with: %r\" % (mean, stdev, param))"
   ]
  },
  {
   "cell_type": "code",
   "execution_count": 398,
   "metadata": {},
   "outputs": [],
   "source": [
    "def create_model_init(init_mode='uniform'):\n",
    "\t# create model\n",
    "\tmodel = Sequential()\n",
    "\tmodel.add(Dense(12, input_shape=(10097,), kernel_initializer=init_mode, activation='relu'))\n",
    "\tmodel.add(Dense(1, kernel_initializer=init_mode, activation='sigmoid'))\n",
    "\t# Compile model\n",
    "\tmodel.compile(loss='binary_crossentropy', optimizer='RMSprop', metrics=['accuracy'])\n",
    "\treturn model"
   ]
  },
  {
   "cell_type": "code",
   "execution_count": 399,
   "metadata": {},
   "outputs": [],
   "source": [
    "model = KerasClassifier(model=create_model_init, epochs=10, batch_size=20, verbose=0)"
   ]
  },
  {
   "cell_type": "code",
   "execution_count": 400,
   "metadata": {},
   "outputs": [],
   "source": [
    "init_mode = ['uniform', 'lecun_uniform', 'normal', 'zero', 'glorot_normal', 'glorot_uniform', 'he_normal', 'he_uniform']\n",
    "param_grid = dict(model__init_mode=init_mode)\n",
    "grid = GridSearchCV(estimator=model, param_grid=param_grid, n_jobs=-1, cv=3)\n",
    "grid_result = grid.fit(X_train, y_train)"
   ]
  },
  {
   "cell_type": "code",
   "execution_count": 401,
   "metadata": {},
   "outputs": [
    {
     "name": "stdout",
     "output_type": "stream",
     "text": [
      "Best: 0.913710 using {'model__init_mode': 'glorot_normal'}\n",
      "0.909454 (0.011331) with: {'model__init_mode': 'uniform'}\n",
      "0.908060 (0.005323) with: {'model__init_mode': 'lecun_uniform'}\n",
      "0.906635 (0.007097) with: {'model__init_mode': 'normal'}\n",
      "0.543142 (0.001088) with: {'model__init_mode': 'zero'}\n",
      "0.913710 (0.005462) with: {'model__init_mode': 'glorot_normal'}\n",
      "0.898167 (0.005897) with: {'model__init_mode': 'glorot_uniform'}\n",
      "0.908048 (0.008871) with: {'model__init_mode': 'he_normal'}\n",
      "0.908054 (0.004190) with: {'model__init_mode': 'he_uniform'}\n"
     ]
    }
   ],
   "source": [
    "print(\"Best: %f using %s\" % (grid_result.best_score_, grid_result.best_params_))\n",
    "means = grid_result.cv_results_['mean_test_score']\n",
    "stds = grid_result.cv_results_['std_test_score']\n",
    "params = grid_result.cv_results_['params']\n",
    "for mean, stdev, param in zip(means, stds, params):\n",
    "    print(\"%f (%f) with: %r\" % (mean, stdev, param))"
   ]
  },
  {
   "cell_type": "code",
   "execution_count": 409,
   "metadata": {},
   "outputs": [],
   "source": [
    "def create_model_act(activation='relu'):\n",
    "\t# create model\n",
    "\tmodel = Sequential()\n",
    "\tmodel.add(Dense(12, input_shape=(10097,), kernel_initializer='glorot_normal', activation=activation))\n",
    "\tmodel.add(Dense(1, kernel_initializer='glorot_normal', activation='sigmoid'))\n",
    "\t# Compile model\n",
    "\tmodel.compile(loss='binary_crossentropy', optimizer='RMSprop', metrics=['accuracy'])\n",
    "\treturn model"
   ]
  },
  {
   "cell_type": "code",
   "execution_count": 410,
   "metadata": {},
   "outputs": [],
   "source": [
    "model = KerasClassifier(model=create_model_act, epochs=10, batch_size=20, verbose=0)"
   ]
  },
  {
   "cell_type": "code",
   "execution_count": 411,
   "metadata": {},
   "outputs": [],
   "source": [
    "activation = ['softmax', 'softplus', 'softsign', 'relu', 'tanh', 'sigmoid', 'hard_sigmoid', 'linear']\n",
    "param_grid = dict(model__activation=activation)\n",
    "grid = GridSearchCV(estimator=model, param_grid=param_grid, n_jobs=-1, cv=3)\n",
    "grid_result = grid.fit(X_train, y_train)"
   ]
  },
  {
   "cell_type": "code",
   "execution_count": 412,
   "metadata": {},
   "outputs": [
    {
     "name": "stdout",
     "output_type": "stream",
     "text": [
      "Best: 0.909478 using {'model__activation': 'tanh'}\n",
      "0.906641 (0.003630) with: {'model__activation': 'softmax'}\n",
      "0.902398 (0.003638) with: {'model__activation': 'softplus'}\n",
      "0.905229 (0.004096) with: {'model__activation': 'softsign'}\n",
      "0.900986 (0.002201) with: {'model__activation': 'relu'}\n",
      "0.909478 (0.001914) with: {'model__activation': 'tanh'}\n",
      "0.899531 (0.023287) with: {'model__activation': 'sigmoid'}\n",
      "0.903805 (0.008878) with: {'model__activation': 'hard_sigmoid'}\n",
      "0.902416 (0.005814) with: {'model__activation': 'linear'}\n"
     ]
    }
   ],
   "source": [
    "print(\"Best: %f using %s\" % (grid_result.best_score_, grid_result.best_params_))\n",
    "means = grid_result.cv_results_['mean_test_score']\n",
    "stds = grid_result.cv_results_['std_test_score']\n",
    "params = grid_result.cv_results_['params']\n",
    "for mean, stdev, param in zip(means, stds, params):\n",
    "    print(\"%f (%f) with: %r\" % (mean, stdev, param))"
   ]
  },
  {
   "cell_type": "code",
   "execution_count": 418,
   "metadata": {},
   "outputs": [],
   "source": [
    "from tensorflow.keras.constraints import MaxNorm"
   ]
  },
  {
   "cell_type": "code",
   "execution_count": 424,
   "metadata": {},
   "outputs": [],
   "source": [
    "def create_model_dr(dropout_rate, weight_constraint):\n",
    "\t# create model\n",
    "\tmodel = Sequential()\n",
    "\tmodel.add(Dense(12, input_shape=(10097,), kernel_initializer='glorot_normal', activation='tanh', kernel_constraint=MaxNorm(weight_constraint)))\n",
    "\tmodel.add(Dropout(dropout_rate))\n",
    "\tmodel.add(Dense(1, kernel_initializer='glorot_normal', activation='sigmoid'))\n",
    "\t# Compile model\n",
    "\tmodel.compile(loss='binary_crossentropy', optimizer='RMSprop', metrics=['accuracy'])\n",
    "\treturn model"
   ]
  },
  {
   "cell_type": "code",
   "execution_count": 425,
   "metadata": {},
   "outputs": [],
   "source": [
    "model = KerasClassifier(model=create_model_dr, epochs=10, batch_size=20, verbose=0)"
   ]
  },
  {
   "cell_type": "code",
   "execution_count": 426,
   "metadata": {},
   "outputs": [],
   "source": [
    "weight_constraint = [1.0, 2.0, 3.0, 4.0, 5.0]\n",
    "dropout_rate = [0.0, 0.1, 0.2, 0.3, 0.4, 0.5, 0.6, 0.7, 0.8, 0.9]\n",
    "param_grid = dict(model__dropout_rate=dropout_rate, model__weight_constraint=weight_constraint)"
   ]
  },
  {
   "cell_type": "code",
   "execution_count": 427,
   "metadata": {},
   "outputs": [],
   "source": [
    "grid = GridSearchCV(estimator=model, param_grid=param_grid, n_jobs=-1, cv=3)\n",
    "grid_result = grid.fit(X_train, y_train)"
   ]
  },
  {
   "cell_type": "code",
   "execution_count": 428,
   "metadata": {},
   "outputs": [
    {
     "name": "stdout",
     "output_type": "stream",
     "text": [
      "Best: 0.920766 using {'model__dropout_rate': 0.3, 'model__weight_constraint': 5.0}\n",
      "0.900980 (0.010095) with: {'model__dropout_rate': 0.0, 'model__weight_constraint': 1.0}\n",
      "0.910879 (0.007089) with: {'model__dropout_rate': 0.0, 'model__weight_constraint': 2.0}\n",
      "0.912303 (0.005321) with: {'model__dropout_rate': 0.0, 'model__weight_constraint': 3.0}\n",
      "0.910897 (0.009099) with: {'model__dropout_rate': 0.0, 'model__weight_constraint': 4.0}\n",
      "0.903805 (0.007408) with: {'model__dropout_rate': 0.0, 'model__weight_constraint': 5.0}\n",
      "0.903787 (0.019255) with: {'model__dropout_rate': 0.1, 'model__weight_constraint': 1.0}\n",
      "0.910879 (0.007089) with: {'model__dropout_rate': 0.1, 'model__weight_constraint': 2.0}\n",
      "0.909472 (0.004092) with: {'model__dropout_rate': 0.1, 'model__weight_constraint': 3.0}\n",
      "0.903811 (0.005441) with: {'model__dropout_rate': 0.1, 'model__weight_constraint': 4.0}\n",
      "0.912303 (0.005321) with: {'model__dropout_rate': 0.1, 'model__weight_constraint': 5.0}\n",
      "0.886801 (0.022528) with: {'model__dropout_rate': 0.2, 'model__weight_constraint': 1.0}\n",
      "0.905223 (0.005478) with: {'model__dropout_rate': 0.2, 'model__weight_constraint': 2.0}\n",
      "0.912297 (0.004182) with: {'model__dropout_rate': 0.2, 'model__weight_constraint': 3.0}\n",
      "0.916540 (0.004173) with: {'model__dropout_rate': 0.2, 'model__weight_constraint': 4.0}\n",
      "0.913716 (0.004087) with: {'model__dropout_rate': 0.2, 'model__weight_constraint': 5.0}\n",
      "0.908054 (0.008089) with: {'model__dropout_rate': 0.3, 'model__weight_constraint': 1.0}\n",
      "0.899567 (0.005447) with: {'model__dropout_rate': 0.3, 'model__weight_constraint': 2.0}\n",
      "0.915128 (0.006084) with: {'model__dropout_rate': 0.3, 'model__weight_constraint': 3.0}\n",
      "0.906653 (0.003306) with: {'model__dropout_rate': 0.3, 'model__weight_constraint': 4.0}\n",
      "0.920766 (0.015764) with: {'model__dropout_rate': 0.3, 'model__weight_constraint': 5.0}\n",
      "0.908048 (0.011251) with: {'model__dropout_rate': 0.4, 'model__weight_constraint': 1.0}\n",
      "0.913698 (0.012335) with: {'model__dropout_rate': 0.4, 'model__weight_constraint': 2.0}\n",
      "0.906617 (0.016072) with: {'model__dropout_rate': 0.4, 'model__weight_constraint': 3.0}\n",
      "0.913704 (0.010718) with: {'model__dropout_rate': 0.4, 'model__weight_constraint': 4.0}\n",
      "0.916546 (0.002088) with: {'model__dropout_rate': 0.4, 'model__weight_constraint': 5.0}\n",
      "0.908036 (0.013317) with: {'model__dropout_rate': 0.5, 'model__weight_constraint': 1.0}\n",
      "0.915110 (0.014016) with: {'model__dropout_rate': 0.5, 'model__weight_constraint': 2.0}\n",
      "0.906629 (0.009362) with: {'model__dropout_rate': 0.5, 'model__weight_constraint': 3.0}\n",
      "0.917953 (0.007327) with: {'model__dropout_rate': 0.5, 'model__weight_constraint': 4.0}\n",
      "0.915104 (0.016055) with: {'model__dropout_rate': 0.5, 'model__weight_constraint': 5.0}\n",
      "0.915122 (0.007082) with: {'model__dropout_rate': 0.6, 'model__weight_constraint': 1.0}\n",
      "0.915122 (0.007082) with: {'model__dropout_rate': 0.6, 'model__weight_constraint': 2.0}\n",
      "0.910873 (0.012622) with: {'model__dropout_rate': 0.6, 'model__weight_constraint': 3.0}\n",
      "0.913704 (0.016078) with: {'model__dropout_rate': 0.6, 'model__weight_constraint': 4.0}\n",
      "0.912303 (0.008729) with: {'model__dropout_rate': 0.6, 'model__weight_constraint': 5.0}\n",
      "0.917941 (0.011315) with: {'model__dropout_rate': 0.7, 'model__weight_constraint': 1.0}\n",
      "0.905199 (0.019267) with: {'model__dropout_rate': 0.7, 'model__weight_constraint': 2.0}\n",
      "0.913710 (0.010082) with: {'model__dropout_rate': 0.7, 'model__weight_constraint': 3.0}\n",
      "0.902374 (0.016080) with: {'model__dropout_rate': 0.7, 'model__weight_constraint': 4.0}\n",
      "0.908048 (0.014085) with: {'model__dropout_rate': 0.7, 'model__weight_constraint': 5.0}\n",
      "0.908036 (0.014188) with: {'model__dropout_rate': 0.8, 'model__weight_constraint': 1.0}\n",
      "0.908036 (0.013317) with: {'model__dropout_rate': 0.8, 'model__weight_constraint': 2.0}\n",
      "0.900968 (0.011348) with: {'model__dropout_rate': 0.8, 'model__weight_constraint': 3.0}\n",
      "0.909460 (0.010725) with: {'model__dropout_rate': 0.8, 'model__weight_constraint': 4.0}\n",
      "0.902386 (0.010571) with: {'model__dropout_rate': 0.8, 'model__weight_constraint': 5.0}\n",
      "0.902392 (0.006205) with: {'model__dropout_rate': 0.9, 'model__weight_constraint': 1.0}\n",
      "0.903781 (0.021079) with: {'model__dropout_rate': 0.9, 'model__weight_constraint': 2.0}\n",
      "0.902398 (0.006097) with: {'model__dropout_rate': 0.9, 'model__weight_constraint': 3.0}\n",
      "0.881200 (0.009010) with: {'model__dropout_rate': 0.9, 'model__weight_constraint': 4.0}\n",
      "0.898107 (0.027736) with: {'model__dropout_rate': 0.9, 'model__weight_constraint': 5.0}\n"
     ]
    }
   ],
   "source": [
    "print(\"Best: %f using %s\" % (grid_result.best_score_, grid_result.best_params_))\n",
    "means = grid_result.cv_results_['mean_test_score']\n",
    "stds = grid_result.cv_results_['std_test_score']\n",
    "params = grid_result.cv_results_['params']\n",
    "for mean, stdev, param in zip(means, stds, params):\n",
    "    print(\"%f (%f) with: %r\" % (mean, stdev, param))"
   ]
  },
  {
   "cell_type": "markdown",
   "metadata": {},
   "source": [
    "Best: 0.920778 using {'model__dropout_rate': 0.7, 'model__weight_constraint': 4.0}\n",
    "Best: 0.920766 using {'model__dropout_rate': 0.3, 'model__weight_constraint': 5.0}"
   ]
  },
  {
   "cell_type": "code",
   "execution_count": 429,
   "metadata": {},
   "outputs": [],
   "source": [
    "def create_model_neurons(neurons):\n",
    "\t# create model\n",
    "\tmodel = Sequential()\n",
    "\tmodel.add(Dense(neurons, input_shape=(10097,), kernel_initializer='glorot_normal', activation='tanh', kernel_constraint=MaxNorm(5)))\n",
    "\tmodel.add(Dropout(0.3))\n",
    "\tmodel.add(Dense(1, kernel_initializer='glorot_normal', activation='sigmoid'))\n",
    "\t# Compile model\n",
    "\tmodel.compile(loss='binary_crossentropy', optimizer='RMSprop', metrics=['accuracy'])\n",
    "\treturn model"
   ]
  },
  {
   "cell_type": "code",
   "execution_count": 430,
   "metadata": {},
   "outputs": [],
   "source": [
    "model = KerasClassifier(model=create_model_neurons, epochs=10, batch_size=20, verbose=0)"
   ]
  },
  {
   "cell_type": "code",
   "execution_count": 432,
   "metadata": {},
   "outputs": [
    {
     "name": "stderr",
     "output_type": "stream",
     "text": [
      "2022-07-10 17:57:45.229372: I tensorflow/core/platform/cpu_feature_guard.cc:193] This TensorFlow binary is optimized with oneAPI Deep Neural Network Library (oneDNN) to use the following CPU instructions in performance-critical operations:  AVX2 FMA\n",
      "To enable them in other operations, rebuild TensorFlow with the appropriate compiler flags.\n",
      "2022-07-10 17:57:45.230515: I tensorflow/core/platform/cpu_feature_guard.cc:193] This TensorFlow binary is optimized with oneAPI Deep Neural Network Library (oneDNN) to use the following CPU instructions in performance-critical operations:  AVX2 FMA\n",
      "To enable them in other operations, rebuild TensorFlow with the appropriate compiler flags.\n",
      "2022-07-10 17:57:45.230530: I tensorflow/core/platform/cpu_feature_guard.cc:193] This TensorFlow binary is optimized with oneAPI Deep Neural Network Library (oneDNN) to use the following CPU instructions in performance-critical operations:  AVX2 FMA\n",
      "To enable them in other operations, rebuild TensorFlow with the appropriate compiler flags.\n",
      "2022-07-10 17:57:45.230800: I tensorflow/core/platform/cpu_feature_guard.cc:193] This TensorFlow binary is optimized with oneAPI Deep Neural Network Library (oneDNN) to use the following CPU instructions in performance-critical operations:  AVX2 FMA\n",
      "To enable them in other operations, rebuild TensorFlow with the appropriate compiler flags.\n",
      "2022-07-10 17:57:45.232529: I tensorflow/core/platform/cpu_feature_guard.cc:193] This TensorFlow binary is optimized with oneAPI Deep Neural Network Library (oneDNN) to use the following CPU instructions in performance-critical operations:  AVX2 FMA\n",
      "To enable them in other operations, rebuild TensorFlow with the appropriate compiler flags.\n",
      "2022-07-10 17:57:45.285459: I tensorflow/core/platform/cpu_feature_guard.cc:193] This TensorFlow binary is optimized with oneAPI Deep Neural Network Library (oneDNN) to use the following CPU instructions in performance-critical operations:  AVX2 FMA\n",
      "To enable them in other operations, rebuild TensorFlow with the appropriate compiler flags.\n",
      "2022-07-10 17:57:45.287821: I tensorflow/core/platform/cpu_feature_guard.cc:193] This TensorFlow binary is optimized with oneAPI Deep Neural Network Library (oneDNN) to use the following CPU instructions in performance-critical operations:  AVX2 FMA\n",
      "To enable them in other operations, rebuild TensorFlow with the appropriate compiler flags.\n",
      "2022-07-10 17:57:45.289582: I tensorflow/core/platform/cpu_feature_guard.cc:193] This TensorFlow binary is optimized with oneAPI Deep Neural Network Library (oneDNN) to use the following CPU instructions in performance-critical operations:  AVX2 FMA\n",
      "To enable them in other operations, rebuild TensorFlow with the appropriate compiler flags.\n",
      "2022-07-10 17:57:45.291826: I tensorflow/core/platform/cpu_feature_guard.cc:193] This TensorFlow binary is optimized with oneAPI Deep Neural Network Library (oneDNN) to use the following CPU instructions in performance-critical operations:  AVX2 FMA\n",
      "To enable them in other operations, rebuild TensorFlow with the appropriate compiler flags.\n",
      "2022-07-10 17:57:45.294437: I tensorflow/core/platform/cpu_feature_guard.cc:193] This TensorFlow binary is optimized with oneAPI Deep Neural Network Library (oneDNN) to use the following CPU instructions in performance-critical operations:  AVX2 FMA\n",
      "To enable them in other operations, rebuild TensorFlow with the appropriate compiler flags.\n",
      "2022-07-10 17:57:45.296020: I tensorflow/core/platform/cpu_feature_guard.cc:193] This TensorFlow binary is optimized with oneAPI Deep Neural Network Library (oneDNN) to use the following CPU instructions in performance-critical operations:  AVX2 FMA\n",
      "To enable them in other operations, rebuild TensorFlow with the appropriate compiler flags.\n",
      "2022-07-10 17:57:45.296036: I tensorflow/core/platform/cpu_feature_guard.cc:193] This TensorFlow binary is optimized with oneAPI Deep Neural Network Library (oneDNN) to use the following CPU instructions in performance-critical operations:  AVX2 FMA\n",
      "To enable them in other operations, rebuild TensorFlow with the appropriate compiler flags.\n",
      "2022-07-10 17:57:45.297436: I tensorflow/core/platform/cpu_feature_guard.cc:193] This TensorFlow binary is optimized with oneAPI Deep Neural Network Library (oneDNN) to use the following CPU instructions in performance-critical operations:  AVX2 FMA\n",
      "To enable them in other operations, rebuild TensorFlow with the appropriate compiler flags.\n",
      "2022-07-10 17:57:45.297545: I tensorflow/core/platform/cpu_feature_guard.cc:193] This TensorFlow binary is optimized with oneAPI Deep Neural Network Library (oneDNN) to use the following CPU instructions in performance-critical operations:  AVX2 FMA\n",
      "To enable them in other operations, rebuild TensorFlow with the appropriate compiler flags.\n",
      "2022-07-10 17:57:45.299556: I tensorflow/core/platform/cpu_feature_guard.cc:193] This TensorFlow binary is optimized with oneAPI Deep Neural Network Library (oneDNN) to use the following CPU instructions in performance-critical operations:  AVX2 FMA\n",
      "To enable them in other operations, rebuild TensorFlow with the appropriate compiler flags.\n",
      "2022-07-10 17:57:45.299753: I tensorflow/core/platform/cpu_feature_guard.cc:193] This TensorFlow binary is optimized with oneAPI Deep Neural Network Library (oneDNN) to use the following CPU instructions in performance-critical operations:  AVX2 FMA\n",
      "To enable them in other operations, rebuild TensorFlow with the appropriate compiler flags.\n"
     ]
    }
   ],
   "source": [
    "neurons = [10, 50, 100, 200, 400, 600, 800, 1000]\n",
    "param_grid = dict(model__neurons=neurons)\n",
    "grid = GridSearchCV(estimator=model, param_grid=param_grid, n_jobs=-1, cv=3)\n",
    "grid_result = grid.fit(X_train, y_train)"
   ]
  },
  {
   "cell_type": "code",
   "execution_count": 433,
   "metadata": {},
   "outputs": [
    {
     "name": "stdout",
     "output_type": "stream",
     "text": [
      "Best: 0.915128 using {'model__neurons': 100}\n",
      "0.912291 (0.008865) with: {'model__neurons': 10}\n",
      "0.912285 (0.014546) with: {'model__neurons': 50}\n",
      "0.915128 (0.003615) with: {'model__neurons': 100}\n",
      "0.905205 (0.015807) with: {'model__neurons': 200}\n",
      "0.909460 (0.008194) with: {'model__neurons': 400}\n",
      "0.906647 (0.010381) with: {'model__neurons': 600}\n",
      "0.912315 (0.005132) with: {'model__neurons': 800}\n",
      "0.902410 (0.009094) with: {'model__neurons': 1000}\n"
     ]
    }
   ],
   "source": [
    "print(\"Best: %f using %s\" % (grid_result.best_score_, grid_result.best_params_))\n",
    "means = grid_result.cv_results_['mean_test_score']\n",
    "stds = grid_result.cv_results_['std_test_score']\n",
    "params = grid_result.cv_results_['params']\n",
    "for mean, stdev, param in zip(means, stds, params):\n",
    "    print(\"%f (%f) with: %r\" % (mean, stdev, param))"
   ]
  },
  {
   "cell_type": "code",
   "execution_count": 435,
   "metadata": {},
   "outputs": [
    {
     "name": "stderr",
     "output_type": "stream",
     "text": [
      "2022-07-10 18:11:25.500198: I tensorflow/core/platform/cpu_feature_guard.cc:193] This TensorFlow binary is optimized with oneAPI Deep Neural Network Library (oneDNN) to use the following CPU instructions in performance-critical operations:  AVX2 FMA\n",
      "To enable them in other operations, rebuild TensorFlow with the appropriate compiler flags.\n",
      "2022-07-10 18:11:25.502964: I tensorflow/core/platform/cpu_feature_guard.cc:193] This TensorFlow binary is optimized with oneAPI Deep Neural Network Library (oneDNN) to use the following CPU instructions in performance-critical operations:  AVX2 FMA\n",
      "To enable them in other operations, rebuild TensorFlow with the appropriate compiler flags.\n",
      "2022-07-10 18:11:25.506322: I tensorflow/core/platform/cpu_feature_guard.cc:193] This TensorFlow binary is optimized with oneAPI Deep Neural Network Library (oneDNN) to use the following CPU instructions in performance-critical operations:  AVX2 FMA\n",
      "To enable them in other operations, rebuild TensorFlow with the appropriate compiler flags.\n",
      "2022-07-10 18:11:25.506589: I tensorflow/core/platform/cpu_feature_guard.cc:193] This TensorFlow binary is optimized with oneAPI Deep Neural Network Library (oneDNN) to use the following CPU instructions in performance-critical operations:  AVX2 FMA\n",
      "To enable them in other operations, rebuild TensorFlow with the appropriate compiler flags.\n",
      "2022-07-10 18:11:25.506681: I tensorflow/core/platform/cpu_feature_guard.cc:193] This TensorFlow binary is optimized with oneAPI Deep Neural Network Library (oneDNN) to use the following CPU instructions in performance-critical operations:  AVX2 FMA\n",
      "To enable them in other operations, rebuild TensorFlow with the appropriate compiler flags.\n",
      "2022-07-10 18:11:25.522534: I tensorflow/core/platform/cpu_feature_guard.cc:193] This TensorFlow binary is optimized with oneAPI Deep Neural Network Library (oneDNN) to use the following CPU instructions in performance-critical operations:  AVX2 FMA\n",
      "To enable them in other operations, rebuild TensorFlow with the appropriate compiler flags.\n",
      "2022-07-10 18:11:25.524480: I tensorflow/core/platform/cpu_feature_guard.cc:193] This TensorFlow binary is optimized with oneAPI Deep Neural Network Library (oneDNN) to use the following CPU instructions in performance-critical operations:  AVX2 FMA\n",
      "To enable them in other operations, rebuild TensorFlow with the appropriate compiler flags.\n",
      "2022-07-10 18:11:25.526100: I tensorflow/core/platform/cpu_feature_guard.cc:193] This TensorFlow binary is optimized with oneAPI Deep Neural Network Library (oneDNN) to use the following CPU instructions in performance-critical operations:  AVX2 FMA\n",
      "To enable them in other operations, rebuild TensorFlow with the appropriate compiler flags.\n",
      "2022-07-10 18:11:25.527554: I tensorflow/core/platform/cpu_feature_guard.cc:193] This TensorFlow binary is optimized with oneAPI Deep Neural Network Library (oneDNN) to use the following CPU instructions in performance-critical operations:  AVX2 FMA\n",
      "To enable them in other operations, rebuild TensorFlow with the appropriate compiler flags.\n",
      "2022-07-10 18:11:25.527932: I tensorflow/core/platform/cpu_feature_guard.cc:193] This TensorFlow binary is optimized with oneAPI Deep Neural Network Library (oneDNN) to use the following CPU instructions in performance-critical operations:  AVX2 FMA\n",
      "To enable them in other operations, rebuild TensorFlow with the appropriate compiler flags.\n",
      "2022-07-10 18:11:25.527935: I tensorflow/core/platform/cpu_feature_guard.cc:193] This TensorFlow binary is optimized with oneAPI Deep Neural Network Library (oneDNN) to use the following CPU instructions in performance-critical operations:  AVX2 FMA\n",
      "To enable them in other operations, rebuild TensorFlow with the appropriate compiler flags.\n",
      "2022-07-10 18:11:25.528781: I tensorflow/core/platform/cpu_feature_guard.cc:193] This TensorFlow binary is optimized with oneAPI Deep Neural Network Library (oneDNN) to use the following CPU instructions in performance-critical operations:  AVX2 FMA\n",
      "To enable them in other operations, rebuild TensorFlow with the appropriate compiler flags.\n",
      "2022-07-10 18:11:25.528796: I tensorflow/core/platform/cpu_feature_guard.cc:193] This TensorFlow binary is optimized with oneAPI Deep Neural Network Library (oneDNN) to use the following CPU instructions in performance-critical operations:  AVX2 FMA\n",
      "To enable them in other operations, rebuild TensorFlow with the appropriate compiler flags.\n",
      "2022-07-10 18:11:25.529020: I tensorflow/core/platform/cpu_feature_guard.cc:193] This TensorFlow binary is optimized with oneAPI Deep Neural Network Library (oneDNN) to use the following CPU instructions in performance-critical operations:  AVX2 FMA\n",
      "To enable them in other operations, rebuild TensorFlow with the appropriate compiler flags.\n",
      "2022-07-10 18:11:25.530558: I tensorflow/core/platform/cpu_feature_guard.cc:193] This TensorFlow binary is optimized with oneAPI Deep Neural Network Library (oneDNN) to use the following CPU instructions in performance-critical operations:  AVX2 FMA\n",
      "To enable them in other operations, rebuild TensorFlow with the appropriate compiler flags.\n",
      "2022-07-10 18:11:25.530874: I tensorflow/core/platform/cpu_feature_guard.cc:193] This TensorFlow binary is optimized with oneAPI Deep Neural Network Library (oneDNN) to use the following CPU instructions in performance-critical operations:  AVX2 FMA\n",
      "To enable them in other operations, rebuild TensorFlow with the appropriate compiler flags.\n"
     ]
    }
   ],
   "source": [
    "neurons = [50, 70, 90, 100, 110, 120, 130, 140, 150]\n",
    "param_grid = dict(model__neurons=neurons)\n",
    "grid = GridSearchCV(estimator=model, param_grid=param_grid, n_jobs=-1, cv=3)\n",
    "grid_result = grid.fit(X_train, y_train)"
   ]
  },
  {
   "cell_type": "code",
   "execution_count": 436,
   "metadata": {},
   "outputs": [
    {
     "name": "stdout",
     "output_type": "stream",
     "text": [
      "Best: 0.913716 using {'model__neurons': 110}\n",
      "0.910885 (0.003623) with: {'model__neurons': 50}\n",
      "0.910891 (0.006922) with: {'model__neurons': 70}\n",
      "0.910891 (0.003464) with: {'model__neurons': 90}\n",
      "0.909460 (0.013224) with: {'model__neurons': 100}\n",
      "0.913716 (0.004087) with: {'model__neurons': 110}\n",
      "0.913704 (0.010718) with: {'model__neurons': 120}\n",
      "0.910891 (0.003464) with: {'model__neurons': 130}\n",
      "0.910891 (0.000178) with: {'model__neurons': 140}\n",
      "0.905211 (0.014157) with: {'model__neurons': 150}\n"
     ]
    }
   ],
   "source": [
    "print(\"Best: %f using %s\" % (grid_result.best_score_, grid_result.best_params_))\n",
    "means = grid_result.cv_results_['mean_test_score']\n",
    "stds = grid_result.cv_results_['std_test_score']\n",
    "params = grid_result.cv_results_['params']\n",
    "for mean, stdev, param in zip(means, stds, params):\n",
    "    print(\"%f (%f) with: %r\" % (mean, stdev, param))"
   ]
  },
  {
   "cell_type": "code",
   "execution_count": 437,
   "metadata": {},
   "outputs": [],
   "source": [
    "def create_model_reg(regularizer_fn):\n",
    "\t# create model\n",
    "\tmodel = Sequential()\n",
    "\tmodel.add(Dense(110, input_shape=(10097,), kernel_initializer='glorot_normal', kernel_regularizer=regularizer_fn, activation='tanh', kernel_constraint=MaxNorm(5)))\n",
    "\tmodel.add(Dropout(0.3))\n",
    "\tmodel.add(Dense(1, kernel_initializer='glorot_normal', kernel_regularizer=regularizer_fn, activation='sigmoid'))\n",
    "\t# Compile model\n",
    "\tmodel.compile(loss='binary_crossentropy', optimizer='RMSprop', metrics=['accuracy'])\n",
    "\treturn model"
   ]
  },
  {
   "cell_type": "code",
   "execution_count": 438,
   "metadata": {},
   "outputs": [],
   "source": [
    "model = KerasClassifier(model=create_model_reg, epochs=10, batch_size=20, verbose=0)"
   ]
  },
  {
   "cell_type": "code",
   "execution_count": 439,
   "metadata": {},
   "outputs": [
    {
     "name": "stderr",
     "output_type": "stream",
     "text": [
      "2022-07-10 18:31:32.863225: I tensorflow/core/platform/cpu_feature_guard.cc:193] This TensorFlow binary is optimized with oneAPI Deep Neural Network Library (oneDNN) to use the following CPU instructions in performance-critical operations:  AVX2 FMA\n",
      "To enable them in other operations, rebuild TensorFlow with the appropriate compiler flags.\n",
      "2022-07-10 18:31:32.863633: I tensorflow/core/platform/cpu_feature_guard.cc:193] This TensorFlow binary is optimized with oneAPI Deep Neural Network Library (oneDNN) to use the following CPU instructions in performance-critical operations:  AVX2 FMA\n",
      "To enable them in other operations, rebuild TensorFlow with the appropriate compiler flags.\n",
      "2022-07-10 18:31:32.866662: I tensorflow/core/platform/cpu_feature_guard.cc:193] This TensorFlow binary is optimized with oneAPI Deep Neural Network Library (oneDNN) to use the following CPU instructions in performance-critical operations:  AVX2 FMA\n",
      "To enable them in other operations, rebuild TensorFlow with the appropriate compiler flags.\n",
      "2022-07-10 18:31:32.866722: I tensorflow/core/platform/cpu_feature_guard.cc:193] This TensorFlow binary is optimized with oneAPI Deep Neural Network Library (oneDNN) to use the following CPU instructions in performance-critical operations:  AVX2 FMA\n",
      "To enable them in other operations, rebuild TensorFlow with the appropriate compiler flags.\n",
      "2022-07-10 18:31:32.866820: I tensorflow/core/platform/cpu_feature_guard.cc:193] This TensorFlow binary is optimized with oneAPI Deep Neural Network Library (oneDNN) to use the following CPU instructions in performance-critical operations:  AVX2 FMA\n",
      "To enable them in other operations, rebuild TensorFlow with the appropriate compiler flags.\n",
      "2022-07-10 18:31:32.867296: I tensorflow/core/platform/cpu_feature_guard.cc:193] This TensorFlow binary is optimized with oneAPI Deep Neural Network Library (oneDNN) to use the following CPU instructions in performance-critical operations:  AVX2 FMA\n",
      "To enable them in other operations, rebuild TensorFlow with the appropriate compiler flags.\n"
     ]
    }
   ],
   "source": [
    "regularizer_fn = [l1(0.01), l2(0.01)]\n",
    "param_grid = dict(model__regularizer_fn=regularizer_fn)\n",
    "grid = GridSearchCV(estimator=model, param_grid=param_grid, n_jobs=-1, cv=3)\n",
    "grid_result = grid.fit(X_train, y_train)"
   ]
  },
  {
   "cell_type": "code",
   "execution_count": 440,
   "metadata": {},
   "outputs": [
    {
     "name": "stdout",
     "output_type": "stream",
     "text": [
      "Best: 0.867081 using {'model__regularizer_fn': <keras.regularizers.L2 object at 0x7f8001874f10>}\n",
      "0.626536 (0.132683) with: {'model__regularizer_fn': <keras.regularizers.L1 object at 0x7f8001899640>}\n",
      "0.867081 (0.060090) with: {'model__regularizer_fn': <keras.regularizers.L2 object at 0x7f8001874f10>}\n"
     ]
    }
   ],
   "source": [
    "print(\"Best: %f using %s\" % (grid_result.best_score_, grid_result.best_params_))\n",
    "means = grid_result.cv_results_['mean_test_score']\n",
    "stds = grid_result.cv_results_['std_test_score']\n",
    "params = grid_result.cv_results_['params']\n",
    "for mean, stdev, param in zip(means, stds, params):\n",
    "    print(\"%f (%f) with: %r\" % (mean, stdev, param))"
   ]
  },
  {
   "cell_type": "markdown",
   "metadata": {},
   "source": [
    "I will not use L2 or L1 regularization, only dropout"
   ]
  },
  {
   "cell_type": "code",
   "execution_count": 556,
   "metadata": {},
   "outputs": [],
   "source": [
    "opt_model = Sequential()\n",
    "opt_model.add(Dense(110, input_shape=(10097,), kernel_initializer='glorot_normal', activation='tanh', kernel_constraint=MaxNorm(5)))\n",
    "opt_model.add(Dropout(0.3))\n",
    "opt_model.add(Dense(1, kernel_initializer='glorot_normal', activation='sigmoid'))"
   ]
  },
  {
   "cell_type": "code",
   "execution_count": 557,
   "metadata": {},
   "outputs": [],
   "source": [
    "opt_model.compile(loss='binary_crossentropy', optimizer='RMSprop', metrics=['accuracy'])"
   ]
  },
  {
   "cell_type": "code",
   "execution_count": 558,
   "metadata": {},
   "outputs": [
    {
     "name": "stdout",
     "output_type": "stream",
     "text": [
      "Epoch 1/10\n",
      "36/36 [==============================] - 1s 13ms/step - loss: 0.5103 - accuracy: 0.7893\n",
      "Epoch 2/10\n",
      "36/36 [==============================] - 0s 12ms/step - loss: 0.1139 - accuracy: 0.9760\n",
      "Epoch 3/10\n",
      "36/36 [==============================] - 0s 12ms/step - loss: 0.1129 - accuracy: 0.9661\n",
      "Epoch 4/10\n",
      "36/36 [==============================] - 0s 13ms/step - loss: 0.0313 - accuracy: 0.9972\n",
      "Epoch 5/10\n",
      "36/36 [==============================] - 0s 13ms/step - loss: 0.0149 - accuracy: 1.0000\n",
      "Epoch 6/10\n",
      "36/36 [==============================] - 0s 13ms/step - loss: 0.0064 - accuracy: 1.0000\n",
      "Epoch 7/10\n",
      "36/36 [==============================] - 0s 13ms/step - loss: 0.0029 - accuracy: 1.0000\n",
      "Epoch 8/10\n",
      "36/36 [==============================] - 0s 13ms/step - loss: 0.0010 - accuracy: 1.0000\n",
      "Epoch 9/10\n",
      "36/36 [==============================] - 0s 13ms/step - loss: 4.8785e-04 - accuracy: 1.0000\n",
      "Epoch 10/10\n",
      "36/36 [==============================] - 0s 13ms/step - loss: 2.0320e-04 - accuracy: 1.0000\n"
     ]
    },
    {
     "data": {
      "text/plain": [
       "<keras.callbacks.History at 0x7f8032eb6e80>"
      ]
     },
     "execution_count": 558,
     "metadata": {},
     "output_type": "execute_result"
    }
   ],
   "source": [
    "opt_model.fit(X_train, y_train,  epochs=10, batch_size=20)"
   ]
  },
  {
   "cell_type": "code",
   "execution_count": 559,
   "metadata": {},
   "outputs": [
    {
     "name": "stdout",
     "output_type": "stream",
     "text": [
      "6/6 [==============================] - 0s 2ms/step - loss: 0.2814 - accuracy: 0.9379\n"
     ]
    }
   ],
   "source": [
    "_, accuracy = opt_model.evaluate(X_valid, y_valid)"
   ]
  },
  {
   "cell_type": "code",
   "execution_count": 560,
   "metadata": {},
   "outputs": [
    {
     "name": "stdout",
     "output_type": "stream",
     "text": [
      "7/7 [==============================] - 0s 2ms/step - loss: 0.4316 - accuracy: 0.8959\n"
     ]
    }
   ],
   "source": [
    "_, accuracy = opt_model.evaluate(X_test, y_test)"
   ]
  },
  {
   "cell_type": "code",
   "execution_count": 561,
   "metadata": {},
   "outputs": [],
   "source": [
    "def new_make_cm(cm, y_true, preds, name='name'):\n",
    "    if (len(preds[preds==0]))!=0 :\n",
    "        specificity = len(preds[(preds==0)&(y_true==0)])/(len(y_true[y_true==0]))\n",
    "    else:\n",
    "        specificity = 0\n",
    "        \n",
    "    sns.heatmap(cm, annot = True,fmt = 'd', annot_kws={\"fontsize\":20})\n",
    "    plt.title('Confusion Matrix for {0}'.format(name), fontsize=30)\n",
    "    plt.xlabel(\"Accuracy: {0:.2f} \\nRecall: {1:.2f}\\nSpecificity: {2:.2f}\".format(accuracy_score(y_true,preds),\n",
    "                                                                      recall_score(y_true, preds),\n",
    "                                                                      specificity),fontsize= 20)\n",
    "    plt.xticks(fontsize=20)\n",
    "    plt.yticks(fontsize=20)"
   ]
  },
  {
   "cell_type": "code",
   "execution_count": 562,
   "metadata": {},
   "outputs": [
    {
     "name": "stdout",
     "output_type": "stream",
     "text": [
      "6/6 [==============================] - 0s 2ms/step\n"
     ]
    }
   ],
   "source": [
    "preds_valid = (opt_model.predict(X_valid) > 0.5).astype(\"int32\")"
   ]
  },
  {
   "cell_type": "code",
   "execution_count": 563,
   "metadata": {},
   "outputs": [],
   "source": [
    "preds_valid = preds_valid.reshape(177,)"
   ]
  },
  {
   "cell_type": "code",
   "execution_count": 564,
   "metadata": {},
   "outputs": [],
   "source": [
    "cm_valid = confusion_matrix(y_valid,preds_valid)"
   ]
  },
  {
   "cell_type": "code",
   "execution_count": 565,
   "metadata": {},
   "outputs": [
    {
     "data": {
      "text/plain": [
       "array([[87,  9],\n",
       "       [ 2, 79]])"
      ]
     },
     "execution_count": 565,
     "metadata": {},
     "output_type": "execute_result"
    }
   ],
   "source": [
    "cm_valid"
   ]
  },
  {
   "cell_type": "code",
   "execution_count": 566,
   "metadata": {},
   "outputs": [
    {
     "data": {
      "text/plain": [
       "(177,)"
      ]
     },
     "execution_count": 566,
     "metadata": {},
     "output_type": "execute_result"
    }
   ],
   "source": [
    "preds_valid.shape"
   ]
  },
  {
   "cell_type": "code",
   "execution_count": 567,
   "metadata": {},
   "outputs": [
    {
     "data": {
      "image/png": "[encoded data removed]",
      "text/plain": [
       "<Figure size 576x396 with 2 Axes>"
      ]
     },
     "metadata": {
      "needs_background": "light"
     },
     "output_type": "display_data"
    }
   ],
   "source": [
    "new_make_cm(cm_valid, y_valid, preds_valid, 'MLP Validation Set')"
   ]
  },
  {
   "cell_type": "code",
   "execution_count": 553,
   "metadata": {},
   "outputs": [
    {
     "data": {
      "text/plain": [
       "(221, 10097)"
      ]
     },
     "execution_count": 553,
     "metadata": {},
     "output_type": "execute_result"
    }
   ],
   "source": [
    "X_test.shape"
   ]
  },
  {
   "cell_type": "code",
   "execution_count": 568,
   "metadata": {},
   "outputs": [
    {
     "name": "stdout",
     "output_type": "stream",
     "text": [
      "7/7 [==============================] - 0s 2ms/step\n"
     ]
    },
    {
     "data": {
      "image/png": "[encoded data removed]",
      "text/plain": [
       "<Figure size 576x396 with 2 Axes>"
      ]
     },
     "metadata": {
      "needs_background": "light"
     },
     "output_type": "display_data"
    }
   ],
   "source": [
    "preds_test = (opt_model.predict(X_test) > 0.5).astype(\"int32\")\n",
    "preds_test = preds_test.reshape(221,)\n",
    "cm_test = confusion_matrix(y_test,preds_test)\n",
    "new_make_cm(cm_test, y_test, preds_test, 'MLP Test Set')"
   ]
  },
  {
   "cell_type": "code",
   "execution_count": 501,
   "metadata": {},
   "outputs": [],
   "source": [
    "def add_roc(fpr,tpr,p, name, color):\n",
    "    # add a line renderer with legend and line thickness\n",
    "    p.line(fpr, tpr, legend=name, line_width=2, color=color)\n",
    "    return "
   ]
  },
  {
   "cell_type": "code",
   "execution_count": 506,
   "metadata": {},
   "outputs": [
    {
     "name": "stdout",
     "output_type": "stream",
     "text": [
      "6/6 [==============================] - 0s 2ms/step\n"
     ]
    }
   ],
   "source": [
    "fpr_mlp, tpr_mlp, thresholds_mlp = roc_curve(y_valid,\n",
    "                                             opt_model.predict(X_valid),\n",
    "                                             pos_label=1)"
   ]
  },
  {
   "cell_type": "code",
   "execution_count": 517,
   "metadata": {},
   "outputs": [
    {
     "name": "stderr",
     "output_type": "stream",
     "text": [
      "BokehDeprecationWarning: 'legend' keyword is deprecated, use explicit 'legend_label', 'legend_field', or 'legend_group' keywords instead\n"
     ]
    },
    {
     "data": {
      "text/html": [
       "\n",
       "\n",
       "\n",
       "\n",
       "\n",
       "\n",
       "  <div class=\"bk-root\" id=\"8c119fcb-c64d-4581-b16b-1a3eb60ded15\" data-root-id=\"1498\"></div>\n"
      ]
     },
     "metadata": {},
     "output_type": "display_data"
    },
    {
     "data": {
      "application/javascript": "(function(root) {\n  function embed_document(root) {\n    \n  const docs_json = {\"51dd0cdc-878e-4796-97b4-62ed29456bff\":{\"defs\":[],\"roots\":{\"references\":[{\"attributes\":{\"below\":[{\"id\":\"1509\"}],\"center\":[{\"id\":\"1512\"},{\"id\":\"1516\"},{\"id\":\"1547\"}],\"left\":[{\"id\":\"1513\"}],\"renderers\":[{\"id\":\"1535\"}],\"title\":{\"id\":\"1499\"},\"toolbar\":{\"id\":\"1524\"},\"x_range\":{\"id\":\"1501\"},\"x_scale\":{\"id\":\"1505\"},\"y_range\":{\"id\":\"1503\"},\"y_scale\":{\"id\":\"1507\"}},\"id\":\"1498\",\"subtype\":\"Figure\",\"type\":\"Plot\"},{\"attributes\":{},\"id\":\"1517\",\"type\":\"PanTool\"},{\"attributes\":{\"source\":{\"id\":\"1531\"}},\"id\":\"1536\",\"type\":\"CDSView\"},{\"attributes\":{\"label\":{\"value\":\"ROC for Single-Layered Network, AUC:0.99\"},\"renderers\":[{\"id\":\"1535\"}]},\"id\":\"1548\",\"type\":\"LegendItem\"},{\"attributes\":{\"line_color\":\"#e67e22\",\"line_width\":2,\"x\":{\"field\":\"x\"},\"y\":{\"field\":\"y\"}},\"id\":\"1532\",\"type\":\"Line\"},{\"attributes\":{\"axis_label\":\"1-Specificity\",\"coordinates\":null,\"formatter\":{\"id\":\"1542\"},\"group\":null,\"major_label_policy\":{\"id\":\"1543\"},\"ticker\":{\"id\":\"1510\"}},\"id\":\"1509\",\"type\":\"LinearAxis\"},{\"attributes\":{},\"id\":\"1518\",\"type\":\"WheelZoomTool\"},{\"attributes\":{\"coordinates\":null,\"data_source\":{\"id\":\"1531\"},\"glyph\":{\"id\":\"1532\"},\"group\":null,\"hover_glyph\":null,\"muted_glyph\":{\"id\":\"1534\"},\"nonselection_glyph\":{\"id\":\"1533\"},\"view\":{\"id\":\"1536\"}},\"id\":\"1535\",\"type\":\"GlyphRenderer\"},{\"attributes\":{\"axis_label\":\"Sensitiviy\",\"coordinates\":null,\"formatter\":{\"id\":\"1539\"},\"group\":null,\"major_label_policy\":{\"id\":\"1540\"},\"ticker\":{\"id\":\"1514\"}},\"id\":\"1513\",\"type\":\"LinearAxis\"},{\"attributes\":{\"line_alpha\":0.1,\"line_color\":\"#e67e22\",\"line_width\":2,\"x\":{\"field\":\"x\"},\"y\":{\"field\":\"y\"}},\"id\":\"1533\",\"type\":\"Line\"},{\"attributes\":{},\"id\":\"1501\",\"type\":\"DataRange1d\"},{\"attributes\":{},\"id\":\"1514\",\"type\":\"BasicTicker\"},{\"attributes\":{},\"id\":\"1539\",\"type\":\"BasicTickFormatter\"},{\"attributes\":{\"data\":{\"x\":{\"__ndarray__\":\"AAAAAAAAAAAAAAAAAAAAAAAAAAAAAAAAAAAAAAAAAAAAAAAAAAAAAAAAAAAAAAAAAAAAAAAAAABVVVVVVVWFP1VVVVVVVYU/VVVVVVVVlT9VVVVVVVWVPwAAAAAAAKA/AAAAAAAAoD9VVVVVVVWlP1VVVVVVVaU/AAAAAAAAsD8AAAAAAACwPwAAAAAAALg/AAAAAAAAuD8AAAAAAADAPwAAAAAAAMA/AAAAAAAA8D8=\",\"dtype\":\"float64\",\"order\":\"little\",\"shape\":[22]},\"y\":{\"__ndarray__\":\"AAAAAAAAAADzwyJl4OnWP0J7Ce0ltNc/flikDDzd2j+6NT8sUgbeP9St+WGRMuA/ysDTrflh4T/KwNOt+WHhP5sfFikDT+c/mx8WKQNP5z/EImXg6dbsP8QiZeDp1uw/ujU/LFIG7j+6NT8sUgbuP2KRMvB0a+4/YpEy8HRr7j8J7SW0l9DuPwntJbSX0O4/WKQMPN2a7z9YpAw83ZrvPwAAAAAAAPA/AAAAAAAA8D8=\",\"dtype\":\"float64\",\"order\":\"little\",\"shape\":[22]}},\"selected\":{\"id\":\"1545\"},\"selection_policy\":{\"id\":\"1544\"}},\"id\":\"1531\",\"type\":\"ColumnDataSource\"},{\"attributes\":{\"coordinates\":null,\"group\":null,\"text\":\"ROC Curve for MLP\"},\"id\":\"1499\",\"type\":\"Title\"},{\"attributes\":{},\"id\":\"1522\",\"type\":\"HelpTool\"},{\"attributes\":{},\"id\":\"1542\",\"type\":\"BasicTickFormatter\"},{\"attributes\":{},\"id\":\"1520\",\"type\":\"SaveTool\"},{\"attributes\":{\"bottom_units\":\"screen\",\"coordinates\":null,\"fill_alpha\":0.5,\"fill_color\":\"lightgrey\",\"group\":null,\"left_units\":\"screen\",\"level\":\"overlay\",\"line_alpha\":1.0,\"line_color\":\"black\",\"line_dash\":[4,4],\"line_width\":2,\"right_units\":\"screen\",\"syncable\":false,\"top_units\":\"screen\"},\"id\":\"1523\",\"type\":\"BoxAnnotation\"},{\"attributes\":{\"axis\":{\"id\":\"1513\"},\"coordinates\":null,\"dimension\":1,\"group\":null,\"ticker\":null},\"id\":\"1516\",\"type\":\"Grid\"},{\"attributes\":{\"tools\":[{\"id\":\"1517\"},{\"id\":\"1518\"},{\"id\":\"1519\"},{\"id\":\"1520\"},{\"id\":\"1521\"},{\"id\":\"1522\"}]},\"id\":\"1524\",\"type\":\"Toolbar\"},{\"attributes\":{\"axis\":{\"id\":\"1509\"},\"coordinates\":null,\"group\":null,\"ticker\":null},\"id\":\"1512\",\"type\":\"Grid\"},{\"attributes\":{},\"id\":\"1505\",\"type\":\"LinearScale\"},{\"attributes\":{},\"id\":\"1543\",\"type\":\"AllLabels\"},{\"attributes\":{},\"id\":\"1521\",\"type\":\"ResetTool\"},{\"attributes\":{\"line_alpha\":0.2,\"line_color\":\"#e67e22\",\"line_width\":2,\"x\":{\"field\":\"x\"},\"y\":{\"field\":\"y\"}},\"id\":\"1534\",\"type\":\"Line\"},{\"attributes\":{},\"id\":\"1545\",\"type\":\"Selection\"},{\"attributes\":{},\"id\":\"1503\",\"type\":\"DataRange1d\"},{\"attributes\":{},\"id\":\"1544\",\"type\":\"UnionRenderers\"},{\"attributes\":{},\"id\":\"1507\",\"type\":\"LinearScale\"},{\"attributes\":{},\"id\":\"1510\",\"type\":\"BasicTicker\"},{\"attributes\":{},\"id\":\"1540\",\"type\":\"AllLabels\"},{\"attributes\":{\"overlay\":{\"id\":\"1523\"}},\"id\":\"1519\",\"type\":\"BoxZoomTool\"},{\"attributes\":{\"coordinates\":null,\"group\":null,\"items\":[{\"id\":\"1548\"}],\"location\":\"bottom_right\"},\"id\":\"1547\",\"type\":\"Legend\"}],\"root_ids\":[\"1498\"]},\"title\":\"Bokeh Application\",\"version\":\"2.4.2\"}};\n  const render_items = [{\"docid\":\"51dd0cdc-878e-4796-97b4-62ed29456bff\",\"root_ids\":[\"1498\"],\"roots\":{\"1498\":\"8c119fcb-c64d-4581-b16b-1a3eb60ded15\"}}];\n  root.Bokeh.embed.embed_items_notebook(docs_json, render_items);\n\n  }\n  if (root.Bokeh !== undefined) {\n    embed_document(root);\n  } else {\n    let attempts = 0;\n    const timer = setInterval(function(root) {\n      if (root.Bokeh !== undefined) {\n        clearInterval(timer);\n        embed_document(root);\n      } else {\n        attempts++;\n        if (attempts > 100) {\n          clearInterval(timer);\n          console.log(\"Bokeh: ERROR: Unable to run BokehJS code because BokehJS library is missing\");\n        }\n      }\n    }, 10, root)\n  }\n})(window);",
      "application/vnd.bokehjs_exec.v0+json": ""
     },
     "metadata": {
      "application/vnd.bokehjs_exec.v0+json": {
       "id": "1498"
      }
     },
     "output_type": "display_data"
    }
   ],
   "source": [
    "p = figure(title=\"ROC Curve for MLP\", x_axis_label='1-Specificity', y_axis_label='Sensitiviy')\n",
    "p.line(fpr_mlp, tpr_mlp, line_width=2, legend='ROC for Single-Layered Network, AUC:{0:.2f}'.format(auc(fpr_mlp,tpr_mlp)), color='#e67e22')\n",
    "\n",
    "#p.add_layout(legend='ROC for Single-Layered Network, AUC:{0:.2f}'.format(auc(fpr_mlp,tpr_mlp)))\n",
    "p.legend.location = \"bottom_right\"\n",
    "show(p)\n",
    "\n"
   ]
  },
  {
   "cell_type": "markdown",
   "metadata": {},
   "source": [
    "Try with top 10% features"
   ]
  },
  {
   "cell_type": "code",
   "execution_count": 541,
   "metadata": {},
   "outputs": [],
   "source": [
    "opt_model = Sequential()\n",
    "opt_model.add(Dense(110, input_shape=(1010,), kernel_initializer='glorot_normal', activation='tanh', kernel_constraint=MaxNorm(5)))\n",
    "opt_model.add(Dropout(0.3))\n",
    "opt_model.add(Dense(1, kernel_initializer='glorot_normal', activation='sigmoid'))"
   ]
  },
  {
   "cell_type": "code",
   "execution_count": 542,
   "metadata": {},
   "outputs": [],
   "source": [
    "opt_model.compile(loss='binary_crossentropy', optimizer='RMSprop', metrics=['accuracy'])"
   ]
  },
  {
   "cell_type": "code",
   "execution_count": 543,
   "metadata": {},
   "outputs": [
    {
     "name": "stdout",
     "output_type": "stream",
     "text": [
      "Epoch 1/10\n",
      "36/36 [==============================] - 1s 3ms/step - loss: 0.4024 - accuracy: 0.8091\n",
      "Epoch 2/10\n",
      "36/36 [==============================] - 0s 3ms/step - loss: 0.1662 - accuracy: 0.9434\n",
      "Epoch 3/10\n",
      "36/36 [==============================] - 0s 3ms/step - loss: 0.1177 - accuracy: 0.9675\n",
      "Epoch 4/10\n",
      "36/36 [==============================] - 0s 2ms/step - loss: 0.0766 - accuracy: 0.9859\n",
      "Epoch 5/10\n",
      "36/36 [==============================] - 0s 2ms/step - loss: 0.0558 - accuracy: 0.9887\n",
      "Epoch 6/10\n",
      "36/36 [==============================] - 0s 2ms/step - loss: 0.0304 - accuracy: 0.9972\n",
      "Epoch 7/10\n",
      "36/36 [==============================] - 0s 2ms/step - loss: 0.0248 - accuracy: 0.9972\n",
      "Epoch 8/10\n",
      "36/36 [==============================] - 0s 2ms/step - loss: 0.0124 - accuracy: 1.0000\n",
      "Epoch 9/10\n",
      "36/36 [==============================] - 0s 2ms/step - loss: 0.0204 - accuracy: 0.9958\n",
      "Epoch 10/10\n",
      "36/36 [==============================] - 0s 2ms/step - loss: 0.0055 - accuracy: 1.0000\n"
     ]
    },
    {
     "data": {
      "text/plain": [
       "<keras.callbacks.History at 0x7f80a02bb0a0>"
      ]
     },
     "execution_count": 543,
     "metadata": {},
     "output_type": "execute_result"
    }
   ],
   "source": [
    "opt_model.fit(X_train_filtered, y_train,  epochs=10, batch_size=20)"
   ]
  },
  {
   "cell_type": "code",
   "execution_count": 544,
   "metadata": {},
   "outputs": [
    {
     "name": "stdout",
     "output_type": "stream",
     "text": [
      "6/6 [==============================] - 0s 1ms/step - loss: 0.2381 - accuracy: 0.9322\n"
     ]
    }
   ],
   "source": [
    "_, accuracy = opt_model.evaluate(X_valid_filtered, y_valid)"
   ]
  },
  {
   "cell_type": "code",
   "execution_count": 545,
   "metadata": {},
   "outputs": [
    {
     "name": "stdout",
     "output_type": "stream",
     "text": [
      "7/7 [==============================] - 0s 1ms/step - loss: 0.2279 - accuracy: 0.9231\n"
     ]
    }
   ],
   "source": [
    "_, accuracy = opt_model.evaluate(X_test_filtered, y_test)"
   ]
  },
  {
   "cell_type": "code",
   "execution_count": 547,
   "metadata": {},
   "outputs": [
    {
     "data": {
      "text/plain": [
       "(177, 1010)"
      ]
     },
     "execution_count": 547,
     "metadata": {},
     "output_type": "execute_result"
    }
   ],
   "source": [
    "X_valid_filtered.shape"
   ]
  },
  {
   "cell_type": "code",
   "execution_count": 548,
   "metadata": {},
   "outputs": [
    {
     "name": "stdout",
     "output_type": "stream",
     "text": [
      "6/6 [==============================] - 0s 2ms/step\n"
     ]
    },
    {
     "data": {
      "image/png": "[encoded data removed]",
      "text/plain": [
       "<Figure size 576x396 with 2 Axes>"
      ]
     },
     "metadata": {
      "needs_background": "light"
     },
     "output_type": "display_data"
    }
   ],
   "source": [
    "preds_valid = (opt_model.predict(X_valid_filtered) > 0.5).astype(\"int32\")\n",
    "preds_valid = preds_valid.reshape(177,)\n",
    "cm_valid = confusion_matrix(y_valid,preds_valid)\n",
    "new_make_cm(cm_valid, y_valid, preds_valid, 'MLP Filtered Validation Set')"
   ]
  },
  {
   "cell_type": "code",
   "execution_count": 549,
   "metadata": {},
   "outputs": [
    {
     "data": {
      "text/plain": [
       "(221, 1010)"
      ]
     },
     "execution_count": 549,
     "metadata": {},
     "output_type": "execute_result"
    }
   ],
   "source": [
    "X_test_filtered.shape"
   ]
  },
  {
   "cell_type": "code",
   "execution_count": 550,
   "metadata": {},
   "outputs": [
    {
     "name": "stdout",
     "output_type": "stream",
     "text": [
      "7/7 [==============================] - 0s 1ms/step\n"
     ]
    },
    {
     "data": {
      "image/png": "[encoded data removed]",
      "text/plain": [
       "<Figure size 576x396 with 2 Axes>"
      ]
     },
     "metadata": {
      "needs_background": "light"
     },
     "output_type": "display_data"
    }
   ],
   "source": [
    "preds_test = (opt_model.predict(X_test_filtered) > 0.5).astype(\"int32\")\n",
    "preds_test = preds_test.reshape(221,)\n",
    "cm_test = confusion_matrix(y_test,preds_test)\n",
    "new_make_cm(cm_test, y_test, preds_test, 'MLP Filtered Test Set')"
   ]
  },
  {
   "cell_type": "code",
   "execution_count": 551,
   "metadata": {},
   "outputs": [
    {
     "name": "stdout",
     "output_type": "stream",
     "text": [
      "6/6 [==============================] - 0s 1ms/step\n"
     ]
    }
   ],
   "source": [
    "fpr_mlp, tpr_mlp, thresholds_mlp = roc_curve(y_valid,\n",
    "                                             opt_model.predict(X_valid_filtered),\n",
    "                                             pos_label=1)"
   ]
  },
  {
   "cell_type": "code",
   "execution_count": 552,
   "metadata": {},
   "outputs": [
    {
     "name": "stderr",
     "output_type": "stream",
     "text": [
      "BokehDeprecationWarning: 'legend' keyword is deprecated, use explicit 'legend_label', 'legend_field', or 'legend_group' keywords instead\n"
     ]
    },
    {
     "data": {
      "text/html": [
       "\n",
       "\n",
       "\n",
       "\n",
       "\n",
       "\n",
       "  <div class=\"bk-root\" id=\"59917ee9-23b7-49a8-9a25-863717d9fbb9\" data-root-id=\"1619\"></div>\n"
      ]
     },
     "metadata": {},
     "output_type": "display_data"
    },
    {
     "data": {
      "application/javascript": "(function(root) {\n  function embed_document(root) {\n    \n  const docs_json = {\"e846329b-2c81-4136-b218-6c08bba87ef6\":{\"defs\":[],\"roots\":{\"references\":[{\"attributes\":{\"below\":[{\"id\":\"1630\"}],\"center\":[{\"id\":\"1633\"},{\"id\":\"1637\"},{\"id\":\"1668\"}],\"left\":[{\"id\":\"1634\"}],\"renderers\":[{\"id\":\"1656\"}],\"title\":{\"id\":\"1620\"},\"toolbar\":{\"id\":\"1645\"},\"x_range\":{\"id\":\"1622\"},\"x_scale\":{\"id\":\"1626\"},\"y_range\":{\"id\":\"1624\"},\"y_scale\":{\"id\":\"1628\"}},\"id\":\"1619\",\"subtype\":\"Figure\",\"type\":\"Plot\"},{\"attributes\":{\"line_alpha\":0.2,\"line_color\":\"#e67e22\",\"line_width\":2,\"x\":{\"field\":\"x\"},\"y\":{\"field\":\"y\"}},\"id\":\"1655\",\"type\":\"Line\"},{\"attributes\":{},\"id\":\"1624\",\"type\":\"DataRange1d\"},{\"attributes\":{\"axis\":{\"id\":\"1634\"},\"coordinates\":null,\"dimension\":1,\"group\":null,\"ticker\":null},\"id\":\"1637\",\"type\":\"Grid\"},{\"attributes\":{},\"id\":\"1661\",\"type\":\"AllLabels\"},{\"attributes\":{\"data\":{\"x\":{\"__ndarray__\":\"AAAAAAAAAAAAAAAAAAAAAAAAAAAAAAAAAAAAAAAAAAAAAAAAAAAAAAAAAAAAAAAAAAAAAAAAAABVVVVVVVWFP1VVVVVVVYU/VVVVVVVVlT9VVVVVVVWVPwAAAAAAAKA/AAAAAAAAoD+rqqqqqqqqP6uqqqqqqqo/AAAAAAAAsD8AAAAAAACwP6uqqqqqqrI/q6qqqqqqsj9VVVVVVVW1P1VVVVVVVbU/q6qqqqqquj+rqqqqqqq6P1VVVVVVVcU/VVVVVVVVxT8AAAAAAADwPw==\",\"dtype\":\"float64\",\"order\":\"little\",\"shape\":[26]},\"y\":{\"__ndarray__\":\"AAAAAAAAAADg6db8sEipP6QMPN2aH7Y/ysDTrflhwT+kDDzdmh/GP+Dp1vywSMk/zQ+LlIGn2z/ND4uUgafbP1VVVVVVVeU/VVVVVVVV5T85juM4juPoPzmO4ziO4+g/JrSX0F5C6z8mtJfQXkLrP3VrflikDOw/dWt+WKQM7D+6NT8sUgbuP7o1PyxSBu4/YpEy8HRr7j9ikTLwdGvuPwntJbSX0O4/Ce0ltJfQ7j9YpAw83ZrvP1ikDDzdmu8/AAAAAAAA8D8AAAAAAADwPw==\",\"dtype\":\"float64\",\"order\":\"little\",\"shape\":[26]}},\"selected\":{\"id\":\"1666\"},\"selection_policy\":{\"id\":\"1665\"}},\"id\":\"1652\",\"type\":\"ColumnDataSource\"},{\"attributes\":{\"axis\":{\"id\":\"1630\"},\"coordinates\":null,\"group\":null,\"ticker\":null},\"id\":\"1633\",\"type\":\"Grid\"},{\"attributes\":{\"coordinates\":null,\"data_source\":{\"id\":\"1652\"},\"glyph\":{\"id\":\"1653\"},\"group\":null,\"hover_glyph\":null,\"muted_glyph\":{\"id\":\"1655\"},\"nonselection_glyph\":{\"id\":\"1654\"},\"view\":{\"id\":\"1657\"}},\"id\":\"1656\",\"type\":\"GlyphRenderer\"},{\"attributes\":{\"source\":{\"id\":\"1652\"}},\"id\":\"1657\",\"type\":\"CDSView\"},{\"attributes\":{},\"id\":\"1666\",\"type\":\"Selection\"},{\"attributes\":{},\"id\":\"1660\",\"type\":\"BasicTickFormatter\"},{\"attributes\":{\"line_alpha\":0.1,\"line_color\":\"#e67e22\",\"line_width\":2,\"x\":{\"field\":\"x\"},\"y\":{\"field\":\"y\"}},\"id\":\"1654\",\"type\":\"Line\"},{\"attributes\":{},\"id\":\"1639\",\"type\":\"WheelZoomTool\"},{\"attributes\":{},\"id\":\"1643\",\"type\":\"HelpTool\"},{\"attributes\":{\"label\":{\"value\":\"ROC for Single-Layered Network, AUC:0.98\"},\"renderers\":[{\"id\":\"1656\"}]},\"id\":\"1669\",\"type\":\"LegendItem\"},{\"attributes\":{\"line_color\":\"#e67e22\",\"line_width\":2,\"x\":{\"field\":\"x\"},\"y\":{\"field\":\"y\"}},\"id\":\"1653\",\"type\":\"Line\"},{\"attributes\":{},\"id\":\"1641\",\"type\":\"SaveTool\"},{\"attributes\":{\"tools\":[{\"id\":\"1638\"},{\"id\":\"1639\"},{\"id\":\"1640\"},{\"id\":\"1641\"},{\"id\":\"1642\"},{\"id\":\"1643\"}]},\"id\":\"1645\",\"type\":\"Toolbar\"},{\"attributes\":{\"axis_label\":\"Sensitiviy\",\"coordinates\":null,\"formatter\":{\"id\":\"1660\"},\"group\":null,\"major_label_policy\":{\"id\":\"1661\"},\"ticker\":{\"id\":\"1635\"}},\"id\":\"1634\",\"type\":\"LinearAxis\"},{\"attributes\":{},\"id\":\"1635\",\"type\":\"BasicTicker\"},{\"attributes\":{},\"id\":\"1663\",\"type\":\"BasicTickFormatter\"},{\"attributes\":{\"bottom_units\":\"screen\",\"coordinates\":null,\"fill_alpha\":0.5,\"fill_color\":\"lightgrey\",\"group\":null,\"left_units\":\"screen\",\"level\":\"overlay\",\"line_alpha\":1.0,\"line_color\":\"black\",\"line_dash\":[4,4],\"line_width\":2,\"right_units\":\"screen\",\"syncable\":false,\"top_units\":\"screen\"},\"id\":\"1644\",\"type\":\"BoxAnnotation\"},{\"attributes\":{},\"id\":\"1638\",\"type\":\"PanTool\"},{\"attributes\":{},\"id\":\"1631\",\"type\":\"BasicTicker\"},{\"attributes\":{},\"id\":\"1626\",\"type\":\"LinearScale\"},{\"attributes\":{},\"id\":\"1622\",\"type\":\"DataRange1d\"},{\"attributes\":{},\"id\":\"1628\",\"type\":\"LinearScale\"},{\"attributes\":{\"coordinates\":null,\"group\":null,\"items\":[{\"id\":\"1669\"}],\"location\":\"bottom_right\"},\"id\":\"1668\",\"type\":\"Legend\"},{\"attributes\":{},\"id\":\"1665\",\"type\":\"UnionRenderers\"},{\"attributes\":{\"coordinates\":null,\"group\":null,\"text\":\"ROC Curve for MLP Filtered\"},\"id\":\"1620\",\"type\":\"Title\"},{\"attributes\":{\"axis_label\":\"1-Specificity\",\"coordinates\":null,\"formatter\":{\"id\":\"1663\"},\"group\":null,\"major_label_policy\":{\"id\":\"1664\"},\"ticker\":{\"id\":\"1631\"}},\"id\":\"1630\",\"type\":\"LinearAxis\"},{\"attributes\":{\"overlay\":{\"id\":\"1644\"}},\"id\":\"1640\",\"type\":\"BoxZoomTool\"},{\"attributes\":{},\"id\":\"1642\",\"type\":\"ResetTool\"},{\"attributes\":{},\"id\":\"1664\",\"type\":\"AllLabels\"}],\"root_ids\":[\"1619\"]},\"title\":\"Bokeh Application\",\"version\":\"2.4.2\"}};\n  const render_items = [{\"docid\":\"e846329b-2c81-4136-b218-6c08bba87ef6\",\"root_ids\":[\"1619\"],\"roots\":{\"1619\":\"59917ee9-23b7-49a8-9a25-863717d9fbb9\"}}];\n  root.Bokeh.embed.embed_items_notebook(docs_json, render_items);\n\n  }\n  if (root.Bokeh !== undefined) {\n    embed_document(root);\n  } else {\n    let attempts = 0;\n    const timer = setInterval(function(root) {\n      if (root.Bokeh !== undefined) {\n        clearInterval(timer);\n        embed_document(root);\n      } else {\n        attempts++;\n        if (attempts > 100) {\n          clearInterval(timer);\n          console.log(\"Bokeh: ERROR: Unable to run BokehJS code because BokehJS library is missing\");\n        }\n      }\n    }, 10, root)\n  }\n})(window);",
      "application/vnd.bokehjs_exec.v0+json": ""
     },
     "metadata": {
      "application/vnd.bokehjs_exec.v0+json": {
       "id": "1619"
      }
     },
     "output_type": "display_data"
    }
   ],
   "source": [
    "p = figure(title=\"ROC Curve for MLP Filtered\", x_axis_label='1-Specificity', y_axis_label='Sensitiviy')\n",
    "p.line(fpr_mlp, tpr_mlp, line_width=2, legend='ROC for Single-Layered Network, AUC:{0:.2f}'.format(auc(fpr_mlp,tpr_mlp)), color='#e67e22')\n",
    "\n",
    "#p.add_layout(legend='ROC for Single-Layered Network, AUC:{0:.2f}'.format(auc(fpr_mlp,tpr_mlp)))\n",
    "p.legend.location = \"bottom_right\"\n",
    "show(p)\n",
    "\n"
   ]
  }
 ],
 "metadata": {
  "interpreter": {
   "hash": "683986238d6c938cc366aabef6ec3935713f26c6bebb4dfe84e9873716647815"
  },
  "kernelspec": {
   "display_name": "Python 3.8.13 ('mmlp')",
   "language": "python",
   "name": "python3"
  },
  "language_info": {
   "codemirror_mode": {
    "name": "ipython",
    "version": 3
   },
   "file_extension": ".py",
   "mimetype": "text/x-python",
   "name": "python",
   "nbconvert_exporter": "python",
   "pygments_lexer": "ipython3",
   "version": "3.8.13"
  },
  "orig_nbformat": 4
 },
 "nbformat": 4,
 "nbformat_minor": 2
}
